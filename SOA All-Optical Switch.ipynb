{
 "cells": [
  {
   "cell_type": "markdown",
   "metadata": {},
   "source": [
    "# An All Optical Switch with Semicondctor Optical Amplifiers"
   ]
  },
  {
   "cell_type": "code",
   "execution_count": 8,
   "metadata": {
    "collapsed": false
   },
   "outputs": [
    {
     "data": {
      "text/html": [
       "<a href=\"http://imgur.com/NmvTs9R\"><img src=\"http://i.imgur.com/NmvTs9R.jpg\" title=\"source: imgur.com\" /></a>"
      ],
      "text/plain": [
       "<IPython.core.display.HTML object>"
      ]
     },
     "execution_count": 8,
     "metadata": {},
     "output_type": "execute_result"
    }
   ],
   "source": [
    "from IPython.core.display import HTML\n",
    "HTML('<a href=\"http://imgur.com/NmvTs9R\"><img src=\"http://i.imgur.com/NmvTs9R.jpg\" title=\"source: imgur.com\" /></a>')"
   ]
  },
  {
   "cell_type": "markdown",
   "metadata": {},
   "source": [
    "The output signal for the switch depends on the relative phase and gain of the optical amplfiers, which is contoled with the optical control signal. The equation for the signal output is:\n",
    "$$SW = {1 \\over 4}\\left( {{G_1} + {G_2} - 2 \\cdot \\sqrt {{G_1} \\cdot {G_2}}  \\cdot \\cos \\left( {{\\varphi _1} - {\\varphi _2}} \\right)} \\right)$$"
   ]
  },
  {
   "cell_type": "code",
   "execution_count": 1,
   "metadata": {
    "collapsed": false
   },
   "outputs": [
    {
     "name": "stdout",
     "output_type": "stream",
     "text": [
      "Signal Output =\n"
     ]
    },
    {
     "data": {
      "text/plain": [
       "0.0"
      ]
     },
     "metadata": {},
     "output_type": "display_data"
    }
   ],
   "source": [
    "import numpy as np\n",
    "from ipywidgets import interact, FloatSlider, ToggleButtons\n",
    "\n",
    "\n",
    "G1_slider = FloatSlider(min=1, max=20.0, step=1, value=10.0)\n",
    "G2_slider = FloatSlider(min=1, max=20.0, step=1, value=10.0)\n",
    "Phi1_slider = FloatSlider(min=-np.pi, max=np.pi, step=0.1, value=0)\n",
    "Phi2_slider = FloatSlider(min=-np.pi, max=np.pi, step=0.1, value=0)\n",
    "\n",
    "@interact(G1=G1_slider, G2=G2_slider, Phi1=Phi1_slider, Phi2=Phi2_slider)\n",
    "def output(G1,G2,Phi1,Phi2):\n",
    "    print ('Signal Output =')\n",
    "    return 0.25*(G1 + G2-2.0*(G1*G2)**0.5*np.cos(Phi1-Phi2))"
   ]
  },
  {
   "cell_type": "code",
   "execution_count": null,
   "metadata": {
    "collapsed": true
   },
   "outputs": [],
   "source": []
  }
 ],
 "metadata": {
  "kernelspec": {
   "display_name": "Python 3",
   "language": "python",
   "name": "python3"
  },
  "language_info": {
   "codemirror_mode": {
    "name": "ipython",
    "version": 3
   },
   "file_extension": ".py",
   "mimetype": "text/x-python",
   "name": "python",
   "nbconvert_exporter": "python",
   "pygments_lexer": "ipython3",
   "version": "3.5.1"
  }
 },
 "nbformat": 4,
 "nbformat_minor": 0
}
