{
 "cells": [
  {
   "cell_type": "code",
   "execution_count": 6,
   "metadata": {
    "hide_input": true,
    "scrolled": true
   },
   "outputs": [
    {
     "data": {
      "text/html": [
       "\n",
       "    <div class=\"bk-root\">\n",
       "        <a href=\"https://bokeh.pydata.org\" target=\"_blank\" class=\"bk-logo bk-logo-small bk-logo-notebook\"></a>\n",
       "        <span id=\"7a659f57-66c3-4476-a2f9-64dab04969f5\">Loading BokehJS ...</span>\n",
       "    </div>"
      ]
     },
     "metadata": {},
     "output_type": "display_data"
    },
    {
     "data": {
      "application/javascript": [
       "\n",
       "(function(root) {\n",
       "  function now() {\n",
       "    return new Date();\n",
       "  }\n",
       "\n",
       "  var force = true;\n",
       "\n",
       "  if (typeof (root._bokeh_onload_callbacks) === \"undefined\" || force === true) {\n",
       "    root._bokeh_onload_callbacks = [];\n",
       "    root._bokeh_is_loading = undefined;\n",
       "  }\n",
       "\n",
       "  var JS_MIME_TYPE = 'application/javascript';\n",
       "  var HTML_MIME_TYPE = 'text/html';\n",
       "  var EXEC_MIME_TYPE = 'application/vnd.bokehjs_exec.v0+json';\n",
       "  var CLASS_NAME = 'output_bokeh rendered_html';\n",
       "\n",
       "  /**\n",
       "   * Render data to the DOM node\n",
       "   */\n",
       "  function render(props, node) {\n",
       "    var script = document.createElement(\"script\");\n",
       "    node.appendChild(script);\n",
       "  }\n",
       "\n",
       "  /**\n",
       "   * Handle when an output is cleared or removed\n",
       "   */\n",
       "  function handleClearOutput(event, handle) {\n",
       "    var cell = handle.cell;\n",
       "\n",
       "    var id = cell.output_area._bokeh_element_id;\n",
       "    var server_id = cell.output_area._bokeh_server_id;\n",
       "    // Clean up Bokeh references\n",
       "    if (id !== undefined) {\n",
       "      Bokeh.index[id].model.document.clear();\n",
       "      delete Bokeh.index[id];\n",
       "    }\n",
       "\n",
       "    if (server_id !== undefined) {\n",
       "      // Clean up Bokeh references\n",
       "      var cmd = \"from bokeh.io.state import curstate; print(curstate().uuid_to_server['\" + server_id + \"'].get_sessions()[0].document.roots[0]._id)\";\n",
       "      cell.notebook.kernel.execute(cmd, {\n",
       "        iopub: {\n",
       "          output: function(msg) {\n",
       "            var element_id = msg.content.text.trim();\n",
       "            Bokeh.index[element_id].model.document.clear();\n",
       "            delete Bokeh.index[element_id];\n",
       "          }\n",
       "        }\n",
       "      });\n",
       "      // Destroy server and session\n",
       "      var cmd = \"import bokeh.io.notebook as ion; ion.destroy_server('\" + server_id + \"')\";\n",
       "      cell.notebook.kernel.execute(cmd);\n",
       "    }\n",
       "  }\n",
       "\n",
       "  /**\n",
       "   * Handle when a new output is added\n",
       "   */\n",
       "  function handleAddOutput(event, handle) {\n",
       "    var output_area = handle.output_area;\n",
       "    var output = handle.output;\n",
       "\n",
       "    // limit handleAddOutput to display_data with EXEC_MIME_TYPE content only\n",
       "    if ((output.output_type != \"display_data\") || (!output.data.hasOwnProperty(EXEC_MIME_TYPE))) {\n",
       "      return\n",
       "    }\n",
       "\n",
       "    var toinsert = output_area.element.find(\".\" + CLASS_NAME.split(' ')[0]);\n",
       "\n",
       "    if (output.metadata[EXEC_MIME_TYPE][\"id\"] !== undefined) {\n",
       "      toinsert[toinsert.length - 1].firstChild.textContent = output.data[JS_MIME_TYPE];\n",
       "      // store reference to embed id on output_area\n",
       "      output_area._bokeh_element_id = output.metadata[EXEC_MIME_TYPE][\"id\"];\n",
       "    }\n",
       "    if (output.metadata[EXEC_MIME_TYPE][\"server_id\"] !== undefined) {\n",
       "      var bk_div = document.createElement(\"div\");\n",
       "      bk_div.innerHTML = output.data[HTML_MIME_TYPE];\n",
       "      var script_attrs = bk_div.children[0].attributes;\n",
       "      for (var i = 0; i < script_attrs.length; i++) {\n",
       "        toinsert[toinsert.length - 1].firstChild.setAttribute(script_attrs[i].name, script_attrs[i].value);\n",
       "      }\n",
       "      // store reference to server id on output_area\n",
       "      output_area._bokeh_server_id = output.metadata[EXEC_MIME_TYPE][\"server_id\"];\n",
       "    }\n",
       "  }\n",
       "\n",
       "  function register_renderer(events, OutputArea) {\n",
       "\n",
       "    function append_mime(data, metadata, element) {\n",
       "      // create a DOM node to render to\n",
       "      var toinsert = this.create_output_subarea(\n",
       "        metadata,\n",
       "        CLASS_NAME,\n",
       "        EXEC_MIME_TYPE\n",
       "      );\n",
       "      this.keyboard_manager.register_events(toinsert);\n",
       "      // Render to node\n",
       "      var props = {data: data, metadata: metadata[EXEC_MIME_TYPE]};\n",
       "      render(props, toinsert[toinsert.length - 1]);\n",
       "      element.append(toinsert);\n",
       "      return toinsert\n",
       "    }\n",
       "\n",
       "    /* Handle when an output is cleared or removed */\n",
       "    events.on('clear_output.CodeCell', handleClearOutput);\n",
       "    events.on('delete.Cell', handleClearOutput);\n",
       "\n",
       "    /* Handle when a new output is added */\n",
       "    events.on('output_added.OutputArea', handleAddOutput);\n",
       "\n",
       "    /**\n",
       "     * Register the mime type and append_mime function with output_area\n",
       "     */\n",
       "    OutputArea.prototype.register_mime_type(EXEC_MIME_TYPE, append_mime, {\n",
       "      /* Is output safe? */\n",
       "      safe: true,\n",
       "      /* Index of renderer in `output_area.display_order` */\n",
       "      index: 0\n",
       "    });\n",
       "  }\n",
       "\n",
       "  // register the mime type if in Jupyter Notebook environment and previously unregistered\n",
       "  if (root.Jupyter !== undefined) {\n",
       "    var events = require('base/js/events');\n",
       "    var OutputArea = require('notebook/js/outputarea').OutputArea;\n",
       "\n",
       "    if (OutputArea.prototype.mime_types().indexOf(EXEC_MIME_TYPE) == -1) {\n",
       "      register_renderer(events, OutputArea);\n",
       "    }\n",
       "  }\n",
       "\n",
       "  \n",
       "  if (typeof (root._bokeh_timeout) === \"undefined\" || force === true) {\n",
       "    root._bokeh_timeout = Date.now() + 5000;\n",
       "    root._bokeh_failed_load = false;\n",
       "  }\n",
       "\n",
       "  var NB_LOAD_WARNING = {'data': {'text/html':\n",
       "     \"<div style='background-color: #fdd'>\\n\"+\n",
       "     \"<p>\\n\"+\n",
       "     \"BokehJS does not appear to have successfully loaded. If loading BokehJS from CDN, this \\n\"+\n",
       "     \"may be due to a slow or bad network connection. Possible fixes:\\n\"+\n",
       "     \"</p>\\n\"+\n",
       "     \"<ul>\\n\"+\n",
       "     \"<li>re-rerun `output_notebook()` to attempt to load from CDN again, or</li>\\n\"+\n",
       "     \"<li>use INLINE resources instead, as so:</li>\\n\"+\n",
       "     \"</ul>\\n\"+\n",
       "     \"<code>\\n\"+\n",
       "     \"from bokeh.resources import INLINE\\n\"+\n",
       "     \"output_notebook(resources=INLINE)\\n\"+\n",
       "     \"</code>\\n\"+\n",
       "     \"</div>\"}};\n",
       "\n",
       "  function display_loaded() {\n",
       "    var el = document.getElementById(\"7a659f57-66c3-4476-a2f9-64dab04969f5\");\n",
       "    if (el != null) {\n",
       "      el.textContent = \"BokehJS is loading...\";\n",
       "    }\n",
       "    if (root.Bokeh !== undefined) {\n",
       "      if (el != null) {\n",
       "        el.textContent = \"BokehJS \" + root.Bokeh.version + \" successfully loaded.\";\n",
       "      }\n",
       "    } else if (Date.now() < root._bokeh_timeout) {\n",
       "      setTimeout(display_loaded, 100)\n",
       "    }\n",
       "  }\n",
       "\n",
       "\n",
       "  function run_callbacks() {\n",
       "    try {\n",
       "      root._bokeh_onload_callbacks.forEach(function(callback) { callback() });\n",
       "    }\n",
       "    finally {\n",
       "      delete root._bokeh_onload_callbacks\n",
       "    }\n",
       "    console.info(\"Bokeh: all callbacks have finished\");\n",
       "  }\n",
       "\n",
       "  function load_libs(js_urls, callback) {\n",
       "    root._bokeh_onload_callbacks.push(callback);\n",
       "    if (root._bokeh_is_loading > 0) {\n",
       "      console.log(\"Bokeh: BokehJS is being loaded, scheduling callback at\", now());\n",
       "      return null;\n",
       "    }\n",
       "    if (js_urls == null || js_urls.length === 0) {\n",
       "      run_callbacks();\n",
       "      return null;\n",
       "    }\n",
       "    console.log(\"Bokeh: BokehJS not loaded, scheduling load and callback at\", now());\n",
       "    root._bokeh_is_loading = js_urls.length;\n",
       "    for (var i = 0; i < js_urls.length; i++) {\n",
       "      var url = js_urls[i];\n",
       "      var s = document.createElement('script');\n",
       "      s.src = url;\n",
       "      s.async = false;\n",
       "      s.onreadystatechange = s.onload = function() {\n",
       "        root._bokeh_is_loading--;\n",
       "        if (root._bokeh_is_loading === 0) {\n",
       "          console.log(\"Bokeh: all BokehJS libraries loaded\");\n",
       "          run_callbacks()\n",
       "        }\n",
       "      };\n",
       "      s.onerror = function() {\n",
       "        console.warn(\"failed to load library \" + url);\n",
       "      };\n",
       "      console.log(\"Bokeh: injecting script tag for BokehJS library: \", url);\n",
       "      document.getElementsByTagName(\"head\")[0].appendChild(s);\n",
       "    }\n",
       "  };var element = document.getElementById(\"7a659f57-66c3-4476-a2f9-64dab04969f5\");\n",
       "  if (element == null) {\n",
       "    console.log(\"Bokeh: ERROR: autoload.js configured with elementid '7a659f57-66c3-4476-a2f9-64dab04969f5' but no matching script tag was found. \")\n",
       "    return false;\n",
       "  }\n",
       "\n",
       "  var js_urls = [\"https://cdn.pydata.org/bokeh/release/bokeh-0.12.16.min.js\", \"https://cdn.pydata.org/bokeh/release/bokeh-widgets-0.12.16.min.js\", \"https://cdn.pydata.org/bokeh/release/bokeh-tables-0.12.16.min.js\", \"https://cdn.pydata.org/bokeh/release/bokeh-gl-0.12.16.min.js\"];\n",
       "\n",
       "  var inline_js = [\n",
       "    function(Bokeh) {\n",
       "      Bokeh.set_log_level(\"info\");\n",
       "    },\n",
       "    \n",
       "    function(Bokeh) {\n",
       "      \n",
       "    },\n",
       "    function(Bokeh) {\n",
       "      console.log(\"Bokeh: injecting CSS: https://cdn.pydata.org/bokeh/release/bokeh-0.12.16.min.css\");\n",
       "      Bokeh.embed.inject_css(\"https://cdn.pydata.org/bokeh/release/bokeh-0.12.16.min.css\");\n",
       "      console.log(\"Bokeh: injecting CSS: https://cdn.pydata.org/bokeh/release/bokeh-widgets-0.12.16.min.css\");\n",
       "      Bokeh.embed.inject_css(\"https://cdn.pydata.org/bokeh/release/bokeh-widgets-0.12.16.min.css\");\n",
       "      console.log(\"Bokeh: injecting CSS: https://cdn.pydata.org/bokeh/release/bokeh-tables-0.12.16.min.css\");\n",
       "      Bokeh.embed.inject_css(\"https://cdn.pydata.org/bokeh/release/bokeh-tables-0.12.16.min.css\");\n",
       "    }\n",
       "  ];\n",
       "\n",
       "  function run_inline_js() {\n",
       "    \n",
       "    if ((root.Bokeh !== undefined) || (force === true)) {\n",
       "      for (var i = 0; i < inline_js.length; i++) {\n",
       "        inline_js[i].call(root, root.Bokeh);\n",
       "      }if (force === true) {\n",
       "        display_loaded();\n",
       "      }} else if (Date.now() < root._bokeh_timeout) {\n",
       "      setTimeout(run_inline_js, 100);\n",
       "    } else if (!root._bokeh_failed_load) {\n",
       "      console.log(\"Bokeh: BokehJS failed to load within specified timeout.\");\n",
       "      root._bokeh_failed_load = true;\n",
       "    } else if (force !== true) {\n",
       "      var cell = $(document.getElementById(\"7a659f57-66c3-4476-a2f9-64dab04969f5\")).parents('.cell').data().cell;\n",
       "      cell.output_area.append_execute_result(NB_LOAD_WARNING)\n",
       "    }\n",
       "\n",
       "  }\n",
       "\n",
       "  if (root._bokeh_is_loading === 0) {\n",
       "    console.log(\"Bokeh: BokehJS loaded, going straight to plotting\");\n",
       "    run_inline_js();\n",
       "  } else {\n",
       "    load_libs(js_urls, function() {\n",
       "      console.log(\"Bokeh: BokehJS plotting callback run at\", now());\n",
       "      run_inline_js();\n",
       "    });\n",
       "  }\n",
       "}(window));"
      ],
      "application/vnd.bokehjs_load.v0+json": "\n(function(root) {\n  function now() {\n    return new Date();\n  }\n\n  var force = true;\n\n  if (typeof (root._bokeh_onload_callbacks) === \"undefined\" || force === true) {\n    root._bokeh_onload_callbacks = [];\n    root._bokeh_is_loading = undefined;\n  }\n\n  \n\n  \n  if (typeof (root._bokeh_timeout) === \"undefined\" || force === true) {\n    root._bokeh_timeout = Date.now() + 5000;\n    root._bokeh_failed_load = false;\n  }\n\n  var NB_LOAD_WARNING = {'data': {'text/html':\n     \"<div style='background-color: #fdd'>\\n\"+\n     \"<p>\\n\"+\n     \"BokehJS does not appear to have successfully loaded. If loading BokehJS from CDN, this \\n\"+\n     \"may be due to a slow or bad network connection. Possible fixes:\\n\"+\n     \"</p>\\n\"+\n     \"<ul>\\n\"+\n     \"<li>re-rerun `output_notebook()` to attempt to load from CDN again, or</li>\\n\"+\n     \"<li>use INLINE resources instead, as so:</li>\\n\"+\n     \"</ul>\\n\"+\n     \"<code>\\n\"+\n     \"from bokeh.resources import INLINE\\n\"+\n     \"output_notebook(resources=INLINE)\\n\"+\n     \"</code>\\n\"+\n     \"</div>\"}};\n\n  function display_loaded() {\n    var el = document.getElementById(\"7a659f57-66c3-4476-a2f9-64dab04969f5\");\n    if (el != null) {\n      el.textContent = \"BokehJS is loading...\";\n    }\n    if (root.Bokeh !== undefined) {\n      if (el != null) {\n        el.textContent = \"BokehJS \" + root.Bokeh.version + \" successfully loaded.\";\n      }\n    } else if (Date.now() < root._bokeh_timeout) {\n      setTimeout(display_loaded, 100)\n    }\n  }\n\n\n  function run_callbacks() {\n    try {\n      root._bokeh_onload_callbacks.forEach(function(callback) { callback() });\n    }\n    finally {\n      delete root._bokeh_onload_callbacks\n    }\n    console.info(\"Bokeh: all callbacks have finished\");\n  }\n\n  function load_libs(js_urls, callback) {\n    root._bokeh_onload_callbacks.push(callback);\n    if (root._bokeh_is_loading > 0) {\n      console.log(\"Bokeh: BokehJS is being loaded, scheduling callback at\", now());\n      return null;\n    }\n    if (js_urls == null || js_urls.length === 0) {\n      run_callbacks();\n      return null;\n    }\n    console.log(\"Bokeh: BokehJS not loaded, scheduling load and callback at\", now());\n    root._bokeh_is_loading = js_urls.length;\n    for (var i = 0; i < js_urls.length; i++) {\n      var url = js_urls[i];\n      var s = document.createElement('script');\n      s.src = url;\n      s.async = false;\n      s.onreadystatechange = s.onload = function() {\n        root._bokeh_is_loading--;\n        if (root._bokeh_is_loading === 0) {\n          console.log(\"Bokeh: all BokehJS libraries loaded\");\n          run_callbacks()\n        }\n      };\n      s.onerror = function() {\n        console.warn(\"failed to load library \" + url);\n      };\n      console.log(\"Bokeh: injecting script tag for BokehJS library: \", url);\n      document.getElementsByTagName(\"head\")[0].appendChild(s);\n    }\n  };var element = document.getElementById(\"7a659f57-66c3-4476-a2f9-64dab04969f5\");\n  if (element == null) {\n    console.log(\"Bokeh: ERROR: autoload.js configured with elementid '7a659f57-66c3-4476-a2f9-64dab04969f5' but no matching script tag was found. \")\n    return false;\n  }\n\n  var js_urls = [\"https://cdn.pydata.org/bokeh/release/bokeh-0.12.16.min.js\", \"https://cdn.pydata.org/bokeh/release/bokeh-widgets-0.12.16.min.js\", \"https://cdn.pydata.org/bokeh/release/bokeh-tables-0.12.16.min.js\", \"https://cdn.pydata.org/bokeh/release/bokeh-gl-0.12.16.min.js\"];\n\n  var inline_js = [\n    function(Bokeh) {\n      Bokeh.set_log_level(\"info\");\n    },\n    \n    function(Bokeh) {\n      \n    },\n    function(Bokeh) {\n      console.log(\"Bokeh: injecting CSS: https://cdn.pydata.org/bokeh/release/bokeh-0.12.16.min.css\");\n      Bokeh.embed.inject_css(\"https://cdn.pydata.org/bokeh/release/bokeh-0.12.16.min.css\");\n      console.log(\"Bokeh: injecting CSS: https://cdn.pydata.org/bokeh/release/bokeh-widgets-0.12.16.min.css\");\n      Bokeh.embed.inject_css(\"https://cdn.pydata.org/bokeh/release/bokeh-widgets-0.12.16.min.css\");\n      console.log(\"Bokeh: injecting CSS: https://cdn.pydata.org/bokeh/release/bokeh-tables-0.12.16.min.css\");\n      Bokeh.embed.inject_css(\"https://cdn.pydata.org/bokeh/release/bokeh-tables-0.12.16.min.css\");\n    }\n  ];\n\n  function run_inline_js() {\n    \n    if ((root.Bokeh !== undefined) || (force === true)) {\n      for (var i = 0; i < inline_js.length; i++) {\n        inline_js[i].call(root, root.Bokeh);\n      }if (force === true) {\n        display_loaded();\n      }} else if (Date.now() < root._bokeh_timeout) {\n      setTimeout(run_inline_js, 100);\n    } else if (!root._bokeh_failed_load) {\n      console.log(\"Bokeh: BokehJS failed to load within specified timeout.\");\n      root._bokeh_failed_load = true;\n    } else if (force !== true) {\n      var cell = $(document.getElementById(\"7a659f57-66c3-4476-a2f9-64dab04969f5\")).parents('.cell').data().cell;\n      cell.output_area.append_execute_result(NB_LOAD_WARNING)\n    }\n\n  }\n\n  if (root._bokeh_is_loading === 0) {\n    console.log(\"Bokeh: BokehJS loaded, going straight to plotting\");\n    run_inline_js();\n  } else {\n    load_libs(js_urls, function() {\n      console.log(\"Bokeh: BokehJS plotting callback run at\", now());\n      run_inline_js();\n    });\n  }\n}(window));"
     },
     "metadata": {},
     "output_type": "display_data"
    }
   ],
   "source": [
    "import numpy as np\n",
    "from numpy import genfromtxt\n",
    "from scipy.interpolate import interp1d\n",
    "from bokeh.plotting import figure, output_notebook, show\n",
    "from bokeh.layouts import row, column\n",
    "from bokeh.io import push_notebook\n",
    "from bokeh.models import Range1d, Label, Span\n",
    "output_notebook()\n",
    "import ipywidgets as widgets\n",
    "from ipywidgets import FloatText, VBox, HBox, IntProgress"
   ]
  },
  {
   "cell_type": "markdown",
   "metadata": {
    "hide_input": true
   },
   "source": [
    "Graph below is from Fundamentals of Fiber Lasers and Fiber Amplifiers, Valerii (Vartan) Ter-Mikirtychev, Springer, 2014"
   ]
  },
  {
   "cell_type": "code",
   "execution_count": 7,
   "metadata": {
    "hide_input": false
   },
   "outputs": [
    {
     "data": {
      "image/jpeg": "[encoded data removed]",
      "text/plain": [
       "<IPython.core.display.Image object>"
      ]
     },
     "execution_count": 7,
     "metadata": {
      "image/jpeg": {
       "width": 600
      }
     },
     "output_type": "execute_result"
    }
   ],
   "source": [
    "from IPython.core.display import Image \n",
    "Image(url='https://i.imgur.com/biIFUfc.jpg',embed=True,width=600)"
   ]
  },
  {
   "cell_type": "markdown",
   "metadata": {
    "hide_input": true
   },
   "source": [
    "Materials Parameters for Yb-Doped Fiber"
   ]
  },
  {
   "cell_type": "code",
   "execution_count": 8,
   "metadata": {
    "hide_input": false
   },
   "outputs": [],
   "source": [
    "sigmaa976 = 4.4e-20 # Absorption cross-section for a Wavelenth of 976 nm in square cm\n",
    "sigmae1064 = 0.3e-20 # Emission cross-section for a Wavelenth of 1064 nm in square cm\n",
    "sigmaa1064 = 0.0 # Absorption cross-section for a wavelength of 1064 nm in square cm\n",
    "tau = 0.84e-3 # Excited state lifetime in seconds"
   ]
  },
  {
   "cell_type": "markdown",
   "metadata": {
    "hide_input": false
   },
   "source": [
    "Paramenters Determined by Fiber Geometry"
   ]
  },
  {
   "cell_type": "code",
   "execution_count": 9,
   "metadata": {
    "hide_input": false
   },
   "outputs": [],
   "source": [
    "gammas = 0.82 # Confinement factor for signals in core"
   ]
  },
  {
   "cell_type": "code",
   "execution_count": 81,
   "metadata": {
    "hide_input": true
   },
   "outputs": [
    {
     "data": {
      "application/vnd.jupyter.widget-view+json": {
       "model_id": "8445c83528a8470ba7729b78bf4131f5",
       "version_major": 2,
       "version_minor": 0
      },
      "text/plain": [
       "HBox(children=(VBox(children=(Label(value='Core Diameter (micron)'), FloatText(value=10.0))), VBox(children=(L…"
      ]
     },
     "metadata": {},
     "output_type": "display_data"
    },
    {
     "data": {
      "application/vnd.jupyter.widget-view+json": {
       "model_id": "5767f90ff6174807ace40c9f7d02aed8",
       "version_major": 2,
       "version_minor": 0
      },
      "text/plain": [
       "HBox(children=(VBox(children=(Label(value='Raman Shift (inverse cm)'), FloatText(value=450.0))), VBox(children…"
      ]
     },
     "metadata": {},
     "output_type": "display_data"
    },
    {
     "data": {
      "application/vnd.jupyter.widget-view+json": {
       "model_id": "d02266145afe4fb9ba3dbedc41729a62",
       "version_major": 2,
       "version_minor": 0
      },
      "text/plain": [
       "HBox(children=(VBox(children=(Label(value='Yb concentration (ppm)'), FloatText(value=1200.0))), VBox(children=…"
      ]
     },
     "metadata": {},
     "output_type": "display_data"
    },
    {
     "data": {
      "application/vnd.jupyter.widget-view+json": {
       "model_id": "2bb61ce0f6ab40108386ac4ee457dd47",
       "version_major": 2,
       "version_minor": 0
      },
      "text/plain": [
       "HBox(children=(VBox(children=(Label(value='Wavelength of Fundamental (nm)'), FloatText(value=1030.0))), VBox(c…"
      ]
     },
     "metadata": {},
     "output_type": "display_data"
    },
    {
     "data": {
      "application/vnd.jupyter.widget-view+json": {
       "model_id": "3ca8966091fb4cbcb9018dfe5c4f29fc",
       "version_major": 2,
       "version_minor": 0
      },
      "text/plain": [
       "HBox(children=(VBox(children=(Label(value='Initial FWHM of Fundamental Pulse (psec)'), FloatText(value=25.0)))…"
      ]
     },
     "metadata": {},
     "output_type": "display_data"
    },
    {
     "data": {
      "application/vnd.jupyter.widget-view+json": {
       "model_id": "76554d45fb4d48b694ac4546ce3e98d6",
       "version_major": 2,
       "version_minor": 0
      },
      "text/plain": [
       "HBox(children=(VBox(children=(Label(value='Seed Power (mW)'), FloatText(value=0.0))), VBox(children=(Label(val…"
      ]
     },
     "metadata": {},
     "output_type": "display_data"
    },
    {
     "data": {
      "application/vnd.jupyter.widget-view+json": {
       "model_id": "9b3f9e0362664250969757500eed8b79",
       "version_major": 2,
       "version_minor": 0
      },
      "text/plain": [
       "HBox(children=(VBox(children=(Label(value='Doped Fiber Length (m)'), FloatText(value=1.0))), VBox(children=(La…"
      ]
     },
     "metadata": {},
     "output_type": "display_data"
    },
    {
     "data": {
      "application/vnd.jupyter.widget-view+json": {
       "model_id": "065cbc3c9e96487195c6afac335a9cce",
       "version_major": 2,
       "version_minor": 0
      },
      "text/plain": [
       "HBox(children=(VBox(children=(Label(value='Undoped Fiber Length (m)'), FloatText(value=0.0))), VBox(children=(…"
      ]
     },
     "metadata": {},
     "output_type": "display_data"
    }
   ],
   "source": [
    "# Stage 1\n",
    "coreD_widget=widgets.FloatText(value=10, disabled=False)\n",
    "cladD_widget=widgets.FloatText(value=125, disabled=False)\n",
    "fiber_loss_widget=widgets.FloatText(value=1.0, disabled=False)\n",
    "display(HBox([VBox([widgets.Label('Core Diameter (micron)'),coreD_widget]),\n",
    "              VBox([widgets.Label('Cladding Diameter (micron)'),cladD_widget]),\n",
    "             VBox([widgets.Label('Fiber Loss (dB/km)'),fiber_loss_widget])]))\n",
    "\n",
    "rshift_widget = widgets.FloatText(value=450, disabled=False)\n",
    "raman_gain_widget=widgets.FloatText(value=4, disabled=False)\n",
    "raman_width_widget=widgets.FloatText(value=200, disabled=False)\n",
    "display(HBox([VBox([widgets.Label('Raman Shift (inverse cm)'), rshift_widget]),\n",
    "              VBox([widgets.Label('Peak Raman Gain (10^-12 cm/W)'), raman_gain_widget]),\n",
    "             VBox([widgets.Label('Raman Curve Width (inverse cm)'), raman_width_widget])]))\n",
    "\n",
    "Yb_conc_widget=widgets.FloatText(value=1200, disabled=False)\n",
    "Ybpump_power_widget=widgets.FloatText(value=9, disabled=False)\n",
    "display(HBox([VBox([widgets.Label('Yb concentration (ppm)'), Yb_conc_widget]),\n",
    "             VBox([widgets.Label('Yb Pump Power (W)'), Ybpump_power_widget])]))\n",
    "\n",
    "fundamental_wavelength_widget=widgets.FloatText(value=1030, disabled=False)\n",
    "sigmae_widget=widgets.FloatText(value=8, disabled=False)\n",
    "display(HBox([VBox([widgets.Label('Wavelength of Fundamental (nm)'), fundamental_wavelength_widget]),\n",
    "            VBox([widgets.Label('Emission Cross-section of Fundamental (10^-21 cm^2)'), sigmae_widget])]))\n",
    "\n",
    "FWHM_widget=widgets.FloatText(value=25, disabled=False)\n",
    "Ep_widget=widgets.FloatText(value=2500, disabled=False)\n",
    "insertion_loss_widget=FloatText(value=0.0, disabled=False)\n",
    "display(HBox([VBox([widgets.Label('Initial FWHM of Fundamental Pulse (psec)'), FWHM_widget]),\n",
    "              VBox([widgets.Label('Initial Pulse Energy (pJ)'), Ep_widget]),\n",
    "             VBox([widgets.Label('Amplifier Insertion Loss (dB)'), insertion_loss_widget])]))\n",
    "\n",
    "seed_power_widget=widgets.FloatText(value=0, disabled=False)\n",
    "seed_wavelength_widget=widgets.FloatText(value=1125, disabled=False)\n",
    "rep_rate_widget=widgets.FloatText(value=1.0, disabled=False)\n",
    "display(HBox([VBox([widgets.Label('Seed Power (mW)'), seed_power_widget]),\n",
    "              VBox([widgets.Label('Seed Wavelength (nm)'), seed_wavelength_widget]),\n",
    "             VBox([widgets.Label('Pulse Repetition Rate (MHz)'), rep_rate_widget])]))\n",
    "\n",
    "Ldoped_widget=widgets.FloatText(value=1, disabled=False)\n",
    "delta_Ld_widget=widgets.FloatText(value=1.0, disabled=False)\n",
    "display(HBox([VBox([widgets.Label('Doped Fiber Length (m)'), Ldoped_widget]),\n",
    "              VBox([widgets.Label('Numerical Step - Doped Fiber Section (cm)'), delta_Ld_widget])]))\n",
    "\n",
    "Lundoped_widget=widgets.FloatText(value=0, disabled=False)\n",
    "delta_Lund_widget=widgets.FloatText(value=1.0, disabled=False)\n",
    "display(HBox([VBox([widgets.Label('Undoped Fiber Length (m)'), Lundoped_widget]),\n",
    "              VBox([widgets.Label('Numerical Step - Undoped Fiber Section (cm)'), delta_Lund_widget])]))"
   ]
  },
  {
   "cell_type": "code",
   "execution_count": 82,
   "metadata": {
    "hide_input": true
   },
   "outputs": [
    {
     "name": "stdout",
     "output_type": "stream",
     "text": [
      "Unsaturated Yb Pump Loss = 3.24 (dB/m)\n",
      "NYb =  2.6497415999999996e+19\n",
      "Ybpump_power =  9.0\n",
      "Excited State Density Nexc0 = 3.53e+20 (#/cm^3)\n",
      "Excited State Density Nexc = 2.46e+19 (#/cm^3)\n",
      "Yb Pump Loss = 0.23 (dB/m)\n",
      "Intital Unsaturated Gain for Fundamental = 32.09 (dB/m)\n",
      "Ps1_sat =  0.07330293013270946\n",
      "Initial ASE Power =  1.0783538152868854e-06 Watt\n",
      "Fundamental Gain =  0.055136770604827474\n"
     ]
    },
    {
     "data": {
      "text/html": [
       "\n",
       "<div class=\"bk-root\">\n",
       "    <div class=\"bk-plotdiv\" id=\"00ea2b14-dcca-41d5-9a78-ea89f4cb2e24\"></div>\n",
       "</div>"
      ]
     },
     "metadata": {},
     "output_type": "display_data"
    },
    {
     "data": {
      "application/javascript": [
       "(function(root) {\n",
       "  function embed_document(root) {\n",
       "    \n",
       "  var docs_json = {\"262da545-459e-4a97-bbcd-3ea66dd9a7c0\":{\"roots\":{\"references\":[{\"attributes\":{},\"id\":\"ed0e3e72-c1f4-4205-ba46-72dd04dfcea4\",\"type\":\"SaveTool\"},{\"attributes\":{\"bottom_units\":\"screen\",\"fill_alpha\":{\"value\":0.5},\"fill_color\":{\"value\":\"lightgrey\"},\"left_units\":\"screen\",\"level\":\"overlay\",\"line_alpha\":{\"value\":1.0},\"line_color\":{\"value\":\"black\"},\"line_dash\":[4,4],\"line_width\":{\"value\":2},\"plot\":null,\"render_mode\":\"css\",\"right_units\":\"screen\",\"top_units\":\"screen\"},\"id\":\"2230dfbe-9a77-4ed3-a8ae-30cdc269014d\",\"type\":\"BoxAnnotation\"},{\"attributes\":{},\"id\":\"ef49c285-bb69-448f-8fac-98f546197a4a\",\"type\":\"ResetTool\"},{\"attributes\":{},\"id\":\"1fdf4018-0e53-4624-b38c-0a03ae3d3591\",\"type\":\"HelpTool\"},{\"attributes\":{},\"id\":\"0e5a727c-c69b-43de-a9b9-a001a5106a47\",\"type\":\"Selection\"},{\"attributes\":{\"label\":{\"value\":\"1030 nm\"},\"renderers\":[{\"id\":\"1919a4e5-0852-4414-b364-e522a016fa62\",\"type\":\"GlyphRenderer\"}]},\"id\":\"6f62811a-8cb6-411d-8c92-72664a472325\",\"type\":\"LegendItem\"},{\"attributes\":{\"source\":{\"id\":\"755be61c-9632-47f6-b679-e6162bad8439\",\"type\":\"ColumnDataSource\"}},\"id\":\"a36dfd4e-92e7-47b0-9fa4-b240813089a7\",\"type\":\"CDSView\"},{\"attributes\":{\"plot\":null,\"text\":\"\"},\"id\":\"e0fb637a-5e76-4159-9bc5-4c639efb7d1a\",\"type\":\"Title\"},{\"attributes\":{\"data_source\":{\"id\":\"755be61c-9632-47f6-b679-e6162bad8439\",\"type\":\"ColumnDataSource\"},\"glyph\":{\"id\":\"781e6bcd-ad2f-4b5a-9413-8440807829a4\",\"type\":\"Line\"},\"hover_glyph\":null,\"muted_glyph\":null,\"nonselection_glyph\":{\"id\":\"a39c7e3a-e286-4d34-b584-93cec8d7c6cc\",\"type\":\"Line\"},\"selection_glyph\":null,\"view\":{\"id\":\"a36dfd4e-92e7-47b0-9fa4-b240813089a7\",\"type\":\"CDSView\"}},\"id\":\"1919a4e5-0852-4414-b364-e522a016fa62\",\"type\":\"GlyphRenderer\"},{\"attributes\":{\"callback\":null,\"data\":{\"x\":{\"__ndarray__\":\"AAAAAAAAacAAAAAAAIBowAAAAAAAAGjAAAAAAACAZ8AAAAAAAABnwAAAAAAAgGbAAAAAAAAAZsAAAAAAAIBlwAAAAAAAAGXAAAAAAACAZMAAAAAAAABkwAAAAAAAgGPAAAAAAAAAY8AAAAAAAIBiwAAAAAAAAGLAAAAAAACAYcAAAAAAAABhwAAAAAAAgGDAAAAAAAAAYMAAAAAAAABfwAAAAAAAAF7AAAAAAAAAXcAAAAAAAABcwAAAAAAAAFvAAAAAAAAAWsAAAAAAAABZwAAAAAAAAFjAAAAAAAAAV8AAAAAAAABWwAAAAAAAAFXAAAAAAAAAVMAAAAAAAABTwAAAAAAAAFLAAAAAAAAAUcAAAAAAAABQwAAAAAAAAE7AAAAAAAAATMAAAAAAAABKwAAAAAAAAEjAAAAAAAAARsAAAAAAAABEwAAAAAAAAELAAAAAAAAAQMAAAAAAAAA8wAAAAAAAADjAAAAAAAAANMAAAAAAAAAwwAAAAAAAACjAAAAAAAAAIMAAAAAAAAAQwAAAAAAAAAAAAAAAAAAAEEAAAAAAAAAgQAAAAAAAAChAAAAAAAAAMEAAAAAAAAA0QAAAAAAAADhAAAAAAAAAPEAAAAAAAABAQAAAAAAAAEJAAAAAAAAAREAAAAAAAABGQAAAAAAAAEhAAAAAAAAASkAAAAAAAABMQAAAAAAAAE5AAAAAAAAAUEAAAAAAAABRQAAAAAAAAFJAAAAAAAAAU0AAAAAAAABUQAAAAAAAAFVAAAAAAAAAVkAAAAAAAABXQAAAAAAAAFhAAAAAAAAAWUAAAAAAAABaQAAAAAAAAFtAAAAAAAAAXEAAAAAAAABdQAAAAAAAAF5AAAAAAAAAX0AAAAAAAABgQAAAAAAAgGBAAAAAAAAAYUAAAAAAAIBhQAAAAAAAAGJAAAAAAACAYkAAAAAAAABjQAAAAAAAgGNAAAAAAAAAZEAAAAAAAIBkQAAAAAAAAGVAAAAAAACAZUAAAAAAAABmQAAAAAAAgGZAAAAAAAAAZ0AAAAAAAIBnQAAAAAAAAGhAAAAAAACAaEAAAAAAAABpQA==\",\"dtype\":\"float64\",\"shape\":[101]},\"y\":{\"__ndarray__\":\"cDELj34Xsj5wMQuPfheyPnAxC49+F7I+cDELj34Xsj5wMQuPfheyPnAxC49+F7I+cDELj34Xsj5wMQuPfheyPnAxC49+F7I+cDELj34Xsj5wMQuPfheyPnAxC49+F7I+cDELj34Xsj5wMQuPfheyPnAxC49+F7I+cDELj34Xsj5wMQuPfheyPnAxC49+F7I+cDELj34Xsj5wMQuPfheyPnAxC49+F7I+cDELj34Xsj5wMQuPfheyPnAxC49+F7I+cDELj34Xsj5wMQuPfheyPnAxC49+F7I+cDELj34Xsj5wMQuPfheyPnAxC49+F7I+cDELj34Xsj5wMQuPfheyPnAxC49+F7I+cDELj34Xsj5wMQuPfheyPnAxC49+F7I+cDELj34Xsj5wMQuPfheyPnAxC49+F7I+cDELj34Xsj5wMQuPfheyPnAxC49+F7I+cDELj34Xsj5wMQuPfheyPnAxC49+F7I+cDELj34Xsj5wMQuPfheyPnAxC49+F7I+cDELj34Xsj5wMQuPfheyPnAxC49+F7I+cDELj34Xsj5wMQuPfheyPnAxC49+F7I+cDELj34Xsj5wMQuPfheyPnAxC49+F7I+cDELj34Xsj5wMQuPfheyPnAxC49+F7I+cDELj34Xsj5wMQuPfheyPnAxC49+F7I+cDELj34Xsj5wMQuPfheyPnAxC49+F7I+cDELj34Xsj5wMQuPfheyPnAxC49+F7I+cDELj34Xsj5wMQuPfheyPnAxC49+F7I+cDELj34Xsj5wMQuPfheyPnAxC49+F7I+cDELj34Xsj5wMQuPfheyPnAxC49+F7I+cDELj34Xsj5wMQuPfheyPnAxC49+F7I+cDELj34Xsj5wMQuPfheyPnAxC49+F7I+cDELj34Xsj5wMQuPfheyPnAxC49+F7I+cDELj34Xsj5wMQuPfheyPnAxC49+F7I+cDELj34Xsj5wMQuPfheyPnAxC49+F7I+cDELj34Xsj5wMQuPfheyPnAxC49+F7I+cDELj34Xsj5wMQuPfheyPnAxC49+F7I+cDELj34Xsj5wMQuPfheyPg==\",\"dtype\":\"float64\",\"shape\":[101]}},\"selected\":{\"id\":\"0acea3ba-4ff4-4d80-ae99-c2b0889c9e6f\",\"type\":\"Selection\"},\"selection_policy\":{\"id\":\"36a86f3a-2a8e-4ba7-bbfe-0d096e397643\",\"type\":\"UnionRenderers\"}},\"id\":\"371b229b-85c9-4140-97a6-b7e7d6717449\",\"type\":\"ColumnDataSource\"},{\"attributes\":{\"background_fill_alpha\":{\"value\":0.7},\"items\":[{\"id\":\"6f62811a-8cb6-411d-8c92-72664a472325\",\"type\":\"LegendItem\"},{\"id\":\"c4de4b35-1e92-48b2-a775-9a4017b9e833\",\"type\":\"LegendItem\"},{\"id\":\"934b3949-dff5-4a2f-bbab-56e29097cec5\",\"type\":\"LegendItem\"},{\"id\":\"c7a43d3e-a110-4707-b2ca-f12e692f6529\",\"type\":\"LegendItem\"}],\"plot\":{\"id\":\"d47453aa-2618-4b92-babe-f90a6345ddd6\",\"subtype\":\"Figure\",\"type\":\"Plot\"}},\"id\":\"9497c9cd-3eaf-49d0-aa4e-5bb18927237f\",\"type\":\"Legend\"},{\"attributes\":{\"callback\":null,\"data\":{\"x\":{\"__ndarray__\":\"AAAAAAAAacAAAAAAAIBowAAAAAAAAGjAAAAAAACAZ8AAAAAAAABnwAAAAAAAgGbAAAAAAAAAZsAAAAAAAIBlwAAAAAAAAGXAAAAAAACAZMAAAAAAAABkwAAAAAAAgGPAAAAAAAAAY8AAAAAAAIBiwAAAAAAAAGLAAAAAAACAYcAAAAAAAABhwAAAAAAAgGDAAAAAAAAAYMAAAAAAAABfwAAAAAAAAF7AAAAAAAAAXcAAAAAAAABcwAAAAAAAAFvAAAAAAAAAWsAAAAAAAABZwAAAAAAAAFjAAAAAAAAAV8AAAAAAAABWwAAAAAAAAFXAAAAAAAAAVMAAAAAAAABTwAAAAAAAAFLAAAAAAAAAUcAAAAAAAABQwAAAAAAAAE7AAAAAAAAATMAAAAAAAABKwAAAAAAAAEjAAAAAAAAARsAAAAAAAABEwAAAAAAAAELAAAAAAAAAQMAAAAAAAAA8wAAAAAAAADjAAAAAAAAANMAAAAAAAAAwwAAAAAAAACjAAAAAAAAAIMAAAAAAAAAQwAAAAAAAAAAAAAAAAAAAEEAAAAAAAAAgQAAAAAAAAChAAAAAAAAAMEAAAAAAAAA0QAAAAAAAADhAAAAAAAAAPEAAAAAAAABAQAAAAAAAAEJAAAAAAAAAREAAAAAAAABGQAAAAAAAAEhAAAAAAAAASkAAAAAAAABMQAAAAAAAAE5AAAAAAAAAUEAAAAAAAABRQAAAAAAAAFJAAAAAAAAAU0AAAAAAAABUQAAAAAAAAFVAAAAAAAAAVkAAAAAAAABXQAAAAAAAAFhAAAAAAAAAWUAAAAAAAABaQAAAAAAAAFtAAAAAAAAAXEAAAAAAAABdQAAAAAAAAF5AAAAAAAAAX0AAAAAAAABgQAAAAAAAgGBAAAAAAAAAYUAAAAAAAIBhQAAAAAAAAGJAAAAAAACAYkAAAAAAAABjQAAAAAAAgGNAAAAAAAAAZEAAAAAAAIBkQAAAAAAAAGVAAAAAAACAZUAAAAAAAABmQAAAAAAAgGZAAAAAAAAAZ0AAAAAAAIBnQAAAAAAAAGhAAAAAAACAaEAAAAAAAABpQA==\",\"dtype\":\"float64\",\"shape\":[101]},\"y\":{\"__ndarray__\":\"khssEPXfsD6SGywQ9d+wPpIbLBD137A+khssEPXfsD6SGywQ9d+wPpIbLBD137A+khssEPXfsD6SGywQ9d+wPpIbLBD137A+khssEPXfsD6SGywQ9d+wPpIbLBD137A+khssEPXfsD6SGywQ9d+wPpIbLBD137A+khssEPXfsD6SGywQ9d+wPpIbLBD137A+khssEPXfsD6SGywQ9d+wPpIbLBD137A+khssEPXfsD6SGywQ9d+wPpIbLBD137A+khssEPXfsD6SGywQ9d+wPpIbLBD137A+khssEPXfsD6SGywQ9d+wPpIbLBD137A+khssEPXfsD6SGywQ9d+wPpIbLBD137A+khssEPXfsD6SGywQ9d+wPpIbLBD137A+khssEPXfsD6SGywQ9d+wPpIbLBD137A+khssEPXfsD6SGywQ9d+wPpIbLBD137A+khssEPXfsD6SGywQ9d+wPpIbLBD137A+khssEPXfsD6SGywQ9d+wPpIbLBD137A+khssEPXfsD6SGywQ9d+wPpIbLBD137A+khssEPXfsD6SGywQ9d+wPpIbLBD137A+khssEPXfsD6SGywQ9d+wPpIbLBD137A+khssEPXfsD6SGywQ9d+wPpIbLBD137A+khssEPXfsD6SGywQ9d+wPpIbLBD137A+khssEPXfsD6SGywQ9d+wPpIbLBD137A+khssEPXfsD6SGywQ9d+wPpIbLBD137A+khssEPXfsD6SGywQ9d+wPpIbLBD137A+khssEPXfsD6SGywQ9d+wPpIbLBD137A+khssEPXfsD6SGywQ9d+wPpIbLBD137A+khssEPXfsD6SGywQ9d+wPpIbLBD137A+khssEPXfsD6SGywQ9d+wPpIbLBD137A+khssEPXfsD6SGywQ9d+wPpIbLBD137A+khssEPXfsD6SGywQ9d+wPpIbLBD137A+khssEPXfsD6SGywQ9d+wPpIbLBD137A+khssEPXfsD6SGywQ9d+wPpIbLBD137A+khssEPXfsD6SGywQ9d+wPpIbLBD137A+khssEPXfsD6SGywQ9d+wPg==\",\"dtype\":\"float64\",\"shape\":[101]}},\"selected\":{\"id\":\"02091d16-4c64-40ad-8c42-bc9089648c99\",\"type\":\"Selection\"},\"selection_policy\":{\"id\":\"9a8ccf98-d0b7-4ba5-ab63-f2df28260c72\",\"type\":\"UnionRenderers\"}},\"id\":\"5f056614-a3b0-4986-9096-174f98aaf78c\",\"type\":\"ColumnDataSource\"},{\"attributes\":{\"line_alpha\":0.1,\"line_color\":\"#1f77b4\",\"line_width\":2,\"x\":{\"field\":\"x\"},\"y\":{\"field\":\"y\"}},\"id\":\"6d50c3b2-1e8a-4e70-a732-e9073dd3e5d5\",\"type\":\"Line\"},{\"attributes\":{\"data_source\":{\"id\":\"1258174e-68c0-43b2-b6b8-3b9cf37f3bcd\",\"type\":\"ColumnDataSource\"},\"glyph\":{\"id\":\"8b86ac8e-60a5-41d1-ae58-0a791e5fd628\",\"type\":\"Line\"},\"hover_glyph\":null,\"muted_glyph\":null,\"nonselection_glyph\":{\"id\":\"6d50c3b2-1e8a-4e70-a732-e9073dd3e5d5\",\"type\":\"Line\"},\"selection_glyph\":null,\"view\":{\"id\":\"5afd583d-879d-4ac3-99f7-cc1eff3b356e\",\"type\":\"CDSView\"}},\"id\":\"8788c46e-fd5a-4c50-976c-8c6e6b8c1ecd\",\"type\":\"GlyphRenderer\"},{\"attributes\":{\"line_color\":\"green\",\"line_width\":2,\"x\":{\"field\":\"x\"},\"y\":{\"field\":\"y\"}},\"id\":\"8b86ac8e-60a5-41d1-ae58-0a791e5fd628\",\"type\":\"Line\"},{\"attributes\":{\"source\":{\"id\":\"1258174e-68c0-43b2-b6b8-3b9cf37f3bcd\",\"type\":\"ColumnDataSource\"}},\"id\":\"5afd583d-879d-4ac3-99f7-cc1eff3b356e\",\"type\":\"CDSView\"},{\"attributes\":{},\"id\":\"9a404a22-09dd-42cb-a0f4-267772239ce6\",\"type\":\"UnionRenderers\"},{\"attributes\":{\"line_color\":\"red\",\"line_width\":2,\"x\":{\"field\":\"x\"},\"y\":{\"field\":\"y\"}},\"id\":\"a233d9ce-3043-4b7b-9f82-cd63cd8ef1fd\",\"type\":\"Line\"},{\"attributes\":{\"line_alpha\":0.1,\"line_color\":\"#1f77b4\",\"line_width\":2,\"x\":{\"field\":\"x\"},\"y\":{\"field\":\"y\"}},\"id\":\"7fcc7d73-2267-4e08-9c21-f5548324031f\",\"type\":\"Line\"},{\"attributes\":{},\"id\":\"6f83d74f-5ffa-4831-891a-dc2bc02685f2\",\"type\":\"Selection\"},{\"attributes\":{\"label\":{\"value\":\"1st Stokes\"},\"renderers\":[{\"id\":\"8788c46e-fd5a-4c50-976c-8c6e6b8c1ecd\",\"type\":\"GlyphRenderer\"}]},\"id\":\"c4de4b35-1e92-48b2-a775-9a4017b9e833\",\"type\":\"LegendItem\"},{\"attributes\":{\"background_fill_alpha\":{\"value\":0.3},\"background_fill_color\":{\"value\":\"lightgrey\"},\"below\":[{\"id\":\"de16cad8-00e0-44bd-8a1c-173a7177cad0\",\"type\":\"LinearAxis\"}],\"left\":[{\"id\":\"b6d49baf-5bca-4e5b-86d3-072524ff0fde\",\"type\":\"LogAxis\"}],\"outline_line_color\":{\"value\":\"black\"},\"plot_height\":400,\"plot_width\":450,\"renderers\":[{\"id\":\"de16cad8-00e0-44bd-8a1c-173a7177cad0\",\"type\":\"LinearAxis\"},{\"id\":\"3ea41385-d207-446f-827c-a4e5aa11263b\",\"type\":\"Grid\"},{\"id\":\"b6d49baf-5bca-4e5b-86d3-072524ff0fde\",\"type\":\"LogAxis\"},{\"id\":\"159a1684-76e1-4741-aea3-b931e99fff9e\",\"type\":\"Grid\"},{\"id\":\"fa36308c-477e-41e4-8c90-ec4b58110a44\",\"type\":\"BoxAnnotation\"},{\"id\":\"b70ae1ba-0722-4699-80a5-0e9aee59282d\",\"type\":\"Span\"}],\"title\":{\"id\":\"d092a9ce-941f-4e17-aa01-b38077a5acad\",\"type\":\"Title\"},\"toolbar\":{\"id\":\"d2146b35-9500-417b-99e6-5fbd0d1a1ca8\",\"type\":\"Toolbar\"},\"x_range\":{\"id\":\"528d86a8-ac7a-47a7-93e3-56212e8928c2\",\"type\":\"Range1d\"},\"x_scale\":{\"id\":\"7f607aa5-74ee-462e-953e-97016cb275e2\",\"type\":\"LinearScale\"},\"y_range\":{\"id\":\"dcf83fb3-69ee-4a27-9184-ee4d27bdbaa8\",\"type\":\"DataRange1d\"},\"y_scale\":{\"id\":\"fc703916-585a-4972-b901-d7bae9bdebf8\",\"type\":\"LogScale\"}},\"id\":\"f4f93745-1c13-4cd7-9cc5-277ae3b97477\",\"subtype\":\"Figure\",\"type\":\"Plot\"},{\"attributes\":{},\"id\":\"fc429a9e-5d86-47f5-887e-b8fabd868af1\",\"type\":\"UnionRenderers\"},{\"attributes\":{\"source\":{\"id\":\"5f056614-a3b0-4986-9096-174f98aaf78c\",\"type\":\"ColumnDataSource\"}},\"id\":\"9b104abc-e7cf-4d31-94a1-a4bb2f8906c4\",\"type\":\"CDSView\"},{\"attributes\":{\"data_source\":{\"id\":\"5f056614-a3b0-4986-9096-174f98aaf78c\",\"type\":\"ColumnDataSource\"},\"glyph\":{\"id\":\"a233d9ce-3043-4b7b-9f82-cd63cd8ef1fd\",\"type\":\"Line\"},\"hover_glyph\":null,\"muted_glyph\":null,\"nonselection_glyph\":{\"id\":\"7fcc7d73-2267-4e08-9c21-f5548324031f\",\"type\":\"Line\"},\"selection_glyph\":null,\"view\":{\"id\":\"9b104abc-e7cf-4d31-94a1-a4bb2f8906c4\",\"type\":\"CDSView\"}},\"id\":\"3e14813f-b6f7-4555-a6ec-ab4ff000dbcc\",\"type\":\"GlyphRenderer\"},{\"attributes\":{\"line_color\":\"blue\",\"line_dash\":[6],\"line_width\":2,\"x\":{\"field\":\"x\"},\"y\":{\"field\":\"y\"}},\"id\":\"73368e13-0871-428a-8656-a3e7f3ff57fe\",\"type\":\"Line\"},{\"attributes\":{\"line_alpha\":0.1,\"line_color\":\"#1f77b4\",\"line_dash\":[6],\"line_width\":2,\"x\":{\"field\":\"x\"},\"y\":{\"field\":\"y\"}},\"id\":\"639f2273-3b5f-4936-bb6e-b6f161259ca1\",\"type\":\"Line\"},{\"attributes\":{},\"id\":\"02091d16-4c64-40ad-8c42-bc9089648c99\",\"type\":\"Selection\"},{\"attributes\":{\"label\":{\"value\":\"2nd Stokes\"},\"renderers\":[{\"id\":\"3e14813f-b6f7-4555-a6ec-ab4ff000dbcc\",\"type\":\"GlyphRenderer\"}]},\"id\":\"934b3949-dff5-4a2f-bbab-56e29097cec5\",\"type\":\"LegendItem\"},{\"attributes\":{\"dimension\":\"height\",\"line_dash\":[6],\"location\":1.0,\"plot\":{\"id\":\"f4f93745-1c13-4cd7-9cc5-277ae3b97477\",\"subtype\":\"Figure\",\"type\":\"Plot\"}},\"id\":\"b70ae1ba-0722-4699-80a5-0e9aee59282d\",\"type\":\"Span\"},{\"attributes\":{},\"id\":\"9a8ccf98-d0b7-4ba5-ab63-f2df28260c72\",\"type\":\"UnionRenderers\"},{\"attributes\":{\"source\":{\"id\":\"371b229b-85c9-4140-97a6-b7e7d6717449\",\"type\":\"ColumnDataSource\"}},\"id\":\"3c03a6fe-dba3-426d-aed1-d989af6a2db5\",\"type\":\"CDSView\"},{\"attributes\":{\"data_source\":{\"id\":\"371b229b-85c9-4140-97a6-b7e7d6717449\",\"type\":\"ColumnDataSource\"},\"glyph\":{\"id\":\"73368e13-0871-428a-8656-a3e7f3ff57fe\",\"type\":\"Line\"},\"hover_glyph\":null,\"muted_glyph\":null,\"nonselection_glyph\":{\"id\":\"639f2273-3b5f-4936-bb6e-b6f161259ca1\",\"type\":\"Line\"},\"selection_glyph\":null,\"view\":{\"id\":\"3c03a6fe-dba3-426d-aed1-d989af6a2db5\",\"type\":\"CDSView\"}},\"id\":\"dc65f45c-bed8-45c2-9192-fb4cc220ef14\",\"type\":\"GlyphRenderer\"},{\"attributes\":{\"active_drag\":\"auto\",\"active_inspect\":\"auto\",\"active_scroll\":\"auto\",\"active_tap\":\"auto\",\"tools\":[{\"id\":\"386cf0bb-bb7f-4724-b5e6-823a562f3dab\",\"type\":\"PanTool\"},{\"id\":\"51a947f2-edea-4fce-a358-d7ed67e6257b\",\"type\":\"WheelZoomTool\"},{\"id\":\"6355a184-5266-4c54-9fcd-0d3bf74ce609\",\"type\":\"BoxZoomTool\"},{\"id\":\"47a6d882-3fb3-44c5-87f3-31503faffae9\",\"type\":\"SaveTool\"},{\"id\":\"8c0e77c6-16bf-4750-95db-10fb82443a47\",\"type\":\"ResetTool\"},{\"id\":\"a15a3326-a958-47b5-a46c-64054646d14b\",\"type\":\"HelpTool\"}]},\"id\":\"d2146b35-9500-417b-99e6-5fbd0d1a1ca8\",\"type\":\"Toolbar\"},{\"attributes\":{\"label\":{\"value\":\"ASE\"},\"renderers\":[{\"id\":\"dc65f45c-bed8-45c2-9192-fb4cc220ef14\",\"type\":\"GlyphRenderer\"}]},\"id\":\"c7a43d3e-a110-4707-b2ca-f12e692f6529\",\"type\":\"LegendItem\"},{\"attributes\":{\"plot\":{\"id\":\"f4f93745-1c13-4cd7-9cc5-277ae3b97477\",\"subtype\":\"Figure\",\"type\":\"Plot\"},\"ticker\":{\"id\":\"8735af72-e220-4be5-b51d-3eb734845067\",\"type\":\"BasicTicker\"}},\"id\":\"3ea41385-d207-446f-827c-a4e5aa11263b\",\"type\":\"Grid\"},{\"attributes\":{\"callback\":null},\"id\":\"dcf83fb3-69ee-4a27-9184-ee4d27bdbaa8\",\"type\":\"DataRange1d\"},{\"attributes\":{},\"id\":\"fc703916-585a-4972-b901-d7bae9bdebf8\",\"type\":\"LogScale\"},{\"attributes\":{\"ticker\":null},\"id\":\"98b0c5e4-e53e-4e46-bf0b-6ea11a6b679e\",\"type\":\"LogTickFormatter\"},{\"attributes\":{},\"id\":\"7f607aa5-74ee-462e-953e-97016cb275e2\",\"type\":\"LinearScale\"},{\"attributes\":{\"axis_label\":\"Distance Along Fiber (meter)\",\"axis_label_text_font_size\":{\"value\":\"12pt\"},\"formatter\":{\"id\":\"ce81fc90-124f-47a7-9e41-a69e9b619d7d\",\"type\":\"BasicTickFormatter\"},\"major_label_text_font_size\":{\"value\":\"12pt\"},\"plot\":{\"id\":\"f4f93745-1c13-4cd7-9cc5-277ae3b97477\",\"subtype\":\"Figure\",\"type\":\"Plot\"},\"ticker\":{\"id\":\"8735af72-e220-4be5-b51d-3eb734845067\",\"type\":\"BasicTicker\"}},\"id\":\"de16cad8-00e0-44bd-8a1c-173a7177cad0\",\"type\":\"LinearAxis\"},{\"attributes\":{},\"id\":\"8735af72-e220-4be5-b51d-3eb734845067\",\"type\":\"BasicTicker\"},{\"attributes\":{\"axis_label\":\"Pulse Energy (Joule)\",\"axis_label_text_font_size\":{\"value\":\"12pt\"},\"formatter\":{\"id\":\"98b0c5e4-e53e-4e46-bf0b-6ea11a6b679e\",\"type\":\"LogTickFormatter\"},\"major_label_text_font_size\":{\"value\":\"12pt\"},\"plot\":{\"id\":\"f4f93745-1c13-4cd7-9cc5-277ae3b97477\",\"subtype\":\"Figure\",\"type\":\"Plot\"},\"ticker\":{\"id\":\"c9ec1169-01e3-415a-aaaf-a1c164705fa0\",\"type\":\"LogTicker\"}},\"id\":\"b6d49baf-5bca-4e5b-86d3-072524ff0fde\",\"type\":\"LogAxis\"},{\"attributes\":{\"num_minor_ticks\":10},\"id\":\"c9ec1169-01e3-415a-aaaf-a1c164705fa0\",\"type\":\"LogTicker\"},{\"attributes\":{\"dimension\":1,\"plot\":{\"id\":\"f4f93745-1c13-4cd7-9cc5-277ae3b97477\",\"subtype\":\"Figure\",\"type\":\"Plot\"},\"ticker\":{\"id\":\"c9ec1169-01e3-415a-aaaf-a1c164705fa0\",\"type\":\"LogTicker\"}},\"id\":\"159a1684-76e1-4741-aea3-b931e99fff9e\",\"type\":\"Grid\"},{\"attributes\":{\"children\":[{\"id\":\"d47453aa-2618-4b92-babe-f90a6345ddd6\",\"subtype\":\"Figure\",\"type\":\"Plot\"},{\"id\":\"f4f93745-1c13-4cd7-9cc5-277ae3b97477\",\"subtype\":\"Figure\",\"type\":\"Plot\"}]},\"id\":\"962d0af6-ac9f-4ab3-ac24-010f5521c3a0\",\"type\":\"Row\"},{\"attributes\":{},\"id\":\"ce85a749-d0c6-43f4-9223-52771f2f5218\",\"type\":\"BasicTickFormatter\"},{\"attributes\":{\"callback\":null},\"id\":\"528d86a8-ac7a-47a7-93e3-56212e8928c2\",\"type\":\"Range1d\"},{\"attributes\":{\"ticker\":null},\"id\":\"d20a5695-e6a0-4089-8d92-477c17100900\",\"type\":\"LogTickFormatter\"},{\"attributes\":{\"bottom_units\":\"screen\",\"fill_alpha\":{\"value\":0.5},\"fill_color\":{\"value\":\"lightgrey\"},\"left_units\":\"screen\",\"level\":\"overlay\",\"line_alpha\":{\"value\":1.0},\"line_color\":{\"value\":\"black\"},\"line_dash\":[4,4],\"line_width\":{\"value\":2},\"plot\":null,\"render_mode\":\"css\",\"right_units\":\"screen\",\"top_units\":\"screen\"},\"id\":\"fa36308c-477e-41e4-8c90-ec4b58110a44\",\"type\":\"BoxAnnotation\"},{\"attributes\":{\"plot\":null,\"text\":\"\"},\"id\":\"d092a9ce-941f-4e17-aa01-b38077a5acad\",\"type\":\"Title\"},{\"attributes\":{\"active_drag\":\"auto\",\"active_inspect\":\"auto\",\"active_scroll\":\"auto\",\"active_tap\":\"auto\",\"tools\":[{\"id\":\"ff2fa13b-ca52-4883-83e7-211c13b09ef5\",\"type\":\"PanTool\"},{\"id\":\"7ae7f453-ef45-44d7-a437-d006a95e22ef\",\"type\":\"WheelZoomTool\"},{\"id\":\"2161fb5f-e5f0-45f1-9c4a-c617493e2b74\",\"type\":\"BoxZoomTool\"},{\"id\":\"ed0e3e72-c1f4-4205-ba46-72dd04dfcea4\",\"type\":\"SaveTool\"},{\"id\":\"ef49c285-bb69-448f-8fac-98f546197a4a\",\"type\":\"ResetTool\"},{\"id\":\"1fdf4018-0e53-4624-b38c-0a03ae3d3591\",\"type\":\"HelpTool\"}]},\"id\":\"a2acb4ae-4dfb-4001-98b8-0be82b0ccad3\",\"type\":\"Toolbar\"},{\"attributes\":{},\"id\":\"386cf0bb-bb7f-4724-b5e6-823a562f3dab\",\"type\":\"PanTool\"},{\"attributes\":{\"callback\":null,\"data\":{\"x\":{\"__ndarray__\":\"AAAAAAAAacAAAAAAAIBowAAAAAAAAGjAAAAAAACAZ8AAAAAAAABnwAAAAAAAgGbAAAAAAAAAZsAAAAAAAIBlwAAAAAAAAGXAAAAAAACAZMAAAAAAAABkwAAAAAAAgGPAAAAAAAAAY8AAAAAAAIBiwAAAAAAAAGLAAAAAAACAYcAAAAAAAABhwAAAAAAAgGDAAAAAAAAAYMAAAAAAAABfwAAAAAAAAF7AAAAAAAAAXcAAAAAAAABcwAAAAAAAAFvAAAAAAAAAWsAAAAAAAABZwAAAAAAAAFjAAAAAAAAAV8AAAAAAAABWwAAAAAAAAFXAAAAAAAAAVMAAAAAAAABTwAAAAAAAAFLAAAAAAAAAUcAAAAAAAABQwAAAAAAAAE7AAAAAAAAATMAAAAAAAABKwAAAAAAAAEjAAAAAAAAARsAAAAAAAABEwAAAAAAAAELAAAAAAAAAQMAAAAAAAAA8wAAAAAAAADjAAAAAAAAANMAAAAAAAAAwwAAAAAAAACjAAAAAAAAAIMAAAAAAAAAQwAAAAAAAAAAAAAAAAAAAEEAAAAAAAAAgQAAAAAAAAChAAAAAAAAAMEAAAAAAAAA0QAAAAAAAADhAAAAAAAAAPEAAAAAAAABAQAAAAAAAAEJAAAAAAAAAREAAAAAAAABGQAAAAAAAAEhAAAAAAAAASkAAAAAAAABMQAAAAAAAAE5AAAAAAAAAUEAAAAAAAABRQAAAAAAAAFJAAAAAAAAAU0AAAAAAAABUQAAAAAAAAFVAAAAAAAAAVkAAAAAAAABXQAAAAAAAAFhAAAAAAAAAWUAAAAAAAABaQAAAAAAAAFtAAAAAAAAAXEAAAAAAAABdQAAAAAAAAF5AAAAAAAAAX0AAAAAAAABgQAAAAAAAgGBAAAAAAAAAYUAAAAAAAIBhQAAAAAAAAGJAAAAAAACAYkAAAAAAAABjQAAAAAAAgGNAAAAAAAAAZEAAAAAAAIBkQAAAAAAAAGVAAAAAAACAZUAAAAAAAABmQAAAAAAAgGZAAAAAAAAAZ0AAAAAAAIBnQAAAAAAAAGhAAAAAAACAaEAAAAAAAABpQA==\",\"dtype\":\"float64\",\"shape\":[101]},\"y\":{\"__ndarray__\":\"zhYrLFHGsT7OFissUcaxPs4WKyxRxrE+zhYrLFHGsT7OFissUcaxPs4WKyxRxrE+zhYrLFHGsT7OFissUcaxPs4WKyxRxrE+zhYrLFHGsT7OFissUcaxPs4WKyxRxrE+zhYrLFHGsT7OFissUcaxPs4WKyxRxrE+zhYrLFHGsT7OFissUcaxPs4WKyxRxrE+zhYrLFHGsT7OFissUcaxPs4WKyxRxrE+zhYrLFHGsT7OFissUcaxPs4WKyxRxrE+zhYrLFHGsT7OFissUcaxPs4WKyxRxrE+zhYrLFHGsT7OFissUcaxPs4WKyxRxrE+zhYrLFHGsT7OFissUcaxPs4WKyxRxrE+zhYrLFHGsT7OFissUcaxPs4WKyxRxrE+zhYrLFHGsT7OFissUcaxPs4WKyxRxrE+zhYrLFHGsT7OFissUcaxPs4WKyxRxrE+zhYrLFHGsT7OFissUcaxPs4WKyxRxrE+zhYrLFHGsT7OFissUcaxPs4WKyxRxrE+zhYrLFHGsT7OFissUcaxPs4WKyxRxrE+zhYrLFHGsT7OFissUcaxPs4WKyxRxrE+zhYrLFHGsT7OFissUcaxPs4WKyxRxrE+zhYrLFHGsT7OFissUcaxPs4WKyxRxrE+zhYrLFHGsT7OFissUcaxPs4WKyxRxrE+zhYrLFHGsT7OFissUcaxPs4WKyxRxrE+zhYrLFHGsT7OFissUcaxPs4WKyxRxrE+zhYrLFHGsT7OFissUcaxPs4WKyxRxrE+zhYrLFHGsT7OFissUcaxPs4WKyxRxrE+zhYrLFHGsT7OFissUcaxPs4WKyxRxrE+zhYrLFHGsT7OFissUcaxPs4WKyxRxrE+zhYrLFHGsT7OFissUcaxPs4WKyxRxrE+zhYrLFHGsT7OFissUcaxPs4WKyxRxrE+zhYrLFHGsT7OFissUcaxPs4WKyxRxrE+zhYrLFHGsT7OFissUcaxPs4WKyxRxrE+zhYrLFHGsT7OFissUcaxPs4WKyxRxrE+zhYrLFHGsT7OFissUcaxPs4WKyxRxrE+zhYrLFHGsT7OFissUcaxPg==\",\"dtype\":\"float64\",\"shape\":[101]}},\"selected\":{\"id\":\"6f83d74f-5ffa-4831-891a-dc2bc02685f2\",\"type\":\"Selection\"},\"selection_policy\":{\"id\":\"fc429a9e-5d86-47f5-887e-b8fabd868af1\",\"type\":\"UnionRenderers\"}},\"id\":\"1258174e-68c0-43b2-b6b8-3b9cf37f3bcd\",\"type\":\"ColumnDataSource\"},{\"attributes\":{\"callback\":null,\"data\":{\"x\":{\"__ndarray__\":\"AAAAAAAAacAAAAAAAIBowAAAAAAAAGjAAAAAAACAZ8AAAAAAAABnwAAAAAAAgGbAAAAAAAAAZsAAAAAAAIBlwAAAAAAAAGXAAAAAAACAZMAAAAAAAABkwAAAAAAAgGPAAAAAAAAAY8AAAAAAAIBiwAAAAAAAAGLAAAAAAACAYcAAAAAAAABhwAAAAAAAgGDAAAAAAAAAYMAAAAAAAABfwAAAAAAAAF7AAAAAAAAAXcAAAAAAAABcwAAAAAAAAFvAAAAAAAAAWsAAAAAAAABZwAAAAAAAAFjAAAAAAAAAV8AAAAAAAABWwAAAAAAAAFXAAAAAAAAAVMAAAAAAAABTwAAAAAAAAFLAAAAAAAAAUcAAAAAAAABQwAAAAAAAAE7AAAAAAAAATMAAAAAAAABKwAAAAAAAAEjAAAAAAAAARsAAAAAAAABEwAAAAAAAAELAAAAAAAAAQMAAAAAAAAA8wAAAAAAAADjAAAAAAAAANMAAAAAAAAAwwAAAAAAAACjAAAAAAAAAIMAAAAAAAAAQwAAAAAAAAAAAAAAAAAAAEEAAAAAAAAAgQAAAAAAAAChAAAAAAAAAMEAAAAAAAAA0QAAAAAAAADhAAAAAAAAAPEAAAAAAAABAQAAAAAAAAEJAAAAAAAAAREAAAAAAAABGQAAAAAAAAEhAAAAAAAAASkAAAAAAAABMQAAAAAAAAE5AAAAAAAAAUEAAAAAAAABRQAAAAAAAAFJAAAAAAAAAU0AAAAAAAABUQAAAAAAAAFVAAAAAAAAAVkAAAAAAAABXQAAAAAAAAFhAAAAAAAAAWUAAAAAAAABaQAAAAAAAAFtAAAAAAAAAXEAAAAAAAABdQAAAAAAAAF5AAAAAAAAAX0AAAAAAAABgQAAAAAAAgGBAAAAAAAAAYUAAAAAAAIBhQAAAAAAAAGJAAAAAAACAYkAAAAAAAABjQAAAAAAAgGNAAAAAAAAAZEAAAAAAAIBkQAAAAAAAAGVAAAAAAACAZUAAAAAAAABmQAAAAAAAgGZAAAAAAAAAZ0AAAAAAAIBnQAAAAAAAAGhAAAAAAACAaEAAAAAAAABpQA==\",\"dtype\":\"float64\",\"shape\":[101]},\"y\":{\"__ndarray__\":\"5HSUCWZ8VzB5w2+qFNb5MPa6xbEQqZgxUBLSnktsNDIGtzQNylnNMsQGU+SlTGIz74s8om/M8zNx94yo85WCNBqq/4LGRg41AduFbZZllTWVsfJakz0aNvOrC0sB7Js2rl8BLm3HGTfC20YNmqaUN1XlyHv2tAw4rmejc/JPgTgRsjAjHx7yOLxtMtmEc2A5hwcbhR/syTmdyCqaYLgxOpWRHVo/BZU6lA9hkqyi9TqAbGDSRFJTO0lC055K8a079dcHGnUhBDzHdJQJZnxXPAHa/gUyxqc8lbSw8Y7h9DwGn8W4Z9M/PQhbjwE4C4U992QIHG4lyD3fnaGzEQoIPgEGKZP/w0Q+Xqe67K0gfz6I67EXHT60Pv2qDz791+Y+MRYrMQ1eFj9wI5BoqgBDP2M8Q6vTA2w/lNp8p/fqkT8VR65m+OKzP2Z3ZweUJtM/XWC8z1oA8D+8lD0ffzMHQLC9PUE9MB1Al6jsKHLcL0BE3I7XBy0+QHZanWUrzEhAunZDlVOuUUBAfxUdceBVQLx0lAlmfFdAQH8VHXHgVUC6dkOVU65RQHZanWUrzEhARNyO1wctPkCXqOwoctwvQLC9PUE9MB1AvJQ9H38zB0BdYLzPWgDwP2Z3ZweUJtM/FUeuZvjisz+U2nyn9+qRP2M8Q6vTA2w/cCOQaKoAQz8xFisxDV4WP/2qDz791+Y+iOuxFx0+tD5ep7rsrSB/PgEGKZP/w0Q+352hsxEKCD73ZAgcbiXIPQhbjwE4C4U9Bp/FuGfTPz2VtLDxjuH0PAHa/gUyxqc8x3SUCWZ8Vzz11wcadSEEPElC055K8a07gGxg0kRSUzuUD2GSrKL1OpWRHVo/BZU6ncgqmmC4MTqHBxuFH+zJObxtMtmEc2A5EbIwIx8e8jiuZ6Nz8k+BOFXlyHv2tAw4wttGDZqmlDeuXwEubccZN/OrC0sB7Js2lbHyWpM9GjYB24VtlmWVNRqq/4LGRg41cfeMqPOVgjTvizyib8zzM8QGU+SlTGIzBrc0DcpZzTJQEtKeS2w0Mva6xbEQqZgxecNvqhTW+TDkdJQJZnxXMA==\",\"dtype\":\"float64\",\"shape\":[101]}},\"selected\":{\"id\":\"0e5a727c-c69b-43de-a9b9-a001a5106a47\",\"type\":\"Selection\"},\"selection_policy\":{\"id\":\"9a404a22-09dd-42cb-a0f4-267772239ce6\",\"type\":\"UnionRenderers\"}},\"id\":\"755be61c-9632-47f6-b679-e6162bad8439\",\"type\":\"ColumnDataSource\"},{\"attributes\":{},\"id\":\"51a947f2-edea-4fce-a358-d7ed67e6257b\",\"type\":\"WheelZoomTool\"},{\"attributes\":{\"callback\":null,\"end\":1000000.0,\"start\":8e-07},\"id\":\"d3115729-4823-4817-b2bc-0b9a6f099fd1\",\"type\":\"Range1d\"},{\"attributes\":{\"overlay\":{\"id\":\"fa36308c-477e-41e4-8c90-ec4b58110a44\",\"type\":\"BoxAnnotation\"}},\"id\":\"6355a184-5266-4c54-9fcd-0d3bf74ce609\",\"type\":\"BoxZoomTool\"},{\"attributes\":{\"line_alpha\":0.1,\"line_color\":\"#1f77b4\",\"line_width\":2,\"x\":{\"field\":\"x\"},\"y\":{\"field\":\"y\"}},\"id\":\"a39c7e3a-e286-4d34-b584-93cec8d7c6cc\",\"type\":\"Line\"},{\"attributes\":{},\"id\":\"47a6d882-3fb3-44c5-87f3-31503faffae9\",\"type\":\"SaveTool\"},{\"attributes\":{},\"id\":\"305eccfc-f4e3-457f-904a-6df6b0cb762d\",\"type\":\"LinearScale\"},{\"attributes\":{},\"id\":\"8c0e77c6-16bf-4750-95db-10fb82443a47\",\"type\":\"ResetTool\"},{\"attributes\":{\"background_fill_alpha\":{\"value\":0.3},\"background_fill_color\":{\"value\":\"lightgrey\"},\"below\":[{\"id\":\"ac89a27c-f004-4ff8-b056-4f3268cca97e\",\"type\":\"LinearAxis\"}],\"left\":[{\"id\":\"3689d207-2834-41d8-a4ce-95c2b9529f95\",\"type\":\"LogAxis\"}],\"min_border_top\":10,\"outline_line_color\":{\"value\":\"black\"},\"plot_height\":400,\"plot_width\":450,\"renderers\":[{\"id\":\"ac89a27c-f004-4ff8-b056-4f3268cca97e\",\"type\":\"LinearAxis\"},{\"id\":\"4a82b021-c0d8-40f0-960d-0ca84af8c280\",\"type\":\"Grid\"},{\"id\":\"3689d207-2834-41d8-a4ce-95c2b9529f95\",\"type\":\"LogAxis\"},{\"id\":\"6be71704-c5c6-42b7-9048-96a1a983f1f9\",\"type\":\"Grid\"},{\"id\":\"2230dfbe-9a77-4ed3-a8ae-30cdc269014d\",\"type\":\"BoxAnnotation\"},{\"id\":\"df39d3c7-8a45-45c4-baaf-e157b64e1710\",\"type\":\"Label\"},{\"id\":\"0c4d3b10-6af8-431c-b6fb-326464bf37eb\",\"type\":\"Label\"},{\"id\":\"c8c62efa-40e1-43dc-82fd-f46a00cae23a\",\"type\":\"Label\"},{\"id\":\"9497c9cd-3eaf-49d0-aa4e-5bb18927237f\",\"type\":\"Legend\"},{\"id\":\"1919a4e5-0852-4414-b364-e522a016fa62\",\"type\":\"GlyphRenderer\"},{\"id\":\"8788c46e-fd5a-4c50-976c-8c6e6b8c1ecd\",\"type\":\"GlyphRenderer\"},{\"id\":\"3e14813f-b6f7-4555-a6ec-ab4ff000dbcc\",\"type\":\"GlyphRenderer\"},{\"id\":\"dc65f45c-bed8-45c2-9192-fb4cc220ef14\",\"type\":\"GlyphRenderer\"}],\"title\":{\"id\":\"e0fb637a-5e76-4159-9bc5-4c639efb7d1a\",\"type\":\"Title\"},\"toolbar\":{\"id\":\"a2acb4ae-4dfb-4001-98b8-0be82b0ccad3\",\"type\":\"Toolbar\"},\"x_range\":{\"id\":\"f5a2ee4b-8959-4d16-a56d-0eefdb658f61\",\"type\":\"Range1d\"},\"x_scale\":{\"id\":\"305eccfc-f4e3-457f-904a-6df6b0cb762d\",\"type\":\"LinearScale\"},\"y_range\":{\"id\":\"d3115729-4823-4817-b2bc-0b9a6f099fd1\",\"type\":\"Range1d\"},\"y_scale\":{\"id\":\"fdeeb9c8-4120-4ed1-aef0-99af85ee1166\",\"type\":\"LogScale\"}},\"id\":\"d47453aa-2618-4b92-babe-f90a6345ddd6\",\"subtype\":\"Figure\",\"type\":\"Plot\"},{\"attributes\":{},\"id\":\"fdeeb9c8-4120-4ed1-aef0-99af85ee1166\",\"type\":\"LogScale\"},{\"attributes\":{},\"id\":\"a15a3326-a958-47b5-a46c-64054646d14b\",\"type\":\"HelpTool\"},{\"attributes\":{\"plot\":{\"id\":\"d47453aa-2618-4b92-babe-f90a6345ddd6\",\"subtype\":\"Figure\",\"type\":\"Plot\"},\"ticker\":{\"id\":\"77484143-916e-49f2-837b-852299d8b7d7\",\"type\":\"BasicTicker\"}},\"id\":\"4a82b021-c0d8-40f0-960d-0ca84af8c280\",\"type\":\"Grid\"},{\"attributes\":{\"axis_label\":\"Time (psec)\",\"axis_label_text_font_size\":{\"value\":\"12pt\"},\"formatter\":{\"id\":\"ce85a749-d0c6-43f4-9223-52771f2f5218\",\"type\":\"BasicTickFormatter\"},\"major_label_text_font_size\":{\"value\":\"12pt\"},\"plot\":{\"id\":\"d47453aa-2618-4b92-babe-f90a6345ddd6\",\"subtype\":\"Figure\",\"type\":\"Plot\"},\"ticker\":{\"id\":\"77484143-916e-49f2-837b-852299d8b7d7\",\"type\":\"BasicTicker\"}},\"id\":\"ac89a27c-f004-4ff8-b056-4f3268cca97e\",\"type\":\"LinearAxis\"},{\"attributes\":{},\"id\":\"77484143-916e-49f2-837b-852299d8b7d7\",\"type\":\"BasicTicker\"},{\"attributes\":{},\"id\":\"ce81fc90-124f-47a7-9e41-a69e9b619d7d\",\"type\":\"BasicTickFormatter\"},{\"attributes\":{\"axis_label\":\"Signal (Watt)\",\"axis_label_text_font_size\":{\"value\":\"12pt\"},\"formatter\":{\"id\":\"d20a5695-e6a0-4089-8d92-477c17100900\",\"type\":\"LogTickFormatter\"},\"major_label_text_font_size\":{\"value\":\"12pt\"},\"plot\":{\"id\":\"d47453aa-2618-4b92-babe-f90a6345ddd6\",\"subtype\":\"Figure\",\"type\":\"Plot\"},\"ticker\":{\"id\":\"f3ca8e82-bb2f-4c29-8541-b31999f953ec\",\"type\":\"LogTicker\"}},\"id\":\"3689d207-2834-41d8-a4ce-95c2b9529f95\",\"type\":\"LogAxis\"},{\"attributes\":{\"num_minor_ticks\":10},\"id\":\"f3ca8e82-bb2f-4c29-8541-b31999f953ec\",\"type\":\"LogTicker\"},{\"attributes\":{\"dimension\":1,\"plot\":{\"id\":\"d47453aa-2618-4b92-babe-f90a6345ddd6\",\"subtype\":\"Figure\",\"type\":\"Plot\"},\"ticker\":{\"id\":\"f3ca8e82-bb2f-4c29-8541-b31999f953ec\",\"type\":\"LogTicker\"}},\"id\":\"6be71704-c5c6-42b7-9048-96a1a983f1f9\",\"type\":\"Grid\"},{\"attributes\":{},\"id\":\"0acea3ba-4ff4-4d80-ae99-c2b0889c9e6f\",\"type\":\"Selection\"},{\"attributes\":{\"line_color\":\"blue\",\"line_width\":2,\"x\":{\"field\":\"x\"},\"y\":{\"field\":\"y\"}},\"id\":\"781e6bcd-ad2f-4b5a-9413-8440807829a4\",\"type\":\"Line\"},{\"attributes\":{\"plot\":{\"id\":\"d47453aa-2618-4b92-babe-f90a6345ddd6\",\"subtype\":\"Figure\",\"type\":\"Plot\"},\"text\":\"Average Power\",\"text_color\":{\"value\":\"darkblue\"},\"text_font_size\":{\"value\":\"10pt\"},\"x\":10,\"x_units\":\"screen\",\"y\":300,\"y_units\":\"screen\"},\"id\":\"df39d3c7-8a45-45c4-baaf-e157b64e1710\",\"type\":\"Label\"},{\"attributes\":{\"plot\":{\"id\":\"d47453aa-2618-4b92-babe-f90a6345ddd6\",\"subtype\":\"Figure\",\"type\":\"Plot\"},\"text\":\"ASE Power\",\"text_color\":{\"value\":\"darkblue\"},\"text_font_size\":{\"value\":\"10pt\"},\"x\":5,\"x_units\":\"screen\",\"y\":200,\"y_units\":\"screen\"},\"id\":\"c8c62efa-40e1-43dc-82fd-f46a00cae23a\",\"type\":\"Label\"},{\"attributes\":{},\"id\":\"36a86f3a-2a8e-4ba7-bbfe-0d096e397643\",\"type\":\"UnionRenderers\"},{\"attributes\":{\"plot\":{\"id\":\"d47453aa-2618-4b92-babe-f90a6345ddd6\",\"subtype\":\"Figure\",\"type\":\"Plot\"},\"text\":\"Pulse Energy\",\"text_color\":{\"value\":\"darkblue\"},\"text_font_size\":{\"value\":\"10pt\"},\"x\":10,\"x_units\":\"screen\",\"y\":250,\"y_units\":\"screen\"},\"id\":\"0c4d3b10-6af8-431c-b6fb-326464bf37eb\",\"type\":\"Label\"},{\"attributes\":{\"callback\":null,\"end\":200,\"start\":-200},\"id\":\"f5a2ee4b-8959-4d16-a56d-0eefdb658f61\",\"type\":\"Range1d\"},{\"attributes\":{},\"id\":\"ff2fa13b-ca52-4883-83e7-211c13b09ef5\",\"type\":\"PanTool\"},{\"attributes\":{\"overlay\":{\"id\":\"2230dfbe-9a77-4ed3-a8ae-30cdc269014d\",\"type\":\"BoxAnnotation\"}},\"id\":\"2161fb5f-e5f0-45f1-9c4a-c617493e2b74\",\"type\":\"BoxZoomTool\"},{\"attributes\":{},\"id\":\"7ae7f453-ef45-44d7-a437-d006a95e22ef\",\"type\":\"WheelZoomTool\"}],\"root_ids\":[\"962d0af6-ac9f-4ab3-ac24-010f5521c3a0\"]},\"title\":\"Bokeh Application\",\"version\":\"0.12.16\"}};\n",
       "  var render_items = [{\"docid\":\"262da545-459e-4a97-bbcd-3ea66dd9a7c0\",\"elementid\":\"00ea2b14-dcca-41d5-9a78-ea89f4cb2e24\",\"modelid\":\"962d0af6-ac9f-4ab3-ac24-010f5521c3a0\",\"notebook_comms_target\":\"2e86ec53-9fb0-4842-aa23-d49442f7f59c\"}];\n",
       "  root.Bokeh.embed.embed_items_notebook(docs_json, render_items);\n",
       "\n",
       "  }\n",
       "  if (root.Bokeh !== undefined) {\n",
       "    embed_document(root);\n",
       "  } else {\n",
       "    var attempts = 0;\n",
       "    var timer = setInterval(function(root) {\n",
       "      if (root.Bokeh !== undefined) {\n",
       "        embed_document(root);\n",
       "        clearInterval(timer);\n",
       "      }\n",
       "      attempts++;\n",
       "      if (attempts > 100) {\n",
       "        console.log(\"Bokeh: ERROR: Unable to run BokehJS code because BokehJS library is missing\")\n",
       "        clearInterval(timer);\n",
       "      }\n",
       "    }, 10, root)\n",
       "  }\n",
       "})(window);"
      ],
      "application/vnd.bokehjs_exec.v0+json": ""
     },
     "metadata": {
      "application/vnd.bokehjs_exec.v0+json": {
       "id": "962d0af6-ac9f-4ab3-ac24-010f5521c3a0"
      }
     },
     "output_type": "display_data"
    },
    {
     "data": {
      "application/vnd.jupyter.widget-view+json": {
       "model_id": "758bfa81174645b4aab4f66b5639fd15",
       "version_major": 2,
       "version_minor": 0
      },
      "text/plain": [
       "IntProgress(value=0, bar_style='success', description='Progress', max=99)"
      ]
     },
     "metadata": {},
     "output_type": "display_data"
    },
    {
     "name": "stdout",
     "output_type": "stream",
     "text": [
      "elapsed time= 8.391194105148315\n"
     ]
    }
   ],
   "source": [
    "# Stage 1\n",
    "coreD = coreD_widget.value*1e-4 # Core diameter in cm\n",
    "cladD = cladD_widget.value*1e-4 # Cladding diameter in cm\n",
    "fiber_loss = fiber_loss_widget.value/4.34/1e5 # background loss in optical fiber in inverse cm\n",
    "rshift = rshift_widget.value # Raman shift in inverse cm\n",
    "raman_gain = raman_gain_widget.value*1e-12 # Peak Raman Gain in cm/W\n",
    "raman_width = raman_width_widget.value\n",
    "Yb_conc = Yb_conc_widget.value # Yb concentration ppm\n",
    "Ybpump_power = Ybpump_power_widget.value # Yb pump power in W\n",
    "fundamental_wavelength = fundamental_wavelength_widget.value # fundamental wavelength in nm\n",
    "sigmae = sigmae_widget.value*1e-21 # emission cross-section at wavelength of fundamental\n",
    "FWHM = FWHM_widget.value # FWHM of pulse in psec\n",
    "insertion_loss = 10**(-insertion_loss_widget.value/10)\n",
    "Ep = Ep_widget.value*1e-12*insertion_loss #pulse energy in Joules\n",
    "stokesw1 = seed_wavelength_widget.value # Wavelength of 1st Stokes signal in nm\n",
    "stokesw2 = 1e7/(-rshift_widget.value+1e7/stokesw1) # Wavelength of 2st Stokes signal in nm\n",
    "seed_power = seed_power_widget.value/1000*insertion_loss # power in Watt\n",
    "rep_rate = rep_rate_widget.value*1e6 # pulse repetition rate in Hz\n",
    "Ldoped = Ldoped_widget.value # length of doped fiber in meters at beginning of fiber\n",
    "Lundoped = Lundoped_widget.value # Length of undoped fiber in meters\n",
    "delta_Ld = delta_Ld_widget.value # numerical distance increment in cm for doped fiber\n",
    "delta_Lund = delta_Lund_widget.value # numerical distance increment in cm for undoped fiber\n",
    "\n",
    "hnu_pump=1239.42/976*1.6022e-19\n",
    "pump_loss0 = sigmaa976*Yb_conc*1e-6*6.02214e23*2.2/60*(coreD**2/cladD**2) # unsaturated pump loss in inverse cm\n",
    "print('Unsaturated Yb Pump Loss = %4.2f (dB/m)' % (pump_loss0*100*4.34))\n",
    "NYb = Yb_conc*1e-6*6.02214e23*2.2/60 # Yb concentration in inverse cubic cm\n",
    "print('NYb = ', NYb)\n",
    "print('Ybpump_power = ', Ybpump_power)\n",
    "Nexc0 = Ybpump_power/(np.pi*cladD**2/4)*pump_loss0*tau/hnu_pump/(coreD**2/cladD**2) # Excited State Density - Unsat Pump Loss\n",
    "Nexc = Nexc0/(1+Nexc0/NYb)\n",
    "print('Excited State Density Nexc0 = %4.2e (#/cm^3)' % Nexc0)\n",
    "print('Excited State Density Nexc = %4.2e (#/cm^3)' % Nexc)\n",
    "pump_loss=pump_loss0*(1-Nexc/NYb)\n",
    "print('Yb Pump Loss = %4.2f (dB/m)' % (pump_loss*100*4.34))\n",
    "fundamental_gain_us=Nexc*sigmae1064 # unsaturated gain of the fundamental in inverse cm\n",
    "print('Intital Unsaturated Gain for Fundamental = %4.2f (dB/m)' % (fundamental_gain_us*100*4.34))\n",
    "Aeff = np.pi*(coreD/2)**2/(-np.log(1-gammas)/2) # Effective area for signals in core\n",
    "raman_width_Hz = raman_width/(1e7/stokesw1)*(3e17/stokesw1) # Width of equivalent spontaneous Raman input in Hz \n",
    "\n",
    "t=np.linspace(-200,200,101)\n",
    "I0=(Ep/Aeff)*(np.sqrt(4*np.log(2)/np.pi)/FWHM)*1e12\n",
    "fundamental=I0*np.exp(-4*np.log(2)*(t/FWHM)**2)\n",
    "hnu_signal1=1239.842/stokesw1*1.6022e-19\n",
    "signal1=np.zeros(101)+seed_power/Aeff+hnu_signal1*raman_width_Hz/Aeff\n",
    "hnu_signal2=1239.842/stokesw2*1.6022e-19\n",
    "signal2=np.zeros(101)+hnu_signal2*raman_width_Hz/Aeff\n",
    "hnu_fundamental=1239.842/fundamental_wavelength*1.6022e-19\n",
    "Ps1_sat = hnu_fundamental*(np.pi*(coreD**2/4))/gammas/(sigmaa1064+sigmae1064)/tau\n",
    "print('Ps1_sat = ',Ps1_sat)\n",
    "P_ASE = hnu_pump*5.3e12\n",
    "P_ones = np.ones(101)\n",
    "P_ASE_line = P_ones*P_ASE\n",
    "print('Initial ASE Power = ',P_ASE, 'Watt')\n",
    "fundamental_gain=fundamental_gain_us/(1+(np.sum(fundamental*Aeff)*40e-12*rep_rate+P_ASE)/Ps1_sat)\n",
    "print('Fundamental Gain = ', fundamental_gain)\n",
    "\n",
    "pg=figure(plot_width=450, plot_height=400, y_axis_type=\"log\")\n",
    "pg.min_border_top = 10\n",
    "pg.outline_line_width = 1\n",
    "pg.outline_line_alpha = 1\n",
    "pg.outline_line_color = \"black\"\n",
    "pg.background_fill_color = \"lightgrey\"\n",
    "pg.background_fill_alpha = 0.3\n",
    "\n",
    "label1=Label(x=10, y=300, x_units='screen', y_units='screen', text='Average Power',\n",
    "             text_font_size='10pt', text_color='darkblue')\n",
    "label2=Label(x=10, y=250, x_units='screen', y_units='screen', text='Pulse Energy',\n",
    "             text_font_size='10pt', text_color='darkblue')\n",
    "label3=Label(x=5, y=200, x_units='screen', y_units='screen', text='ASE Power',\n",
    "             text_font_size='10pt', text_color='darkblue')\n",
    "pg.add_layout(label1)\n",
    "pg.add_layout(label2)\n",
    "pg.add_layout(label3)\n",
    "\n",
    "pg.x_range = Range1d(-200,200)\n",
    "pg.y_range = Range1d(8e-7,1e6)\n",
    "cp=pg.line(t,fundamental*Aeff, legend=str(int(fundamental_wavelength))+\" nm\", color='blue', line_width=2)\n",
    "c=pg.line(t, signal1*Aeff, legend=\"1st Stokes\", color='green', line_width=2)\n",
    "c2=pg.line(t, signal2*Aeff, legend=\"2nd Stokes\", color='red', line_width=2)\n",
    "c3=pg.line(t,P_ASE_line, legend='ASE', color='blue', line_width=2, line_dash='dashed')\n",
    "pg.legend.location = \"top_right\"; pg.legend.background_fill_alpha = 0.7\n",
    "pg.xaxis.axis_label = 'Time (psec)'; pg.xaxis.axis_label_text_font_size = \"12pt\"\n",
    "pg.xaxis.major_label_text_font_size = \"12pt\"\n",
    "pg.yaxis.axis_label = 'Signal (Watt)'; pg.yaxis.axis_label_text_font_size = \"12pt\"\n",
    "pg.yaxis.major_label_text_font_size = \"12pt\"\n",
    "\n",
    "pc=figure(plot_width=450, plot_height=400, y_axis_type=\"log\")\n",
    "pc.outline_line_width = 1\n",
    "pc.outline_line_alpha = 1\n",
    "pc.outline_line_color = \"black\"\n",
    "pc.background_fill_color = \"lightgrey\"\n",
    "pc.background_fill_alpha = 0.3\n",
    "\n",
    "pc.x_range = Range1d(0,Lundoped+Ldoped)\n",
    "pc.xaxis.axis_label = 'Distance Along Fiber (meter)'; pc.xaxis.axis_label_text_font_size = \"12pt\"\n",
    "pc.xaxis.major_label_text_font_size = \"12pt\"\n",
    "pc.yaxis.axis_label = 'Pulse Energy (Joule)'; pc.yaxis.axis_label_text_font_size = \"12pt\"\n",
    "pc.yaxis.major_label_text_font_size = \"12pt\"\n",
    "\n",
    "doped_fiber_L = Span(location=Ldoped, dimension='height', line_color='black',\n",
    "                              line_dash='dashed', line_width=1)\n",
    "pc.add_layout(doped_fiber_L)\n",
    "\n",
    "nh=show(row(pg,pc),notebook_handle='true')\n",
    "\n",
    "import time\n",
    "t0 = time.time()\n",
    "\n",
    "dopedn = int(Ldoped*1e2/delta_Ld)\n",
    "undopedn = int(Lundoped*1e2/delta_Lund)\n",
    "P = IntProgress(min=0, max=dopedn+undopedn-1, description='Progress', bar_style='success'); display(P)\n",
    "zd=np.linspace(0,Ldoped,dopedn+1)\n",
    "zund=np.linspace(Ldoped+delta_Lund*1e-2,Ldoped+Lundoped,undopedn)\n",
    "z=np.concatenate([zd,zund])\n",
    "Epz=np.zeros(dopedn+undopedn+1)\n",
    "Epz[0]=Ep\n",
    "Es1pz=np.zeros(dopedn+undopedn+1)\n",
    "Es2z=np.zeros(dopedn+undopedn+1)\n",
    "for i in range(dopedn):\n",
    "    delta_signal1=fundamental*signal1*raman_gain*delta_Ld\n",
    "    signal1=signal1+delta_signal1\n",
    "    fundamental=fundamental*(1+fundamental_gain*delta_Ld)\n",
    "    fundamental=fundamental-delta_signal1*stokesw1/fundamental_wavelength\n",
    "    P_ASE = P_ASE*(1+fundamental_gain*delta_Ld)\n",
    "    delta_signal2=signal1*signal2*raman_gain*delta_Ld\n",
    "    signal2=signal2+delta_signal2\n",
    "    signal1=signal1-delta_signal2*stokesw1/stokesw2\n",
    "    Ybpump_power = Ybpump_power*(1-pump_loss*delta_Ld)\n",
    "    fundamental = fundamental*(1-fiber_loss*delta_Ld)\n",
    "    signal1 = signal1*(1-fiber_loss*delta_Ld)\n",
    "    signal2 = signal2*(1-fiber_loss*delta_Ld)\n",
    "    Nexc0 = Nexc0*(1-pump_loss*delta_Ld)\n",
    "    Nexc = Nexc0/(1+Nexc0/NYb)\n",
    "    pump_loss=pump_loss0*(1-Nexc/NYb)   \n",
    "    fundamental_gain_us=Nexc*sigmae1064\n",
    "    fundamental_gain=fundamental_gain_us/(1+(np.sum(fundamental*Aeff)*40e-12*rep_rate+P_ASE)/Ps1_sat)\n",
    "    c.data_source.data['y']=signal1*Aeff\n",
    "    cp.data_source.data['y']=fundamental*Aeff\n",
    "    c2.data_source.data['y']=signal2*Aeff\n",
    "    c3.data_source.data['y']=P_ones*P_ASE\n",
    "    \n",
    "    Es1pz[i+1]=np.sum((signal1-seed_power/Aeff)*Aeff)*4e-12\n",
    "    Es2z[i+1]=np.sum((signal2)*Aeff)*4e-12\n",
    "    Epz[i+1]=np.sum(fundamental*Aeff)*4e-12\n",
    "    P.value=i\n",
    "    if i % 20 == 0 or i == dopedn+undopedn-1:\n",
    "        push_notebook(handle=nh)\n",
    "        time.sleep(.200)\n",
    "for i in range(dopedn,dopedn+undopedn):\n",
    "    delta_signal1=fundamental*signal1*raman_gain*delta_Lund\n",
    "    signal1=signal1+delta_signal1\n",
    "    fundamental=fundamental-delta_signal1*stokesw1/fundamental_wavelength\n",
    "    delta_signal2=signal1*signal2*raman_gain*delta_Lund\n",
    "    signal2=signal2+delta_signal2\n",
    "    signal1=signal1-delta_signal2*stokesw1/stokesw2\n",
    "    Ybpump_power = Ybpump_power*(1-pump_loss*delta_Lund)\n",
    "    fundamental = fundamental*(1-fiber_loss*delta_Lund)\n",
    "    signal1 = signal1*(1-fiber_loss*delta_Lund)\n",
    "    signal2 = signal2*(1-fiber_loss*delta_Lund)\n",
    "    c.data_source.data['y']=signal1*Aeff\n",
    "    cp.data_source.data['y']=fundamental*Aeff\n",
    "    c2.data_source.data['y']=signal2*Aeff\n",
    "    \n",
    "    Es1pz[i+1]=np.sum((signal1-seed_power/Aeff)*Aeff)*4e-12\n",
    "    Es2z[i+1]=np.sum((signal2-seed_power/Aeff)*Aeff)*4e-12\n",
    "    Epz[i+1]=np.sum(fundamental*Aeff)*4e-12\n",
    "    P.value=i\n",
    "    if i % 20 == 0 or i == dopedn+undopedn-1:\n",
    "        push_notebook(handle=nh)\n",
    "        time.sleep(.200)\n",
    "\n",
    "pc.line(z,Epz,color='blue',line_width=2,legend=str(int(fundamental_wavelength))+' nm')\n",
    "pc.line(z,Es1pz,color='green',line_width=2,legend=\"1st Stokes\")\n",
    "pc.line(z,Es2z,color='red',line_width=2,legend=\"2nd Stokes\")\n",
    "pc.legend.location = \"center_right\"\n",
    "push_notebook(handle=nh)\n",
    "\n",
    "max_ave_fpower=np.max(Epz)*rep_rate\n",
    "label1a=Label(x=10, y=280, x_units='screen', y_units='screen', text='= {} W'.format(\"%2.1e\" % max_ave_fpower),\n",
    "             text_font_size='10pt', text_color='darkblue')\n",
    "pg.add_layout(label1a)\n",
    "label2a=Label(x=10, y=230, x_units='screen', y_units='screen', text='= {} J'.format(\"%1.1e\" % np.max(Epz)),\n",
    "             text_font_size='10pt', text_color='darkblue')\n",
    "pg.add_layout(label2a)\n",
    "label3a=Label(x=10, y=180, x_units='screen', y_units='screen', text='= {} W'.format(\"%1.1e\" % P_ASE),\n",
    "             text_font_size='10pt', text_color='darkblue')\n",
    "pg.add_layout(label3a)            \n",
    "push_notebook(handle=nh)\n",
    "\n",
    "np.save('fundamental_1.npy', fundamental)\n",
    "np.save('signal1_1.npy', signal1)\n",
    "np.save('signal2_1.npy', signal2)\n",
    "np.save('Aeff_1.npy', Aeff)\n",
    "np.save('P_ASE_1.npy', P_ASE)\n",
    "\n",
    "t1=time.time()\n",
    "print('elapsed time=',t1-t0)"
   ]
  },
  {
   "cell_type": "code",
   "execution_count": 83,
   "metadata": {
    "hide_input": true,
    "scrolled": false
   },
   "outputs": [
    {
     "data": {
      "application/vnd.jupyter.widget-view+json": {
       "model_id": "71fa8bcfb10d4b618b24d1ad9148e9d3",
       "version_major": 2,
       "version_minor": 0
      },
      "text/plain": [
       "HBox(children=(VBox(children=(Label(value='Core Diameter (micron)'), FloatText(value=20.0))), VBox(children=(L…"
      ]
     },
     "metadata": {},
     "output_type": "display_data"
    },
    {
     "data": {
      "application/vnd.jupyter.widget-view+json": {
       "model_id": "9b983ba27690458783231cd950172c9e",
       "version_major": 2,
       "version_minor": 0
      },
      "text/plain": [
       "HBox(children=(VBox(children=(Label(value='Raman Shift (inverse cm)'), FloatText(value=450.0))), VBox(children…"
      ]
     },
     "metadata": {},
     "output_type": "display_data"
    },
    {
     "data": {
      "application/vnd.jupyter.widget-view+json": {
       "model_id": "4605ec43dfe448fb996439b6c12d1dec",
       "version_major": 2,
       "version_minor": 0
      },
      "text/plain": [
       "HBox(children=(VBox(children=(Label(value='Yb concentration (ppm)'), FloatText(value=1200.0))), VBox(children=…"
      ]
     },
     "metadata": {},
     "output_type": "display_data"
    },
    {
     "data": {
      "application/vnd.jupyter.widget-view+json": {
       "model_id": "b986bf9ad07d4a09bad9c21d7213536f",
       "version_major": 2,
       "version_minor": 0
      },
      "text/plain": [
       "HBox(children=(VBox(children=(Label(value='Amplifier Insertion Loss (dB)'), FloatText(value=0.0))),))"
      ]
     },
     "metadata": {},
     "output_type": "display_data"
    },
    {
     "data": {
      "application/vnd.jupyter.widget-view+json": {
       "model_id": "76fc9e179d1d482ca47aa66687398b00",
       "version_major": 2,
       "version_minor": 0
      },
      "text/plain": [
       "HBox(children=(VBox(children=(Label(value='Seed Power (mW)'), FloatText(value=0.0))), VBox(children=(Label(val…"
      ]
     },
     "metadata": {},
     "output_type": "display_data"
    },
    {
     "data": {
      "application/vnd.jupyter.widget-view+json": {
       "model_id": "8288aa5189c64431a8ecd3024d72611b",
       "version_major": 2,
       "version_minor": 0
      },
      "text/plain": [
       "HBox(children=(VBox(children=(Label(value='Total Fiber Length (m)'), FloatText(value=2.0))), VBox(children=(La…"
      ]
     },
     "metadata": {},
     "output_type": "display_data"
    }
   ],
   "source": [
    "# Stage 2\n",
    "coreD_widget2=widgets.FloatText(value=20, disabled=False)\n",
    "cladD_widget2=widgets.FloatText(value=130, disabled=False)\n",
    "fiber_loss_widget2=widgets.FloatText(value=1.0, disabled=False)\n",
    "display(HBox([VBox([widgets.Label('Core Diameter (micron)'),coreD_widget2]),\n",
    "              VBox([widgets.Label('Cladding Diameter (micron)'),cladD_widget2]),\n",
    "             VBox([widgets.Label('Fiber Loss (dB/km)'),fiber_loss_widget2])]))\n",
    "\n",
    "rshift_widget2 = widgets.FloatText(value=450, disabled=False)\n",
    "raman_gain_widget2=widgets.FloatText(value=4, disabled=False)\n",
    "raman_width_widget2=widgets.FloatText(value=200, disabled=False)\n",
    "display(HBox([VBox([widgets.Label('Raman Shift (inverse cm)'), rshift_widget2]),\n",
    "              VBox([widgets.Label('Peak Raman Gain (10^-12 cm/W)'), raman_gain_widget2]),\n",
    "             VBox([widgets.Label('Raman Curve Width (inverse cm)'), raman_width_widget2])]))\n",
    "\n",
    "Yb_conc_widget2=widgets.FloatText(value=1200, disabled=False)\n",
    "Ybpump_power_widget2=widgets.FloatText(value=9, disabled=False)\n",
    "display(HBox([VBox([widgets.Label('Yb concentration (ppm)'), Yb_conc_widget2]),\n",
    "             VBox([widgets.Label('Yb Pump Power (W)'), Ybpump_power_widget2])]))\n",
    "\n",
    "insertion_loss_widget2=widgets.FloatText(value=0.0, disabled=False)\n",
    "display(HBox([VBox([widgets.Label('Amplifier Insertion Loss (dB)'), insertion_loss_widget2])]))\n",
    "\n",
    "seed_power_widget2=widgets.FloatText(value=0, disabled=False)\n",
    "seed_wavelength_widget2=widgets.FloatText(value=1125, disabled=False)\n",
    "display(HBox([VBox([widgets.Label('Seed Power (mW)'), seed_power_widget2]),\n",
    "              VBox([widgets.Label('Seed Wavelength (nm)'), seed_wavelength_widget2])]))\n",
    "\n",
    "fiber_length_widget2=widgets.FloatText(value=2, disabled=False)\n",
    "Ldoped_widget2=widgets.FloatText(value=2, disabled=False)\n",
    "delta_L_widget2=widgets.FloatText(value=1.0, disabled=False)\n",
    "display(HBox([VBox([widgets.Label('Total Fiber Length (m)'), fiber_length_widget2]),\n",
    "              VBox([widgets.Label('Doped Fiber Length (m)'), Ldoped_widget2]),\n",
    "              VBox([widgets.Label('Numerical Step Size (cm)'), delta_L_widget2])]))\n",
    "\n",
    "fundamental_1 = np.load('fundamental_1.npy')\n",
    "signal1_1 = np.load('signal1_1.npy')\n",
    "signal2_1 = np.load('signal2_1.npy')\n",
    "Aeff_1 = np.load('Aeff_1.npy')\n",
    "P_ASE_1 = np.load('P_ASE_1.npy')"
   ]
  },
  {
   "cell_type": "code",
   "execution_count": 84,
   "metadata": {
    "hide_input": true,
    "scrolled": false
   },
   "outputs": [
    {
     "name": "stdout",
     "output_type": "stream",
     "text": [
      "Unsaturated Yb Pump Loss = 11.98 (dB/m)\n",
      "NYb =  2.6497415999999996e+19\n",
      "Excited State Density Nexc0 = 3.26e+20 (#/cm^3)\n",
      "Excited State Density Nexc = 2.45e+19 (#/cm^3)\n",
      "Yb Pump Loss = 0.90 (dB/m)\n",
      "Intital Unsaturated Gain for Fundamental = 31.91 (dB/m)\n",
      "Ps1_sat =  0.2932117205308378\n",
      "Initial ASE Power =  1.5790452702614165e-05 Watt\n",
      "Fundamental Gain =  0.03270199470495407\n"
     ]
    },
    {
     "data": {
      "text/html": [
       "\n",
       "<div class=\"bk-root\">\n",
       "    <div class=\"bk-plotdiv\" id=\"e888c4c9-5c62-4814-b6b3-3c2a01d22eae\"></div>\n",
       "</div>"
      ]
     },
     "metadata": {},
     "output_type": "display_data"
    },
    {
     "data": {
      "application/javascript": [
       "(function(root) {\n",
       "  function embed_document(root) {\n",
       "    \n",
       "  var docs_json = {\"027efcaa-d990-4f36-abf0-f15342ab8d6b\":{\"roots\":{\"references\":[{\"attributes\":{\"plot\":{\"id\":\"e13cb771-2e4c-443c-b5ef-cf6a4fe7e380\",\"subtype\":\"Figure\",\"type\":\"Plot\"},\"ticker\":{\"id\":\"8da1d1cc-bbbd-4990-8e55-af6d49341be1\",\"type\":\"BasicTicker\"}},\"id\":\"de8ba53d-744e-4761-a66a-3a5b76237c74\",\"type\":\"Grid\"},{\"attributes\":{},\"id\":\"d04f40ea-4c1c-4762-9361-5d2b7d762a79\",\"type\":\"HelpTool\"},{\"attributes\":{\"bottom_units\":\"screen\",\"fill_alpha\":{\"value\":0.5},\"fill_color\":{\"value\":\"lightgrey\"},\"left_units\":\"screen\",\"level\":\"overlay\",\"line_alpha\":{\"value\":1.0},\"line_color\":{\"value\":\"black\"},\"line_dash\":[4,4],\"line_width\":{\"value\":2},\"plot\":null,\"render_mode\":\"css\",\"right_units\":\"screen\",\"top_units\":\"screen\"},\"id\":\"c2d25971-63ba-4613-b255-fc99b38d7536\",\"type\":\"BoxAnnotation\"},{\"attributes\":{},\"id\":\"7f9598ce-8f9e-4033-b6c1-9b9568d62382\",\"type\":\"BasicTickFormatter\"},{\"attributes\":{},\"id\":\"8da1d1cc-bbbd-4990-8e55-af6d49341be1\",\"type\":\"BasicTicker\"},{\"attributes\":{\"axis_label\":\"Signal (Watt)\",\"axis_label_text_font_size\":{\"value\":\"12pt\"},\"formatter\":{\"id\":\"afbb256d-1f50-498e-a10e-54909fc58a86\",\"type\":\"LogTickFormatter\"},\"major_label_text_font_size\":{\"value\":\"12pt\"},\"plot\":{\"id\":\"e13cb771-2e4c-443c-b5ef-cf6a4fe7e380\",\"subtype\":\"Figure\",\"type\":\"Plot\"},\"ticker\":{\"id\":\"8bfac8e5-7ced-4a0f-9059-9777c8d1f480\",\"type\":\"LogTicker\"}},\"id\":\"8e7e87d2-97e8-408f-b11c-390e7580fa8c\",\"type\":\"LogAxis\"},{\"attributes\":{},\"id\":\"112ada0b-9051-4298-9055-43581e275c08\",\"type\":\"Selection\"},{\"attributes\":{\"num_minor_ticks\":10},\"id\":\"8bfac8e5-7ced-4a0f-9059-9777c8d1f480\",\"type\":\"LogTicker\"},{\"attributes\":{\"ticker\":null},\"id\":\"a2ccbb55-9270-4018-9c58-76e9ec762e75\",\"type\":\"LogTickFormatter\"},{\"attributes\":{\"dimension\":1,\"plot\":{\"id\":\"e13cb771-2e4c-443c-b5ef-cf6a4fe7e380\",\"subtype\":\"Figure\",\"type\":\"Plot\"},\"ticker\":{\"id\":\"8bfac8e5-7ced-4a0f-9059-9777c8d1f480\",\"type\":\"LogTicker\"}},\"id\":\"ebe236e8-2d50-4ba2-ba7d-1d932b958339\",\"type\":\"Grid\"},{\"attributes\":{},\"id\":\"d839f6ed-3306-44b5-b01b-ab9b949d240d\",\"type\":\"UnionRenderers\"},{\"attributes\":{\"line_color\":\"blue\",\"line_width\":2,\"x\":{\"field\":\"x\"},\"y\":{\"field\":\"y\"}},\"id\":\"b7d25760-5aa5-419a-8fbb-37719852d499\",\"type\":\"Line\"},{\"attributes\":{\"callback\":null,\"end\":200,\"start\":-200},\"id\":\"006e95c7-ce70-4b2b-99a4-f72984a6e4f8\",\"type\":\"Range1d\"},{\"attributes\":{\"callback\":null,\"data\":{\"x\":{\"__ndarray__\":\"AAAAAAAAacAAAAAAAIBowAAAAAAAAGjAAAAAAACAZ8AAAAAAAABnwAAAAAAAgGbAAAAAAAAAZsAAAAAAAIBlwAAAAAAAAGXAAAAAAACAZMAAAAAAAABkwAAAAAAAgGPAAAAAAAAAY8AAAAAAAIBiwAAAAAAAAGLAAAAAAACAYcAAAAAAAABhwAAAAAAAgGDAAAAAAAAAYMAAAAAAAABfwAAAAAAAAF7AAAAAAAAAXcAAAAAAAABcwAAAAAAAAFvAAAAAAAAAWsAAAAAAAABZwAAAAAAAAFjAAAAAAAAAV8AAAAAAAABWwAAAAAAAAFXAAAAAAAAAVMAAAAAAAABTwAAAAAAAAFLAAAAAAAAAUcAAAAAAAABQwAAAAAAAAE7AAAAAAAAATMAAAAAAAABKwAAAAAAAAEjAAAAAAAAARsAAAAAAAABEwAAAAAAAAELAAAAAAAAAQMAAAAAAAAA8wAAAAAAAADjAAAAAAAAANMAAAAAAAAAwwAAAAAAAACjAAAAAAAAAIMAAAAAAAAAQwAAAAAAAAAAAAAAAAAAAEEAAAAAAAAAgQAAAAAAAAChAAAAAAAAAMEAAAAAAAAA0QAAAAAAAADhAAAAAAAAAPEAAAAAAAABAQAAAAAAAAEJAAAAAAAAAREAAAAAAAABGQAAAAAAAAEhAAAAAAAAASkAAAAAAAABMQAAAAAAAAE5AAAAAAAAAUEAAAAAAAABRQAAAAAAAAFJAAAAAAAAAU0AAAAAAAABUQAAAAAAAAFVAAAAAAAAAVkAAAAAAAABXQAAAAAAAAFhAAAAAAAAAWUAAAAAAAABaQAAAAAAAAFtAAAAAAAAAXEAAAAAAAABdQAAAAAAAAF5AAAAAAAAAX0AAAAAAAABgQAAAAAAAgGBAAAAAAAAAYUAAAAAAAIBhQAAAAAAAAGJAAAAAAACAYkAAAAAAAABjQAAAAAAAgGNAAAAAAAAAZEAAAAAAAIBkQAAAAAAAAGVAAAAAAACAZUAAAAAAAABmQAAAAAAAgGZAAAAAAAAAZ0AAAAAAAIBnQAAAAAAAAGhAAAAAAACAaEAAAAAAAABpQA==\",\"dtype\":\"float64\",\"shape\":[101]},\"y\":{\"__ndarray__\":\"AfWazz59lTDfDGtKxqM3Ma1vtLBZkNYx2o7Wy82vcjLx0ns2/toKM6b0ZSJgvqAz9F1RBokdMjSO3imAcgHBNCWz8tnUs0s1hglU8+aT0zUx8Gh+eAJYNh4mV3dOjNk27GIxvl2WVzc6MQE8J+XSNw7PHfctREo46Ww1ElGuvzgwKqr9zZMwOXY8EsPwGp450NK1aPG3BzrT1W3XtTZwOl5dx6TAO9M6Bi4FmMvLMztgsqkWwa2RO4c80nOdZes752B1EVRrQjzp9JrPPn2VPOpmfarEwOU83Ok8+xgbMz2TmYO4vR59Pe95PlY3QcM9oAm5CugXBj5wdd0f3/5FPgWMrPYMAIM+OsmjwDV7vD4E3O1gjIXyPgGhTkLQ5iQ/y+e3Fj53VD/S3py0FmOBP5EfGmEaoqk/pZcS1/9k0D+4TPtZJzLyPxyjGDDHhRFAF8fSmzFILUCNQ0CNijpFQNajNbj5tFpAVBGzZAMnbUD6QVp/Rpx7QDtS4F94sIZAqQFMkoMtkED6N+nOTwSUQNOJls8+fZVA+jfpzk8ElECpAUySgy2QQDtS4F94sIZA+kFaf0ace0BUEbNkAydtQNajNbj5tFpAjUNAjYo6RUAXx9KbMUgtQByjGDDHhRFAuEz7WScy8j+llxLX/2TQP5EfGmEaoqk/0t6ctBZjgT/L57cWPndUPwGhTkLQ5iQ/BNztYIyF8j46yaPANXu8PgWMrPYMAIM+cHXdH9/+RT6gCbkK6BcGPu95PlY3QcM9k5mDuL0efT3c6Tz7GBszPepmfarEwOU86fSazz59lTznYHURVGtCPIc80nOdZes7YLKpFsGtkTsGLgWYy8szO15dx6TAO9M609Vt17U2cDrQ0rVo8bcHOnY8EsPwGp45MCqq/c2TMDnpbDUSUa6/OA7PHfctREo4OjEBPCfl0jfsYjG+XZZXNx4mV3dOjNk2MfBofngCWDaGCVTz5pPTNSWz8tnUs0s1jt4pgHIBwTT0XVEGiR0yNKb0ZSJgvqAz8dJ7Nv7aCjPajtbLza9yMq1vtLBZkNYx3wxrSsajNzEB9ZrPPn2VMA==\",\"dtype\":\"float64\",\"shape\":[101]}},\"selected\":{\"id\":\"1838227c-caf5-419f-97bb-7bcbbdf6fddf\",\"type\":\"Selection\"},\"selection_policy\":{\"id\":\"09573ef4-a77c-4df6-bc4c-333b74b5b60e\",\"type\":\"UnionRenderers\"}},\"id\":\"75538aa8-7586-47da-9786-d4e415e035db\",\"type\":\"ColumnDataSource\"},{\"attributes\":{\"bottom_units\":\"screen\",\"fill_alpha\":{\"value\":0.5},\"fill_color\":{\"value\":\"lightgrey\"},\"left_units\":\"screen\",\"level\":\"overlay\",\"line_alpha\":{\"value\":1.0},\"line_color\":{\"value\":\"black\"},\"line_dash\":[4,4],\"line_width\":{\"value\":2},\"plot\":null,\"render_mode\":\"css\",\"right_units\":\"screen\",\"top_units\":\"screen\"},\"id\":\"75f54b32-56ca-4208-b8d8-28840b52a22c\",\"type\":\"BoxAnnotation\"},{\"attributes\":{},\"id\":\"32cc1b18-742c-4ef4-9d4c-a99db15282df\",\"type\":\"PanTool\"},{\"attributes\":{\"data_source\":{\"id\":\"75538aa8-7586-47da-9786-d4e415e035db\",\"type\":\"ColumnDataSource\"},\"glyph\":{\"id\":\"b7d25760-5aa5-419a-8fbb-37719852d499\",\"type\":\"Line\"},\"hover_glyph\":null,\"muted_glyph\":null,\"nonselection_glyph\":{\"id\":\"f79c1a81-1ed9-433f-b10f-062358ff3311\",\"type\":\"Line\"},\"selection_glyph\":null,\"view\":{\"id\":\"53c85439-10f4-4c32-afae-3b320d7837f8\",\"type\":\"CDSView\"}},\"id\":\"87d38e30-d2bc-4573-839a-ee9d30e6ce4c\",\"type\":\"GlyphRenderer\"},{\"attributes\":{},\"id\":\"f862a7d9-a282-4ea4-9f54-2fa9d86edd51\",\"type\":\"WheelZoomTool\"},{\"attributes\":{\"overlay\":{\"id\":\"75f54b32-56ca-4208-b8d8-28840b52a22c\",\"type\":\"BoxAnnotation\"}},\"id\":\"bbf3da70-cc2d-42bc-8f88-bd432bfe75df\",\"type\":\"BoxZoomTool\"},{\"attributes\":{},\"id\":\"8d4d3e14-f132-4421-a5ba-6c27b2876b1d\",\"type\":\"SaveTool\"},{\"attributes\":{},\"id\":\"3446be8d-e2d3-43b1-9e87-f7819338852b\",\"type\":\"ResetTool\"},{\"attributes\":{},\"id\":\"b3a4ec0a-ec66-4a44-8380-52e6c17d5c8d\",\"type\":\"HelpTool\"},{\"attributes\":{\"source\":{\"id\":\"75538aa8-7586-47da-9786-d4e415e035db\",\"type\":\"ColumnDataSource\"}},\"id\":\"53c85439-10f4-4c32-afae-3b320d7837f8\",\"type\":\"CDSView\"},{\"attributes\":{\"line_alpha\":0.1,\"line_color\":\"#1f77b4\",\"line_width\":2,\"x\":{\"field\":\"x\"},\"y\":{\"field\":\"y\"}},\"id\":\"f79c1a81-1ed9-433f-b10f-062358ff3311\",\"type\":\"Line\"},{\"attributes\":{\"callback\":null,\"end\":1000000.0,\"start\":0.0001},\"id\":\"9ee00fa5-76ab-4103-8099-cfefd8bd2aa7\",\"type\":\"Range1d\"},{\"attributes\":{\"ticker\":null},\"id\":\"afbb256d-1f50-498e-a10e-54909fc58a86\",\"type\":\"LogTickFormatter\"},{\"attributes\":{\"label\":{\"value\":\"1030 nm\"},\"renderers\":[{\"id\":\"87d38e30-d2bc-4573-839a-ee9d30e6ce4c\",\"type\":\"GlyphRenderer\"}]},\"id\":\"2b70943f-e562-4668-9143-244a6aecbfce\",\"type\":\"LegendItem\"},{\"attributes\":{\"line_alpha\":0.1,\"line_color\":\"#1f77b4\",\"line_width\":2,\"x\":{\"field\":\"x\"},\"y\":{\"field\":\"y\"}},\"id\":\"e6d74d4b-5062-44ba-b0da-189cc15ff4c5\",\"type\":\"Line\"},{\"attributes\":{\"plot\":null,\"text\":\"\"},\"id\":\"1c0765b6-a2c4-44f0-a943-e57b7fc77281\",\"type\":\"Title\"},{\"attributes\":{\"callback\":null,\"data\":{\"x\":{\"__ndarray__\":\"AAAAAAAAacAAAAAAAIBowAAAAAAAAGjAAAAAAACAZ8AAAAAAAABnwAAAAAAAgGbAAAAAAAAAZsAAAAAAAIBlwAAAAAAAAGXAAAAAAACAZMAAAAAAAABkwAAAAAAAgGPAAAAAAAAAY8AAAAAAAIBiwAAAAAAAAGLAAAAAAACAYcAAAAAAAABhwAAAAAAAgGDAAAAAAAAAYMAAAAAAAABfwAAAAAAAAF7AAAAAAAAAXcAAAAAAAABcwAAAAAAAAFvAAAAAAAAAWsAAAAAAAABZwAAAAAAAAFjAAAAAAAAAV8AAAAAAAABWwAAAAAAAAFXAAAAAAAAAVMAAAAAAAABTwAAAAAAAAFLAAAAAAAAAUcAAAAAAAABQwAAAAAAAAE7AAAAAAAAATMAAAAAAAABKwAAAAAAAAEjAAAAAAAAARsAAAAAAAABEwAAAAAAAAELAAAAAAAAAQMAAAAAAAAA8wAAAAAAAADjAAAAAAAAANMAAAAAAAAAwwAAAAAAAACjAAAAAAAAAIMAAAAAAAAAQwAAAAAAAAAAAAAAAAAAAEEAAAAAAAAAgQAAAAAAAAChAAAAAAAAAMEAAAAAAAAA0QAAAAAAAADhAAAAAAAAAPEAAAAAAAABAQAAAAAAAAEJAAAAAAAAAREAAAAAAAABGQAAAAAAAAEhAAAAAAAAASkAAAAAAAABMQAAAAAAAAE5AAAAAAAAAUEAAAAAAAABRQAAAAAAAAFJAAAAAAAAAU0AAAAAAAABUQAAAAAAAAFVAAAAAAAAAVkAAAAAAAABXQAAAAAAAAFhAAAAAAAAAWUAAAAAAAABaQAAAAAAAAFtAAAAAAAAAXEAAAAAAAABdQAAAAAAAAF5AAAAAAAAAX0AAAAAAAABgQAAAAAAAgGBAAAAAAAAAYUAAAAAAAIBhQAAAAAAAAGJAAAAAAACAYkAAAAAAAABjQAAAAAAAgGNAAAAAAAAAZEAAAAAAAIBkQAAAAAAAAGVAAAAAAACAZUAAAAAAAABmQAAAAAAAgGZAAAAAAAAAZ0AAAAAAAIBnQAAAAAAAAGhAAAAAAACAaEAAAAAAAABpQA==\",\"dtype\":\"float64\",\"shape\":[101]},\"y\":{\"__ndarray__\":\"khssEPXfsD6SGywQ9d+wPpIbLBD137A+khssEPXfsD6SGywQ9d+wPpIbLBD137A+khssEPXfsD6SGywQ9d+wPpIbLBD137A+khssEPXfsD6SGywQ9d+wPpIbLBD137A+khssEPXfsD6SGywQ9d+wPpIbLBD137A+khssEPXfsD6SGywQ9d+wPpIbLBD137A+khssEPXfsD6SGywQ9d+wPpIbLBD137A+khssEPXfsD6SGywQ9d+wPpIbLBD137A+khssEPXfsD6SGywQ9d+wPpIbLBD137A+khssEPXfsD6SGywQ9d+wPpIbLBD137A+khssEPXfsD6SGywQ9d+wPpIbLBD137A+khssEPXfsD6SGywQ9d+wPpIbLBD137A+khssEPXfsD6SGywQ9d+wPpIbLBD137A+khssEPXfsD6SGywQ9d+wPpIbLBD137A+khssEPXfsD6SGywQ9d+wPpIbLBD137A+khssEPXfsD6SGywQ9d+wPpIbLBD137A+khssEPXfsD6SGywQ9d+wPpIbLBD137A+khssEPXfsD6SGywQ9d+wPpIbLBD137A+khssEPXfsD6SGywQ9d+wPpIbLBD137A+khssEPXfsD6SGywQ9d+wPpIbLBD137A+khssEPXfsD6SGywQ9d+wPpIbLBD137A+khssEPXfsD6SGywQ9d+wPpIbLBD137A+khssEPXfsD6SGywQ9d+wPpIbLBD137A+khssEPXfsD6SGywQ9d+wPpIbLBD137A+khssEPXfsD6SGywQ9d+wPpIbLBD137A+khssEPXfsD6SGywQ9d+wPpIbLBD137A+khssEPXfsD6SGywQ9d+wPpIbLBD137A+khssEPXfsD6SGywQ9d+wPpIbLBD137A+khssEPXfsD6SGywQ9d+wPpIbLBD137A+khssEPXfsD6SGywQ9d+wPpIbLBD137A+khssEPXfsD6SGywQ9d+wPpIbLBD137A+khssEPXfsD6SGywQ9d+wPpIbLBD137A+khssEPXfsD6SGywQ9d+wPpIbLBD137A+khssEPXfsD6SGywQ9d+wPg==\",\"dtype\":\"float64\",\"shape\":[101]}},\"selected\":{\"id\":\"4f6e6138-b88c-41be-b94d-4c72825a351b\",\"type\":\"Selection\"},\"selection_policy\":{\"id\":\"3b3bfd2a-ab41-4763-9bce-13a3e5488fe6\",\"type\":\"UnionRenderers\"}},\"id\":\"9a52551c-2095-4ccb-b0f2-d397c9525de5\",\"type\":\"ColumnDataSource\"},{\"attributes\":{},\"id\":\"1838227c-caf5-419f-97bb-7bcbbdf6fddf\",\"type\":\"Selection\"},{\"attributes\":{\"background_fill_alpha\":{\"value\":0.7},\"items\":[{\"id\":\"2b70943f-e562-4668-9143-244a6aecbfce\",\"type\":\"LegendItem\"},{\"id\":\"25cda44a-0526-4a83-aac9-1f7f53c86db0\",\"type\":\"LegendItem\"},{\"id\":\"9ee00783-196a-4b6e-be05-1341e092c74f\",\"type\":\"LegendItem\"},{\"id\":\"f1908192-965b-471a-88c0-fe50f06289d5\",\"type\":\"LegendItem\"}],\"plot\":{\"id\":\"e13cb771-2e4c-443c-b5ef-cf6a4fe7e380\",\"subtype\":\"Figure\",\"type\":\"Plot\"}},\"id\":\"945aacfb-90dc-4687-a3b5-4a45f0afe8a8\",\"type\":\"Legend\"},{\"attributes\":{\"data_source\":{\"id\":\"2cf2f62d-95ee-4151-98d3-abd2b2dfb4ea\",\"type\":\"ColumnDataSource\"},\"glyph\":{\"id\":\"f6bebceb-4249-44da-ad2c-944d99960012\",\"type\":\"Line\"},\"hover_glyph\":null,\"muted_glyph\":null,\"nonselection_glyph\":{\"id\":\"e6d74d4b-5062-44ba-b0da-189cc15ff4c5\",\"type\":\"Line\"},\"selection_glyph\":null,\"view\":{\"id\":\"ef92e448-629c-4ae2-ad9f-5d6fbc684a37\",\"type\":\"CDSView\"}},\"id\":\"ccf2ee68-fbb1-4c4d-b8ab-15f811da5535\",\"type\":\"GlyphRenderer\"},{\"attributes\":{\"callback\":null,\"data\":{\"x\":{\"__ndarray__\":\"AAAAAAAAacAAAAAAAIBowAAAAAAAAGjAAAAAAACAZ8AAAAAAAABnwAAAAAAAgGbAAAAAAAAAZsAAAAAAAIBlwAAAAAAAAGXAAAAAAACAZMAAAAAAAABkwAAAAAAAgGPAAAAAAAAAY8AAAAAAAIBiwAAAAAAAAGLAAAAAAACAYcAAAAAAAABhwAAAAAAAgGDAAAAAAAAAYMAAAAAAAABfwAAAAAAAAF7AAAAAAAAAXcAAAAAAAABcwAAAAAAAAFvAAAAAAAAAWsAAAAAAAABZwAAAAAAAAFjAAAAAAAAAV8AAAAAAAABWwAAAAAAAAFXAAAAAAAAAVMAAAAAAAABTwAAAAAAAAFLAAAAAAAAAUcAAAAAAAABQwAAAAAAAAE7AAAAAAAAATMAAAAAAAABKwAAAAAAAAEjAAAAAAAAARsAAAAAAAABEwAAAAAAAAELAAAAAAAAAQMAAAAAAAAA8wAAAAAAAADjAAAAAAAAANMAAAAAAAAAwwAAAAAAAACjAAAAAAAAAIMAAAAAAAAAQwAAAAAAAAAAAAAAAAAAAEEAAAAAAAAAgQAAAAAAAAChAAAAAAAAAMEAAAAAAAAA0QAAAAAAAADhAAAAAAAAAPEAAAAAAAABAQAAAAAAAAEJAAAAAAAAAREAAAAAAAABGQAAAAAAAAEhAAAAAAAAASkAAAAAAAABMQAAAAAAAAE5AAAAAAAAAUEAAAAAAAABRQAAAAAAAAFJAAAAAAAAAU0AAAAAAAABUQAAAAAAAAFVAAAAAAAAAVkAAAAAAAABXQAAAAAAAAFhAAAAAAAAAWUAAAAAAAABaQAAAAAAAAFtAAAAAAAAAXEAAAAAAAABdQAAAAAAAAF5AAAAAAAAAX0AAAAAAAABgQAAAAAAAgGBAAAAAAAAAYUAAAAAAAIBhQAAAAAAAAGJAAAAAAACAYkAAAAAAAABjQAAAAAAAgGNAAAAAAAAAZEAAAAAAAIBkQAAAAAAAAGVAAAAAAACAZUAAAAAAAABmQAAAAAAAgGZAAAAAAAAAZ0AAAAAAAIBnQAAAAAAAAGhAAAAAAACAaEAAAAAAAABpQA==\",\"dtype\":\"float64\",\"shape\":[101]},\"y\":{\"__ndarray__\":\"LYGrpbeO8D4tgault47wPi2Bq6W3jvA+LYGrpbeO8D4tgault47wPi2Bq6W3jvA+LYGrpbeO8D4tgault47wPi2Bq6W3jvA+LYGrpbeO8D4tgault47wPi2Bq6W3jvA+LYGrpbeO8D4tgault47wPi2Bq6W3jvA+LYGrpbeO8D4tgault47wPi2Bq6W3jvA+LYGrpbeO8D4tgault47wPi2Bq6W3jvA+LYGrpbeO8D4tgault47wPi2Bq6W3jvA+LYGrpbeO8D4tgault47wPi2Bq6W3jvA+LYGrpbeO8D4tgault47wPi2Bq6W3jvA+LYGrpbeO8D4tgault47wPi2Bq6W3jvA+LYGrpbeO8D4tgault47wPi2Bq6W3jvA+LYGrpbeO8D4tgault47wPi2Bq6W3jvA+LYGrpbeO8D4tgault47wPi2Bq6W3jvA+LYGrpbeO8D4tgault47wPi2Bq6W3jvA+LYGrpbeO8D4tgault47wPi2Bq6W3jvA+LYGrpbeO8D4tgault47wPi2Bq6W3jvA+LYGrpbeO8D4tgault47wPi2Bq6W3jvA+LYGrpbeO8D4tgault47wPi2Bq6W3jvA+LYGrpbeO8D4tgault47wPi2Bq6W3jvA+LYGrpbeO8D4tgault47wPi2Bq6W3jvA+LYGrpbeO8D4tgault47wPi2Bq6W3jvA+LYGrpbeO8D4tgault47wPi2Bq6W3jvA+LYGrpbeO8D4tgault47wPi2Bq6W3jvA+LYGrpbeO8D4tgault47wPi2Bq6W3jvA+LYGrpbeO8D4tgault47wPi2Bq6W3jvA+LYGrpbeO8D4tgault47wPi2Bq6W3jvA+LYGrpbeO8D4tgault47wPi2Bq6W3jvA+LYGrpbeO8D4tgault47wPi2Bq6W3jvA+LYGrpbeO8D4tgault47wPi2Bq6W3jvA+LYGrpbeO8D4tgault47wPi2Bq6W3jvA+LYGrpbeO8D4tgault47wPi2Bq6W3jvA+LYGrpbeO8D4tgault47wPi2Bq6W3jvA+LYGrpbeO8D4tgault47wPg==\",\"dtype\":\"float64\",\"shape\":[101]}},\"selected\":{\"id\":\"112ada0b-9051-4298-9055-43581e275c08\",\"type\":\"Selection\"},\"selection_policy\":{\"id\":\"d839f6ed-3306-44b5-b01b-ab9b949d240d\",\"type\":\"UnionRenderers\"}},\"id\":\"e40411cc-74f7-4070-be9d-2f8ff451448c\",\"type\":\"ColumnDataSource\"},{\"attributes\":{\"line_color\":\"green\",\"line_width\":2,\"x\":{\"field\":\"x\"},\"y\":{\"field\":\"y\"}},\"id\":\"f6bebceb-4249-44da-ad2c-944d99960012\",\"type\":\"Line\"},{\"attributes\":{\"source\":{\"id\":\"2cf2f62d-95ee-4151-98d3-abd2b2dfb4ea\",\"type\":\"ColumnDataSource\"}},\"id\":\"ef92e448-629c-4ae2-ad9f-5d6fbc684a37\",\"type\":\"CDSView\"},{\"attributes\":{},\"id\":\"09573ef4-a77c-4df6-bc4c-333b74b5b60e\",\"type\":\"UnionRenderers\"},{\"attributes\":{\"line_color\":\"red\",\"line_width\":2,\"x\":{\"field\":\"x\"},\"y\":{\"field\":\"y\"}},\"id\":\"2fa9107e-4744-49ba-afc1-0fa9f8d0fd23\",\"type\":\"Line\"},{\"attributes\":{\"line_alpha\":0.1,\"line_color\":\"#1f77b4\",\"line_width\":2,\"x\":{\"field\":\"x\"},\"y\":{\"field\":\"y\"}},\"id\":\"ef86c9d4-e922-4577-a5b0-dd7676a2d7dd\",\"type\":\"Line\"},{\"attributes\":{},\"id\":\"e436dbce-2f9d-4a2e-80fd-170369c5a3e8\",\"type\":\"Selection\"},{\"attributes\":{\"label\":{\"value\":\"1st Stokes\"},\"renderers\":[{\"id\":\"ccf2ee68-fbb1-4c4d-b8ab-15f811da5535\",\"type\":\"GlyphRenderer\"}]},\"id\":\"25cda44a-0526-4a83-aac9-1f7f53c86db0\",\"type\":\"LegendItem\"},{\"attributes\":{\"background_fill_alpha\":{\"value\":0.3},\"background_fill_color\":{\"value\":\"lightgrey\"},\"below\":[{\"id\":\"f7d0e39e-ecd2-4df3-9e41-ed25a94ea745\",\"type\":\"LinearAxis\"}],\"left\":[{\"id\":\"da9feef6-3823-4e41-8fad-ae1d3a2933c0\",\"type\":\"LogAxis\"}],\"outline_line_color\":{\"value\":\"black\"},\"plot_height\":400,\"plot_width\":450,\"renderers\":[{\"id\":\"f7d0e39e-ecd2-4df3-9e41-ed25a94ea745\",\"type\":\"LinearAxis\"},{\"id\":\"1672c4f0-1519-4e37-be66-befaec2b8f7e\",\"type\":\"Grid\"},{\"id\":\"da9feef6-3823-4e41-8fad-ae1d3a2933c0\",\"type\":\"LogAxis\"},{\"id\":\"6d679698-f4f5-4dc3-a9f7-e663c31f024c\",\"type\":\"Grid\"},{\"id\":\"c2d25971-63ba-4613-b255-fc99b38d7536\",\"type\":\"BoxAnnotation\"},{\"id\":\"c58f9af9-a3ab-4260-a542-9aafcbce57c4\",\"type\":\"Span\"}],\"title\":{\"id\":\"2a8031d8-4b42-4bde-bb6d-b37ef9cd51dc\",\"type\":\"Title\"},\"toolbar\":{\"id\":\"3442def1-0eaa-4cb3-83ec-cc1477a338e9\",\"type\":\"Toolbar\"},\"x_range\":{\"id\":\"6d717556-aea9-42b0-a1fb-0c62ff83452d\",\"type\":\"Range1d\"},\"x_scale\":{\"id\":\"6f72277a-ea01-4b6a-bff3-c30f4fb1cd07\",\"type\":\"LinearScale\"},\"y_range\":{\"id\":\"2629ee76-8b4b-4d46-a0be-ff158dd69de4\",\"type\":\"DataRange1d\"},\"y_scale\":{\"id\":\"097b28c7-5f3e-4004-bdb3-1441c63f62ca\",\"type\":\"LogScale\"}},\"id\":\"1ae096bd-ad1d-447f-a623-8f7b4b845e9c\",\"subtype\":\"Figure\",\"type\":\"Plot\"},{\"attributes\":{},\"id\":\"5b5fe952-417d-425e-adf4-6d14411e4bf6\",\"type\":\"UnionRenderers\"},{\"attributes\":{\"source\":{\"id\":\"9a52551c-2095-4ccb-b0f2-d397c9525de5\",\"type\":\"ColumnDataSource\"}},\"id\":\"f213a5ef-ae19-498e-9de1-ff048c711bb0\",\"type\":\"CDSView\"},{\"attributes\":{\"data_source\":{\"id\":\"9a52551c-2095-4ccb-b0f2-d397c9525de5\",\"type\":\"ColumnDataSource\"},\"glyph\":{\"id\":\"2fa9107e-4744-49ba-afc1-0fa9f8d0fd23\",\"type\":\"Line\"},\"hover_glyph\":null,\"muted_glyph\":null,\"nonselection_glyph\":{\"id\":\"ef86c9d4-e922-4577-a5b0-dd7676a2d7dd\",\"type\":\"Line\"},\"selection_glyph\":null,\"view\":{\"id\":\"f213a5ef-ae19-498e-9de1-ff048c711bb0\",\"type\":\"CDSView\"}},\"id\":\"ae3e89c2-a239-440e-8a81-269b094a4562\",\"type\":\"GlyphRenderer\"},{\"attributes\":{\"line_color\":\"blue\",\"line_dash\":[6],\"line_width\":2,\"x\":{\"field\":\"x\"},\"y\":{\"field\":\"y\"}},\"id\":\"5d8d8e2b-bdea-44a8-b41a-f8f70d8e630f\",\"type\":\"Line\"},{\"attributes\":{\"line_alpha\":0.1,\"line_color\":\"#1f77b4\",\"line_dash\":[6],\"line_width\":2,\"x\":{\"field\":\"x\"},\"y\":{\"field\":\"y\"}},\"id\":\"a5e4f466-8202-4b48-8e70-805d4334a046\",\"type\":\"Line\"},{\"attributes\":{},\"id\":\"4f6e6138-b88c-41be-b94d-4c72825a351b\",\"type\":\"Selection\"},{\"attributes\":{\"label\":{\"value\":\"2nd Stokes\"},\"renderers\":[{\"id\":\"ae3e89c2-a239-440e-8a81-269b094a4562\",\"type\":\"GlyphRenderer\"}]},\"id\":\"9ee00783-196a-4b6e-be05-1341e092c74f\",\"type\":\"LegendItem\"},{\"attributes\":{\"dimension\":\"height\",\"line_dash\":[6],\"location\":2.0,\"plot\":{\"id\":\"1ae096bd-ad1d-447f-a623-8f7b4b845e9c\",\"subtype\":\"Figure\",\"type\":\"Plot\"}},\"id\":\"c58f9af9-a3ab-4260-a542-9aafcbce57c4\",\"type\":\"Span\"},{\"attributes\":{},\"id\":\"3b3bfd2a-ab41-4763-9bce-13a3e5488fe6\",\"type\":\"UnionRenderers\"},{\"attributes\":{\"source\":{\"id\":\"e40411cc-74f7-4070-be9d-2f8ff451448c\",\"type\":\"ColumnDataSource\"}},\"id\":\"a3ae5565-e20e-4aa7-922a-37baa0066a3e\",\"type\":\"CDSView\"},{\"attributes\":{\"data_source\":{\"id\":\"e40411cc-74f7-4070-be9d-2f8ff451448c\",\"type\":\"ColumnDataSource\"},\"glyph\":{\"id\":\"5d8d8e2b-bdea-44a8-b41a-f8f70d8e630f\",\"type\":\"Line\"},\"hover_glyph\":null,\"muted_glyph\":null,\"nonselection_glyph\":{\"id\":\"a5e4f466-8202-4b48-8e70-805d4334a046\",\"type\":\"Line\"},\"selection_glyph\":null,\"view\":{\"id\":\"a3ae5565-e20e-4aa7-922a-37baa0066a3e\",\"type\":\"CDSView\"}},\"id\":\"b45c2fd5-3bc9-4cb5-8ffb-5353fee8fe63\",\"type\":\"GlyphRenderer\"},{\"attributes\":{},\"id\":\"86d1abac-3889-403c-805b-071c64ae9fb8\",\"type\":\"BasicTickFormatter\"},{\"attributes\":{\"active_drag\":\"auto\",\"active_inspect\":\"auto\",\"active_scroll\":\"auto\",\"active_tap\":\"auto\",\"tools\":[{\"id\":\"359da976-7cac-4f72-b786-1283323ab4ce\",\"type\":\"PanTool\"},{\"id\":\"89079169-ef8c-481c-ae70-b5fb9efc7729\",\"type\":\"WheelZoomTool\"},{\"id\":\"0d7c03c2-5f06-482c-8b05-6b2ed338a335\",\"type\":\"BoxZoomTool\"},{\"id\":\"5be83411-2b93-4d82-93a8-6392898a53e0\",\"type\":\"SaveTool\"},{\"id\":\"e2f3f26b-448b-4c53-a1e2-d83f96eed0d0\",\"type\":\"ResetTool\"},{\"id\":\"d04f40ea-4c1c-4762-9361-5d2b7d762a79\",\"type\":\"HelpTool\"}]},\"id\":\"3442def1-0eaa-4cb3-83ec-cc1477a338e9\",\"type\":\"Toolbar\"},{\"attributes\":{\"label\":{\"value\":\"ASE\"},\"renderers\":[{\"id\":\"b45c2fd5-3bc9-4cb5-8ffb-5353fee8fe63\",\"type\":\"GlyphRenderer\"}]},\"id\":\"f1908192-965b-471a-88c0-fe50f06289d5\",\"type\":\"LegendItem\"},{\"attributes\":{},\"id\":\"097b28c7-5f3e-4004-bdb3-1441c63f62ca\",\"type\":\"LogScale\"},{\"attributes\":{},\"id\":\"37da7095-e0d0-4cae-afd9-69934c3ddb8e\",\"type\":\"LinearScale\"},{\"attributes\":{},\"id\":\"6f72277a-ea01-4b6a-bff3-c30f4fb1cd07\",\"type\":\"LinearScale\"},{\"attributes\":{\"callback\":null},\"id\":\"2629ee76-8b4b-4d46-a0be-ff158dd69de4\",\"type\":\"DataRange1d\"},{\"attributes\":{\"plot\":{\"id\":\"1ae096bd-ad1d-447f-a623-8f7b4b845e9c\",\"subtype\":\"Figure\",\"type\":\"Plot\"},\"ticker\":{\"id\":\"d3f0180c-19f8-4bbb-8f2f-7edeeef9fce4\",\"type\":\"BasicTicker\"}},\"id\":\"1672c4f0-1519-4e37-be66-befaec2b8f7e\",\"type\":\"Grid\"},{\"attributes\":{\"axis_label\":\"Distance Along Fiber (meter)\",\"axis_label_text_font_size\":{\"value\":\"12pt\"},\"formatter\":{\"id\":\"86d1abac-3889-403c-805b-071c64ae9fb8\",\"type\":\"BasicTickFormatter\"},\"major_label_text_font_size\":{\"value\":\"12pt\"},\"plot\":{\"id\":\"1ae096bd-ad1d-447f-a623-8f7b4b845e9c\",\"subtype\":\"Figure\",\"type\":\"Plot\"},\"ticker\":{\"id\":\"d3f0180c-19f8-4bbb-8f2f-7edeeef9fce4\",\"type\":\"BasicTicker\"}},\"id\":\"f7d0e39e-ecd2-4df3-9e41-ed25a94ea745\",\"type\":\"LinearAxis\"},{\"attributes\":{},\"id\":\"a2e1f286-ea3c-4ac4-8043-ce7175f9ea19\",\"type\":\"LogScale\"},{\"attributes\":{},\"id\":\"d3f0180c-19f8-4bbb-8f2f-7edeeef9fce4\",\"type\":\"BasicTicker\"},{\"attributes\":{\"axis_label\":\"Pulse Energy (Joule)\",\"axis_label_text_font_size\":{\"value\":\"12pt\"},\"formatter\":{\"id\":\"a2ccbb55-9270-4018-9c58-76e9ec762e75\",\"type\":\"LogTickFormatter\"},\"major_label_text_font_size\":{\"value\":\"12pt\"},\"plot\":{\"id\":\"1ae096bd-ad1d-447f-a623-8f7b4b845e9c\",\"subtype\":\"Figure\",\"type\":\"Plot\"},\"ticker\":{\"id\":\"bef69ba0-575a-44a1-96c8-ebe2787cc49c\",\"type\":\"LogTicker\"}},\"id\":\"da9feef6-3823-4e41-8fad-ae1d3a2933c0\",\"type\":\"LogAxis\"},{\"attributes\":{\"num_minor_ticks\":10},\"id\":\"bef69ba0-575a-44a1-96c8-ebe2787cc49c\",\"type\":\"LogTicker\"},{\"attributes\":{\"dimension\":1,\"plot\":{\"id\":\"1ae096bd-ad1d-447f-a623-8f7b4b845e9c\",\"subtype\":\"Figure\",\"type\":\"Plot\"},\"ticker\":{\"id\":\"bef69ba0-575a-44a1-96c8-ebe2787cc49c\",\"type\":\"LogTicker\"}},\"id\":\"6d679698-f4f5-4dc3-a9f7-e663c31f024c\",\"type\":\"Grid\"},{\"attributes\":{\"axis_label\":\"Time (psec)\",\"axis_label_text_font_size\":{\"value\":\"12pt\"},\"formatter\":{\"id\":\"7f9598ce-8f9e-4033-b6c1-9b9568d62382\",\"type\":\"BasicTickFormatter\"},\"major_label_text_font_size\":{\"value\":\"12pt\"},\"plot\":{\"id\":\"e13cb771-2e4c-443c-b5ef-cf6a4fe7e380\",\"subtype\":\"Figure\",\"type\":\"Plot\"},\"ticker\":{\"id\":\"8da1d1cc-bbbd-4990-8e55-af6d49341be1\",\"type\":\"BasicTicker\"}},\"id\":\"758537e6-75cc-4333-995b-e00e55bcafdc\",\"type\":\"LinearAxis\"},{\"attributes\":{\"children\":[{\"id\":\"e13cb771-2e4c-443c-b5ef-cf6a4fe7e380\",\"subtype\":\"Figure\",\"type\":\"Plot\"},{\"id\":\"1ae096bd-ad1d-447f-a623-8f7b4b845e9c\",\"subtype\":\"Figure\",\"type\":\"Plot\"}]},\"id\":\"42c292a2-2051-4cb9-8216-c7b7ad339213\",\"type\":\"Row\"},{\"attributes\":{\"plot\":{\"id\":\"e13cb771-2e4c-443c-b5ef-cf6a4fe7e380\",\"subtype\":\"Figure\",\"type\":\"Plot\"},\"text\":\"Average Power\",\"text_color\":{\"value\":\"darkblue\"},\"text_font_size\":{\"value\":\"10pt\"},\"x\":10,\"x_units\":\"screen\",\"y\":300,\"y_units\":\"screen\"},\"id\":\"e6bcbb08-3fe9-44d0-b715-6e8e9c40c86d\",\"type\":\"Label\"},{\"attributes\":{\"plot\":{\"id\":\"e13cb771-2e4c-443c-b5ef-cf6a4fe7e380\",\"subtype\":\"Figure\",\"type\":\"Plot\"},\"text\":\"ASE Power\",\"text_color\":{\"value\":\"darkblue\"},\"text_font_size\":{\"value\":\"10pt\"},\"x\":5,\"x_units\":\"screen\",\"y\":200,\"y_units\":\"screen\"},\"id\":\"9ed1c8b6-3d52-4b25-978d-025c5a89d6e7\",\"type\":\"Label\"},{\"attributes\":{\"callback\":null,\"end\":2.0},\"id\":\"6d717556-aea9-42b0-a1fb-0c62ff83452d\",\"type\":\"Range1d\"},{\"attributes\":{\"plot\":{\"id\":\"e13cb771-2e4c-443c-b5ef-cf6a4fe7e380\",\"subtype\":\"Figure\",\"type\":\"Plot\"},\"text\":\"Pulse Energy\",\"text_color\":{\"value\":\"darkblue\"},\"text_font_size\":{\"value\":\"10pt\"},\"x\":10,\"x_units\":\"screen\",\"y\":250,\"y_units\":\"screen\"},\"id\":\"bc1d5bac-4acf-4ec5-b68b-c92505dc7b1e\",\"type\":\"Label\"},{\"attributes\":{\"plot\":null,\"text\":\"\"},\"id\":\"2a8031d8-4b42-4bde-bb6d-b37ef9cd51dc\",\"type\":\"Title\"},{\"attributes\":{\"active_drag\":\"auto\",\"active_inspect\":\"auto\",\"active_scroll\":\"auto\",\"active_tap\":\"auto\",\"tools\":[{\"id\":\"32cc1b18-742c-4ef4-9d4c-a99db15282df\",\"type\":\"PanTool\"},{\"id\":\"f862a7d9-a282-4ea4-9f54-2fa9d86edd51\",\"type\":\"WheelZoomTool\"},{\"id\":\"bbf3da70-cc2d-42bc-8f88-bd432bfe75df\",\"type\":\"BoxZoomTool\"},{\"id\":\"8d4d3e14-f132-4421-a5ba-6c27b2876b1d\",\"type\":\"SaveTool\"},{\"id\":\"3446be8d-e2d3-43b1-9e87-f7819338852b\",\"type\":\"ResetTool\"},{\"id\":\"b3a4ec0a-ec66-4a44-8380-52e6c17d5c8d\",\"type\":\"HelpTool\"}]},\"id\":\"96505842-05d6-41e2-96b0-f064ec48389f\",\"type\":\"Toolbar\"},{\"attributes\":{},\"id\":\"359da976-7cac-4f72-b786-1283323ab4ce\",\"type\":\"PanTool\"},{\"attributes\":{\"background_fill_alpha\":{\"value\":0.3},\"background_fill_color\":{\"value\":\"lightgrey\"},\"below\":[{\"id\":\"758537e6-75cc-4333-995b-e00e55bcafdc\",\"type\":\"LinearAxis\"}],\"left\":[{\"id\":\"8e7e87d2-97e8-408f-b11c-390e7580fa8c\",\"type\":\"LogAxis\"}],\"min_border_top\":10,\"outline_line_color\":{\"value\":\"black\"},\"plot_height\":400,\"plot_width\":450,\"renderers\":[{\"id\":\"758537e6-75cc-4333-995b-e00e55bcafdc\",\"type\":\"LinearAxis\"},{\"id\":\"de8ba53d-744e-4761-a66a-3a5b76237c74\",\"type\":\"Grid\"},{\"id\":\"8e7e87d2-97e8-408f-b11c-390e7580fa8c\",\"type\":\"LogAxis\"},{\"id\":\"ebe236e8-2d50-4ba2-ba7d-1d932b958339\",\"type\":\"Grid\"},{\"id\":\"75f54b32-56ca-4208-b8d8-28840b52a22c\",\"type\":\"BoxAnnotation\"},{\"id\":\"e6bcbb08-3fe9-44d0-b715-6e8e9c40c86d\",\"type\":\"Label\"},{\"id\":\"bc1d5bac-4acf-4ec5-b68b-c92505dc7b1e\",\"type\":\"Label\"},{\"id\":\"9ed1c8b6-3d52-4b25-978d-025c5a89d6e7\",\"type\":\"Label\"},{\"id\":\"945aacfb-90dc-4687-a3b5-4a45f0afe8a8\",\"type\":\"Legend\"},{\"id\":\"87d38e30-d2bc-4573-839a-ee9d30e6ce4c\",\"type\":\"GlyphRenderer\"},{\"id\":\"ccf2ee68-fbb1-4c4d-b8ab-15f811da5535\",\"type\":\"GlyphRenderer\"},{\"id\":\"ae3e89c2-a239-440e-8a81-269b094a4562\",\"type\":\"GlyphRenderer\"},{\"id\":\"b45c2fd5-3bc9-4cb5-8ffb-5353fee8fe63\",\"type\":\"GlyphRenderer\"}],\"title\":{\"id\":\"1c0765b6-a2c4-44f0-a943-e57b7fc77281\",\"type\":\"Title\"},\"toolbar\":{\"id\":\"96505842-05d6-41e2-96b0-f064ec48389f\",\"type\":\"Toolbar\"},\"x_range\":{\"id\":\"006e95c7-ce70-4b2b-99a4-f72984a6e4f8\",\"type\":\"Range1d\"},\"x_scale\":{\"id\":\"37da7095-e0d0-4cae-afd9-69934c3ddb8e\",\"type\":\"LinearScale\"},\"y_range\":{\"id\":\"9ee00fa5-76ab-4103-8099-cfefd8bd2aa7\",\"type\":\"Range1d\"},\"y_scale\":{\"id\":\"a2e1f286-ea3c-4ac4-8043-ce7175f9ea19\",\"type\":\"LogScale\"}},\"id\":\"e13cb771-2e4c-443c-b5ef-cf6a4fe7e380\",\"subtype\":\"Figure\",\"type\":\"Plot\"},{\"attributes\":{},\"id\":\"e2f3f26b-448b-4c53-a1e2-d83f96eed0d0\",\"type\":\"ResetTool\"},{\"attributes\":{\"callback\":null,\"data\":{\"x\":{\"__ndarray__\":\"AAAAAAAAacAAAAAAAIBowAAAAAAAAGjAAAAAAACAZ8AAAAAAAABnwAAAAAAAgGbAAAAAAAAAZsAAAAAAAIBlwAAAAAAAAGXAAAAAAACAZMAAAAAAAABkwAAAAAAAgGPAAAAAAAAAY8AAAAAAAIBiwAAAAAAAAGLAAAAAAACAYcAAAAAAAABhwAAAAAAAgGDAAAAAAAAAYMAAAAAAAABfwAAAAAAAAF7AAAAAAAAAXcAAAAAAAABcwAAAAAAAAFvAAAAAAAAAWsAAAAAAAABZwAAAAAAAAFjAAAAAAAAAV8AAAAAAAABWwAAAAAAAAFXAAAAAAAAAVMAAAAAAAABTwAAAAAAAAFLAAAAAAAAAUcAAAAAAAABQwAAAAAAAAE7AAAAAAAAATMAAAAAAAABKwAAAAAAAAEjAAAAAAAAARsAAAAAAAABEwAAAAAAAAELAAAAAAAAAQMAAAAAAAAA8wAAAAAAAADjAAAAAAAAANMAAAAAAAAAwwAAAAAAAACjAAAAAAAAAIMAAAAAAAAAQwAAAAAAAAAAAAAAAAAAAEEAAAAAAAAAgQAAAAAAAAChAAAAAAAAAMEAAAAAAAAA0QAAAAAAAADhAAAAAAAAAPEAAAAAAAABAQAAAAAAAAEJAAAAAAAAAREAAAAAAAABGQAAAAAAAAEhAAAAAAAAASkAAAAAAAABMQAAAAAAAAE5AAAAAAAAAUEAAAAAAAABRQAAAAAAAAFJAAAAAAAAAU0AAAAAAAABUQAAAAAAAAFVAAAAAAAAAVkAAAAAAAABXQAAAAAAAAFhAAAAAAAAAWUAAAAAAAABaQAAAAAAAAFtAAAAAAAAAXEAAAAAAAABdQAAAAAAAAF5AAAAAAAAAX0AAAAAAAABgQAAAAAAAgGBAAAAAAAAAYUAAAAAAAIBhQAAAAAAAAGJAAAAAAACAYkAAAAAAAABjQAAAAAAAgGNAAAAAAAAAZEAAAAAAAIBkQAAAAAAAAGVAAAAAAACAZUAAAAAAAABmQAAAAAAAgGZAAAAAAAAAZ0AAAAAAAIBnQAAAAAAAAGhAAAAAAACAaEAAAAAAAABpQA==\",\"dtype\":\"float64\",\"shape\":[101]},\"y\":{\"__ndarray__\":\"b/kU/MrFwT5v+RT8ysXBPm/5FPzKxcE+b/kU/MrFwT5v+RT8ysXBPm/5FPzKxcE+b/kU/MrFwT5v+RT8ysXBPm/5FPzKxcE+b/kU/MrFwT5v+RT8ysXBPm/5FPzKxcE+b/kU/MrFwT5v+RT8ysXBPm/5FPzKxcE+b/kU/MrFwT5v+RT8ysXBPm/5FPzKxcE+b/kU/MrFwT5v+RT8ysXBPm/5FPzKxcE+b/kU/MrFwT5v+RT8ysXBPm/5FPzKxcE+b/kU/MrFwT5v+RT8ysXBPm/5FPzKxcE+b/kU/MrFwT5v+RT8ysXBPn75FPzKxcE+svoU/MrFwT6MDRX8ysXBPlUPFvzKxcE+2f0h/MrFwT4Fa5z8ysXBPjfB2wDLxcE+Wj9/IcvFwT6BHWD6y8XBPqQxrdfQxcE+vUsk9ejFwT6e7asPUMbBPhqS7MHLx8E+D4MshX7MwT4rEXWZR9nBPgiK83Aj98E+TTdDweIywj4UR+mNzJjCPvL2rAeuKsM+u/NcJgHTwz4O52wRPWDEPoYenT5AmMQ+DudsET1gxD6781wmAdPDPvL2rAeuKsM+FEfpjcyYwj5NN0PB4jLCPgiK83Aj98E+KxF1mUfZwT4PgyyFfszBPhqS7MHLx8E+nu2rD1DGwT69SyT16MXBPqQxrdfQxcE+gR1g+svFwT5aP38hy8XBPjfB2wDLxcE+BWuc/MrFwT7Z/SH8ysXBPlUPFvzKxcE+jA0V/MrFwT6y+hT8ysXBPn75FPzKxcE+b/kU/MrFwT5v+RT8ysXBPm/5FPzKxcE+b/kU/MrFwT5v+RT8ysXBPm/5FPzKxcE+b/kU/MrFwT5v+RT8ysXBPm/5FPzKxcE+b/kU/MrFwT5v+RT8ysXBPm/5FPzKxcE+b/kU/MrFwT5v+RT8ysXBPm/5FPzKxcE+b/kU/MrFwT5v+RT8ysXBPm/5FPzKxcE+b/kU/MrFwT5v+RT8ysXBPm/5FPzKxcE+b/kU/MrFwT5v+RT8ysXBPm/5FPzKxcE+b/kU/MrFwT5v+RT8ysXBPm/5FPzKxcE+b/kU/MrFwT5v+RT8ysXBPg==\",\"dtype\":\"float64\",\"shape\":[101]}},\"selected\":{\"id\":\"e436dbce-2f9d-4a2e-80fd-170369c5a3e8\",\"type\":\"Selection\"},\"selection_policy\":{\"id\":\"5b5fe952-417d-425e-adf4-6d14411e4bf6\",\"type\":\"UnionRenderers\"}},\"id\":\"2cf2f62d-95ee-4151-98d3-abd2b2dfb4ea\",\"type\":\"ColumnDataSource\"},{\"attributes\":{},\"id\":\"89079169-ef8c-481c-ae70-b5fb9efc7729\",\"type\":\"WheelZoomTool\"},{\"attributes\":{\"overlay\":{\"id\":\"c2d25971-63ba-4613-b255-fc99b38d7536\",\"type\":\"BoxAnnotation\"}},\"id\":\"0d7c03c2-5f06-482c-8b05-6b2ed338a335\",\"type\":\"BoxZoomTool\"},{\"attributes\":{},\"id\":\"5be83411-2b93-4d82-93a8-6392898a53e0\",\"type\":\"SaveTool\"}],\"root_ids\":[\"42c292a2-2051-4cb9-8216-c7b7ad339213\"]},\"title\":\"Bokeh Application\",\"version\":\"0.12.16\"}};\n",
       "  var render_items = [{\"docid\":\"027efcaa-d990-4f36-abf0-f15342ab8d6b\",\"elementid\":\"e888c4c9-5c62-4814-b6b3-3c2a01d22eae\",\"modelid\":\"42c292a2-2051-4cb9-8216-c7b7ad339213\",\"notebook_comms_target\":\"5e66bea0-ce35-4652-b3a5-e5da8f9305f7\"}];\n",
       "  root.Bokeh.embed.embed_items_notebook(docs_json, render_items);\n",
       "\n",
       "  }\n",
       "  if (root.Bokeh !== undefined) {\n",
       "    embed_document(root);\n",
       "  } else {\n",
       "    var attempts = 0;\n",
       "    var timer = setInterval(function(root) {\n",
       "      if (root.Bokeh !== undefined) {\n",
       "        embed_document(root);\n",
       "        clearInterval(timer);\n",
       "      }\n",
       "      attempts++;\n",
       "      if (attempts > 100) {\n",
       "        console.log(\"Bokeh: ERROR: Unable to run BokehJS code because BokehJS library is missing\")\n",
       "        clearInterval(timer);\n",
       "      }\n",
       "    }, 10, root)\n",
       "  }\n",
       "})(window);"
      ],
      "application/vnd.bokehjs_exec.v0+json": ""
     },
     "metadata": {
      "application/vnd.bokehjs_exec.v0+json": {
       "id": "42c292a2-2051-4cb9-8216-c7b7ad339213"
      }
     },
     "output_type": "display_data"
    },
    {
     "data": {
      "application/vnd.jupyter.widget-view+json": {
       "model_id": "e8f28f8c9e1c48f39e9c2d58aa1bef97",
       "version_major": 2,
       "version_minor": 0
      },
      "text/plain": [
       "IntProgress(value=0, bar_style='success', description='Progress', max=200)"
      ]
     },
     "metadata": {},
     "output_type": "display_data"
    },
    {
     "name": "stdout",
     "output_type": "stream",
     "text": [
      "elapsed time= 9.973960399627686\n"
     ]
    }
   ],
   "source": [
    "# Stage 2\n",
    "coreD = coreD_widget2.value*1e-4 # Core diameter in cm\n",
    "cladD = cladD_widget2.value*1e-4 # Cladding diameter in cm\n",
    "fiber_loss = fiber_loss_widget2.value/4.34/1e5 # background loss in optical fiber in inverse cm\n",
    "rshift = rshift_widget2.value # Raman shift in inverse cm\n",
    "raman_gain = raman_gain_widget2.value*1e-12 # Peak Raman Gain in cm/W\n",
    "raman_width = raman_width_widget2.value\n",
    "Yb_conc = Yb_conc_widget2.value # Yb concentration ppm\n",
    "Ybpump_power = Ybpump_power_widget2.value # Yb pump power in W\n",
    "insertion_loss = 10**(-insertion_loss_widget2.value/10)\n",
    "stokesw1 = seed_wavelength_widget2.value # Wavelength of 1st Stokes signal in nm\n",
    "stokesw2 = 1e7/(-rshift_widget2.value+1e7/stokesw1) # Wavelength of 2st Stokes signal in nm\n",
    "seed_power = seed_power_widget2.value/1000*insertion_loss # power in Watt\n",
    "fiber_length = fiber_length_widget2.value # total fiber Length in meters\n",
    "Ldoped = Ldoped_widget2.value # length of doped fiber in meters at beginning of fiber\n",
    "delta_L = delta_L_widget2.value # numerical distance increment in cm\n",
    "\n",
    "pump_loss0 = sigmaa976*Yb_conc*1e-6*6.02214e23*2.2/60*(coreD**2/cladD**2) # unsaturated pump loss in inverse cm\n",
    "print('Unsaturated Yb Pump Loss = %4.2f (dB/m)' % (pump_loss0*100*4.34))\n",
    "NYb = Yb_conc*1e-6*6.02214e23*2.2/60 # Yb concentration in inverse cubic cm\n",
    "print('NYb = ', NYb)\n",
    "Nexc0 = Ybpump_power/(np.pi*cladD**2/4)*pump_loss0*tau/hnu_pump/(coreD**2/cladD**2) # Excited State Density - Unsat Pump Loss\n",
    "Nexc = Nexc0/(1+Nexc0/NYb)\n",
    "print('Excited State Density Nexc0 = %4.2e (#/cm^3)' % Nexc0)\n",
    "print('Excited State Density Nexc = %4.2e (#/cm^3)' % Nexc)\n",
    "pump_loss=pump_loss0*(1-Nexc/NYb)\n",
    "print('Yb Pump Loss = %4.2f (dB/m)' % (pump_loss*100*4.34))\n",
    "fundamental_gain_us=Nexc*sigmae1064 # unsaturated gain of the fundamental in inverse cm\n",
    "print('Intital Unsaturated Gain for Fundamental = %4.2f (dB/m)' % (fundamental_gain_us*100*4.34))\n",
    "Aeff = np.pi*(coreD/2)**2/(-np.log(1-gammas)/2) # Effective area for signals in core\n",
    "raman_width_Hz = raman_width/(1e7/stokesw1)*(3e17/stokesw1) # Width of equivalent spontaneous Raman input in Hz \n",
    "\n",
    "t=np.linspace(-200,200,101)\n",
    "fundamental=fundamental_1*Aeff_1/Aeff*insertion_loss\n",
    "hnu_signal1=1239.842/stokesw1*1.6022e-19\n",
    "signal1=signal1_1*Aeff_1/Aeff*insertion_loss+seed_power/Aeff+hnu_signal1*raman_width_Hz/Aeff\n",
    "seed_power=seed_power*insertion_loss\n",
    "hnu_signal2=1239.842/stokesw2*1.6022e-19\n",
    "signal2=np.zeros(101)+hnu_signal2*raman_width_Hz/Aeff\n",
    "hnu_fundamental=1239.842/fundamental_wavelength*1.6022e-19\n",
    "Ps1_sat = hnu_fundamental*(np.pi*(coreD**2/4))/gammas/(sigmaa1064+sigmae1064)/tau\n",
    "print('Ps1_sat = ',Ps1_sat)\n",
    "P_ASE = P_ASE_1\n",
    "P_ones = np.ones(101)\n",
    "P_ASE_line = P_ones*P_ASE\n",
    "print('Initial ASE Power = ',P_ASE, 'Watt')\n",
    "fundamental_gain=fundamental_gain_us/(1+(np.sum(fundamental*Aeff)*40e-12*rep_rate+P_ASE)/Ps1_sat)\n",
    "print('Fundamental Gain = ', fundamental_gain)\n",
    "\n",
    "pg=figure(plot_width=450, plot_height=400, y_axis_type=\"log\")\n",
    "pg.min_border_top = 10\n",
    "pg.outline_line_width = 1\n",
    "pg.outline_line_alpha = 1\n",
    "pg.outline_line_color = \"black\"\n",
    "pg.background_fill_color = \"lightgrey\"\n",
    "pg.background_fill_alpha = 0.3\n",
    "\n",
    "label1=Label(x=10, y=300, x_units='screen', y_units='screen', text='Average Power',\n",
    "             text_font_size='10pt', text_color='darkblue')\n",
    "label2=Label(x=10, y=250, x_units='screen', y_units='screen', text='Pulse Energy',\n",
    "             text_font_size='10pt', text_color='darkblue')\n",
    "label3=Label(x=5, y=200, x_units='screen', y_units='screen', text='ASE Power',\n",
    "             text_font_size='10pt', text_color='darkblue')\n",
    "pg.add_layout(label1)\n",
    "pg.add_layout(label2)\n",
    "pg.add_layout(label3)\n",
    "\n",
    "pg.x_range = Range1d(-200,200)\n",
    "pg.y_range = Range1d(1e-4,1e6)\n",
    "cp=pg.line(t,fundamental*Aeff, legend=str(int(fundamental_wavelength))+\" nm\", color='blue', line_width=2)\n",
    "c=pg.line(t, signal1*Aeff, legend=\"1st Stokes\", color='green', line_width=2)\n",
    "c2=pg.line(t, signal2*Aeff, legend=\"2nd Stokes\", color='red', line_width=2)\n",
    "c3=pg.line(t,P_ASE_line, legend='ASE', color='blue', line_width=2, line_dash='dashed')\n",
    "pg.legend.location = \"top_right\"; pg.legend.background_fill_alpha = 0.7\n",
    "pg.xaxis.axis_label = 'Time (psec)'; pg.xaxis.axis_label_text_font_size = \"12pt\"\n",
    "pg.xaxis.major_label_text_font_size = \"12pt\"\n",
    "pg.yaxis.axis_label = 'Signal (Watt)'; pg.yaxis.axis_label_text_font_size = \"12pt\"\n",
    "pg.yaxis.major_label_text_font_size = \"12pt\"\n",
    "\n",
    "pc=figure(plot_width=450, plot_height=400, y_axis_type=\"log\")\n",
    "pc.outline_line_width = 1\n",
    "pc.outline_line_alpha = 1\n",
    "pc.outline_line_color = \"black\"\n",
    "pc.background_fill_color = \"lightgrey\"\n",
    "pc.background_fill_alpha = 0.3\n",
    "\n",
    "pc.x_range = Range1d(0,fiber_length)\n",
    "pc.xaxis.axis_label = 'Distance Along Fiber (meter)'; pc.xaxis.axis_label_text_font_size = \"12pt\"\n",
    "pc.xaxis.major_label_text_font_size = \"12pt\"\n",
    "pc.yaxis.axis_label = 'Pulse Energy (Joule)'; pc.yaxis.axis_label_text_font_size = \"12pt\"\n",
    "pc.yaxis.major_label_text_font_size = \"12pt\"\n",
    "\n",
    "doped_fiber_L = Span(location=Ldoped, dimension='height', line_color='black',\n",
    "                              line_dash='dashed', line_width=1)\n",
    "pc.add_layout(doped_fiber_L)\n",
    "\n",
    "nh=show(row(pg,pc),notebook_handle='true')\n",
    "\n",
    "import time\n",
    "t0 = time.time()\n",
    "\n",
    "rangen = int(fiber_length*1e2/delta_L)\n",
    "dopedn = int(Ldoped*1e2/delta_L)\n",
    "P = IntProgress(min=0, max=rangen, description='Progress', bar_style='success'); display(P)\n",
    "z=np.linspace(0,fiber_length,rangen+1)\n",
    "Epz=np.zeros(rangen+1)\n",
    "Es1pz=np.zeros(rangen+1)\n",
    "Es2z=np.zeros(rangen+1)\n",
    "Epz[0]=np.sum(fundamental*Aeff)*40e-12\n",
    "Es1pz[0]=np.sum((signal1-signal1[0])*Aeff)*40e-12\n",
    "Es2z[0]=np.sum(signal2*Aeff)*40e-12\n",
    "\n",
    "for i in range(rangen):\n",
    "    if i >= dopedn:\n",
    "        fundamental_gain=0\n",
    "    delta_signal1=fundamental*signal1*raman_gain*delta_L\n",
    "    signal1=signal1+delta_signal1\n",
    "    fundamental=fundamental-delta_signal1*stokesw1/fundamental_wavelength\n",
    "    fundamental=fundamental*(1+fundamental_gain*delta_L)\n",
    "    P_ASE = P_ASE*(1+fundamental_gain*delta_Ld)\n",
    "\n",
    "    delta_signal2=signal1*signal2*raman_gain*delta_L\n",
    "    signal2=signal2+delta_signal2\n",
    "    signal1=signal1-delta_signal2*stokesw1/stokesw2\n",
    "    Ybpump_power = Ybpump_power*(1-pump_loss*delta_L)\n",
    "    fundamental = fundamental*(1-fiber_loss*delta_L)\n",
    "    signal1 = signal1*(1-fiber_loss*delta_L)\n",
    "    signal2 = signal2*(1-fiber_loss*delta_L)\n",
    "    Nexc0 = Nexc0*(1-pump_loss*delta_L)\n",
    "    Nexc = Nexc0/(1+Nexc0/NYb)\n",
    "    pump_loss=pump_loss0*(1-Nexc/NYb)   \n",
    "    fundamental_gain_us=Nexc*sigmae1064\n",
    "    fundamental_gain=fundamental_gain_us/(1+(np.sum(fundamental*Aeff)*40e-12*rep_rate+P_ASE)/Ps1_sat)\n",
    "    c.data_source.data['y']=signal1*Aeff\n",
    "    cp.data_source.data['y']=fundamental*Aeff\n",
    "    c2.data_source.data['y']=signal2*Aeff\n",
    "    c3.data_source.data['y']=P_ones*P_ASE\n",
    "    \n",
    "    Es1pz[i+1]=np.sum(signal1*Aeff-seed_power)*4e-12\n",
    "    Es2z[i+1]=np.sum(signal2*Aeff)*4e-12\n",
    "    Epz[i+1]=np.sum(fundamental*Aeff)*4e-12\n",
    "    P.value=i\n",
    "    if i % 20 == 0 or i == rangen-1:\n",
    "        push_notebook(handle=nh)\n",
    "        time.sleep(.200)\n",
    "\n",
    "pc.line(z,Epz,color='blue',line_width=2,legend=str(int(fundamental_wavelength))+' nm')\n",
    "pc.line(z,Es1pz,color='green',line_width=2,legend=\"1st Stokes\")\n",
    "pc.line(z,Es2z,color='red',line_width=2,legend=\"2nd Stokes\")\n",
    "pc.legend.location = \"center_right\"\n",
    "push_notebook(handle=nh)\n",
    "\n",
    "max_ave_fpower=np.max(Epz)*rep_rate\n",
    "label1a=Label(x=10, y=280, x_units='screen', y_units='screen', text='= {} W'.format(\"%2.1e\" % max_ave_fpower),\n",
    "             text_font_size='10pt', text_color='darkblue')\n",
    "pg.add_layout(label1a)\n",
    "label2a=Label(x=10, y=230, x_units='screen', y_units='screen', text='= {} J'.format(\"%1.1e\" % np.max(Epz)),\n",
    "             text_font_size='10pt', text_color='darkblue')\n",
    "pg.add_layout(label2a)\n",
    "label3a=Label(x=10, y=180, x_units='screen', y_units='screen', text='= {} W'.format(\"%1.1e\" % P_ASE),\n",
    "             text_font_size='10pt', text_color='darkblue')\n",
    "pg.add_layout(label3a)\n",
    "push_notebook(handle=nh)\n",
    "\n",
    "np.save('fundamental_2.npy', fundamental)\n",
    "np.save('signal1_2.npy', signal1)\n",
    "np.save('signal2_2.npy', signal2)\n",
    "np.save('Aeff_2.npy', Aeff)\n",
    "np.save('P_ASE_2.npy', P_ASE)\n",
    "\n",
    "t1=time.time()\n",
    "print('elapsed time=',t1-t0)"
   ]
  },
  {
   "cell_type": "code",
   "execution_count": 85,
   "metadata": {
    "hide_input": true
   },
   "outputs": [
    {
     "data": {
      "application/vnd.jupyter.widget-view+json": {
       "model_id": "e01c91a0e46a4547bc873c96d0837a86",
       "version_major": 2,
       "version_minor": 0
      },
      "text/plain": [
       "HBox(children=(VBox(children=(Label(value='Core Diameter (micron)'), FloatText(value=30.0))), VBox(children=(L…"
      ]
     },
     "metadata": {},
     "output_type": "display_data"
    },
    {
     "data": {
      "application/vnd.jupyter.widget-view+json": {
       "model_id": "2267bdf313d04c189c7c4e170324e76e",
       "version_major": 2,
       "version_minor": 0
      },
      "text/plain": [
       "HBox(children=(VBox(children=(Label(value='Raman Shift (inverse cm)'), FloatText(value=450.0))), VBox(children…"
      ]
     },
     "metadata": {},
     "output_type": "display_data"
    },
    {
     "data": {
      "application/vnd.jupyter.widget-view+json": {
       "model_id": "f6645ebdda1744bdaeeb1b66944b8366",
       "version_major": 2,
       "version_minor": 0
      },
      "text/plain": [
       "HBox(children=(VBox(children=(Label(value='Yb concentration (ppm)'), FloatText(value=1200.0))), VBox(children=…"
      ]
     },
     "metadata": {},
     "output_type": "display_data"
    },
    {
     "data": {
      "application/vnd.jupyter.widget-view+json": {
       "model_id": "a7b6a931bb0646b5bc4602431edf7aba",
       "version_major": 2,
       "version_minor": 0
      },
      "text/plain": [
       "HBox(children=(VBox(children=(Label(value='Amplifier Insertion Loss (dB)'), FloatText(value=1.0))),))"
      ]
     },
     "metadata": {},
     "output_type": "display_data"
    },
    {
     "data": {
      "application/vnd.jupyter.widget-view+json": {
       "model_id": "256ee5916c8340f08cd2a1b7dec538aa",
       "version_major": 2,
       "version_minor": 0
      },
      "text/plain": [
       "HBox(children=(VBox(children=(Label(value='Seed Power (mW)'), FloatText(value=0.0))), VBox(children=(Label(val…"
      ]
     },
     "metadata": {},
     "output_type": "display_data"
    },
    {
     "data": {
      "application/vnd.jupyter.widget-view+json": {
       "model_id": "41527f3c9ad04488a60d9498f511c28c",
       "version_major": 2,
       "version_minor": 0
      },
      "text/plain": [
       "HBox(children=(VBox(children=(Label(value='Total Fiber Length (m)'), FloatText(value=4.0))), VBox(children=(La…"
      ]
     },
     "metadata": {},
     "output_type": "display_data"
    }
   ],
   "source": [
    "# Stage 3\n",
    "coreD_widget3=widgets.FloatText(value=30, disabled=False)\n",
    "cladD_widget3=widgets.FloatText(value=250, disabled=False)\n",
    "fiber_loss_widget3=widgets.FloatText(value=2.0, disabled=False)\n",
    "display(HBox([VBox([widgets.Label('Core Diameter (micron)'),coreD_widget3]),\n",
    "              VBox([widgets.Label('Cladding Diameter (micron)'),cladD_widget3]),\n",
    "             VBox([widgets.Label('Fiber Loss (dB/km)'),fiber_loss_widget3])]))\n",
    "\n",
    "rshift_widget3 = widgets.FloatText(value=450, disabled=False)\n",
    "raman_gain_widget3=widgets.FloatText(value=4, disabled=False)\n",
    "raman_width_widget3=widgets.FloatText(value=200, disabled=False)\n",
    "display(HBox([VBox([widgets.Label('Raman Shift (inverse cm)'), rshift_widget3]),\n",
    "              VBox([widgets.Label('Peak Raman Gain (10^-12 cm/W)'), raman_gain_widget3]),\n",
    "             VBox([widgets.Label('Raman Curve Width (inverse cm)'), raman_width_widget3])]))\n",
    "\n",
    "Yb_conc_widget3=widgets.FloatText(value=1200, disabled=False)\n",
    "Ybpump_power_widget3=widgets.FloatText(value=70, disabled=False)\n",
    "display(HBox([VBox([widgets.Label('Yb concentration (ppm)'), Yb_conc_widget3]),\n",
    "             VBox([widgets.Label('Yb Pump Power (W)'), Ybpump_power_widget3])]))\n",
    "\n",
    "insertion_loss_widget3=widgets.FloatText(value=1.0, disabled=False)\n",
    "display(HBox([VBox([widgets.Label('Amplifier Insertion Loss (dB)'), insertion_loss_widget3])]))\n",
    "\n",
    "seed_power_widget3=widgets.FloatText(value=0, disabled=False)\n",
    "seed_wavelength_widget3=widgets.FloatText(value=1125, disabled=False)\n",
    "display(HBox([VBox([widgets.Label('Seed Power (mW)'), seed_power_widget3]),\n",
    "              VBox([widgets.Label('Seed Wavelength (nm)'), seed_wavelength_widget3])]))\n",
    "\n",
    "fiber_length_widget3=widgets.FloatText(value=4, disabled=False)\n",
    "Ldoped_widget3=widgets.FloatText(value=4, disabled=False)\n",
    "delta_L_widget3=widgets.FloatText(value=1.0, disabled=False)\n",
    "display(HBox([VBox([widgets.Label('Total Fiber Length (m)'), fiber_length_widget3]),\n",
    "              VBox([widgets.Label('Doped Fiber Length (m)'), Ldoped_widget3]),\n",
    "              VBox([widgets.Label('Numerical Step Size (cm)'), delta_L_widget3])]))\n",
    "\n",
    "fundamental_2 = np.load('fundamental_2.npy')\n",
    "signal1_2 = np.load('signal1_2.npy')\n",
    "signal2_2 = np.load('signal2_2.npy')\n",
    "Aeff_2 = np.load('Aeff_2.npy')\n",
    "P_ASE_2 = np.load('P_ASE_2.npy')"
   ]
  },
  {
   "cell_type": "code",
   "execution_count": 88,
   "metadata": {
    "hide_input": true,
    "scrolled": false
   },
   "outputs": [
    {
     "name": "stdout",
     "output_type": "stream",
     "text": [
      "Unsaturated Yb Pump Loss = 7.29 (dB/m)\n",
      "NYb =  2.6497415999999996e+19\n",
      "Excited State Density Nexc0 = 6.86e+20 (#/cm^3)\n",
      "Excited State Density Nexc = 2.55e+19 (#/cm^3)\n",
      "Yb Pump Loss = 0.27 (dB/m)\n",
      "Intital Unsaturated Gain for Fundamental = 33.22 (dB/m)\n",
      "Ps1_sat =  0.659726371194385\n",
      "Initial ASE Power =  0.00016785362314498977 Watt\n",
      "Fundamental Gain =  0.013469232328528395\n"
     ]
    },
    {
     "data": {
      "text/html": [
       "\n",
       "<div class=\"bk-root\">\n",
       "    <div class=\"bk-plotdiv\" id=\"2fdaba63-8ad1-4d5d-9520-b64b9dcedc37\"></div>\n",
       "</div>"
      ]
     },
     "metadata": {},
     "output_type": "display_data"
    },
    {
     "data": {
      "application/javascript": [
       "(function(root) {\n",
       "  function embed_document(root) {\n",
       "    \n",
       "  var docs_json = {\"501e75ce-ef5b-412d-8f68-37991560dcfd\":{\"roots\":{\"references\":[{\"attributes\":{\"background_fill_alpha\":{\"value\":0.7},\"items\":[{\"id\":\"43ba6a17-b47d-455e-894b-81d1b2e11da9\",\"type\":\"LegendItem\"},{\"id\":\"1ae1ca6b-749f-4589-998c-470bbb723882\",\"type\":\"LegendItem\"},{\"id\":\"c26ce4af-e8cf-475a-a9e4-7144d7c92239\",\"type\":\"LegendItem\"},{\"id\":\"12f0be68-b0f2-4a8f-aec5-bc8c5658f000\",\"type\":\"LegendItem\"}],\"plot\":{\"id\":\"e11f80df-d404-4200-9fd3-0b0a556ec0a5\",\"subtype\":\"Figure\",\"type\":\"Plot\"}},\"id\":\"01d322e0-a473-42dd-8667-9b59307a00dd\",\"type\":\"Legend\"},{\"attributes\":{},\"id\":\"4f979065-4184-486c-b75d-97f908e169cd\",\"type\":\"Selection\"},{\"attributes\":{\"label\":{\"value\":\"1030 nm\"},\"renderers\":[{\"id\":\"d73a3ab9-ef38-4f16-bc22-215d68fb1d86\",\"type\":\"GlyphRenderer\"}]},\"id\":\"43ba6a17-b47d-455e-894b-81d1b2e11da9\",\"type\":\"LegendItem\"},{\"attributes\":{\"callback\":null,\"data\":{\"x\":{\"__ndarray__\":\"AAAAAAAAacAAAAAAAIBowAAAAAAAAGjAAAAAAACAZ8AAAAAAAABnwAAAAAAAgGbAAAAAAAAAZsAAAAAAAIBlwAAAAAAAAGXAAAAAAACAZMAAAAAAAABkwAAAAAAAgGPAAAAAAAAAY8AAAAAAAIBiwAAAAAAAAGLAAAAAAACAYcAAAAAAAABhwAAAAAAAgGDAAAAAAAAAYMAAAAAAAABfwAAAAAAAAF7AAAAAAAAAXcAAAAAAAABcwAAAAAAAAFvAAAAAAAAAWsAAAAAAAABZwAAAAAAAAFjAAAAAAAAAV8AAAAAAAABWwAAAAAAAAFXAAAAAAAAAVMAAAAAAAABTwAAAAAAAAFLAAAAAAAAAUcAAAAAAAABQwAAAAAAAAE7AAAAAAAAATMAAAAAAAABKwAAAAAAAAEjAAAAAAAAARsAAAAAAAABEwAAAAAAAAELAAAAAAAAAQMAAAAAAAAA8wAAAAAAAADjAAAAAAAAANMAAAAAAAAAwwAAAAAAAACjAAAAAAAAAIMAAAAAAAAAQwAAAAAAAAAAAAAAAAAAAEEAAAAAAAAAgQAAAAAAAAChAAAAAAAAAMEAAAAAAAAA0QAAAAAAAADhAAAAAAAAAPEAAAAAAAABAQAAAAAAAAEJAAAAAAAAAREAAAAAAAABGQAAAAAAAAEhAAAAAAAAASkAAAAAAAABMQAAAAAAAAE5AAAAAAAAAUEAAAAAAAABRQAAAAAAAAFJAAAAAAAAAU0AAAAAAAABUQAAAAAAAAFVAAAAAAAAAVkAAAAAAAABXQAAAAAAAAFhAAAAAAAAAWUAAAAAAAABaQAAAAAAAAFtAAAAAAAAAXEAAAAAAAABdQAAAAAAAAF5AAAAAAAAAX0AAAAAAAABgQAAAAAAAgGBAAAAAAAAAYUAAAAAAAIBhQAAAAAAAAGJAAAAAAACAYkAAAAAAAABjQAAAAAAAgGNAAAAAAAAAZEAAAAAAAIBkQAAAAAAAAGVAAAAAAACAZUAAAAAAAABmQAAAAAAAgGZAAAAAAAAAZ0AAAAAAAIBnQAAAAAAAAGhAAAAAAACAaEAAAAAAAABpQA==\",\"dtype\":\"float64\",\"shape\":[101]},\"y\":{\"__ndarray__\":\"khssEPXfsD6SGywQ9d+wPpIbLBD137A+khssEPXfsD6SGywQ9d+wPpIbLBD137A+khssEPXfsD6SGywQ9d+wPpIbLBD137A+khssEPXfsD6SGywQ9d+wPpIbLBD137A+khssEPXfsD6SGywQ9d+wPpIbLBD137A+khssEPXfsD6SGywQ9d+wPpIbLBD137A+khssEPXfsD6SGywQ9d+wPpIbLBD137A+khssEPXfsD6SGywQ9d+wPpIbLBD137A+khssEPXfsD6SGywQ9d+wPpIbLBD137A+khssEPXfsD6SGywQ9d+wPpIbLBD137A+khssEPXfsD6SGywQ9d+wPpIbLBD137A+khssEPXfsD6SGywQ9d+wPpIbLBD137A+khssEPXfsD6SGywQ9d+wPpIbLBD137A+khssEPXfsD6SGywQ9d+wPpIbLBD137A+khssEPXfsD6SGywQ9d+wPpIbLBD137A+khssEPXfsD6SGywQ9d+wPpIbLBD137A+khssEPXfsD6SGywQ9d+wPpIbLBD137A+khssEPXfsD6SGywQ9d+wPpIbLBD137A+khssEPXfsD6SGywQ9d+wPpIbLBD137A+khssEPXfsD6SGywQ9d+wPpIbLBD137A+khssEPXfsD6SGywQ9d+wPpIbLBD137A+khssEPXfsD6SGywQ9d+wPpIbLBD137A+khssEPXfsD6SGywQ9d+wPpIbLBD137A+khssEPXfsD6SGywQ9d+wPpIbLBD137A+khssEPXfsD6SGywQ9d+wPpIbLBD137A+khssEPXfsD6SGywQ9d+wPpIbLBD137A+khssEPXfsD6SGywQ9d+wPpIbLBD137A+khssEPXfsD6SGywQ9d+wPpIbLBD137A+khssEPXfsD6SGywQ9d+wPpIbLBD137A+khssEPXfsD6SGywQ9d+wPpIbLBD137A+khssEPXfsD6SGywQ9d+wPpIbLBD137A+khssEPXfsD6SGywQ9d+wPpIbLBD137A+khssEPXfsD6SGywQ9d+wPpIbLBD137A+khssEPXfsD6SGywQ9d+wPg==\",\"dtype\":\"float64\",\"shape\":[101]}},\"selected\":{\"id\":\"0f23eec4-3a7c-485e-b7cd-da9d8a17b8dc\",\"type\":\"Selection\"},\"selection_policy\":{\"id\":\"bc933396-f9e5-4538-b72e-4b96dbf5593e\",\"type\":\"UnionRenderers\"}},\"id\":\"faedbf9d-9877-437a-be60-9b3bd55449a6\",\"type\":\"ColumnDataSource\"},{\"attributes\":{\"line_alpha\":0.1,\"line_color\":\"#1f77b4\",\"line_width\":2,\"x\":{\"field\":\"x\"},\"y\":{\"field\":\"y\"}},\"id\":\"68120e0b-f168-40c0-8f71-9ccfd9c2f2f6\",\"type\":\"Line\"},{\"attributes\":{\"line_color\":\"green\",\"line_width\":2,\"x\":{\"field\":\"x\"},\"y\":{\"field\":\"y\"}},\"id\":\"f8e50887-167b-4864-942e-7367415d2357\",\"type\":\"Line\"},{\"attributes\":{\"source\":{\"id\":\"38723d32-26e3-4bdb-8cdf-d0595d610de0\",\"type\":\"ColumnDataSource\"}},\"id\":\"53d7df48-6043-415e-9b47-35c8658b0757\",\"type\":\"CDSView\"},{\"attributes\":{\"data_source\":{\"id\":\"38723d32-26e3-4bdb-8cdf-d0595d610de0\",\"type\":\"ColumnDataSource\"},\"glyph\":{\"id\":\"f8e50887-167b-4864-942e-7367415d2357\",\"type\":\"Line\"},\"hover_glyph\":null,\"muted_glyph\":null,\"nonselection_glyph\":{\"id\":\"68120e0b-f168-40c0-8f71-9ccfd9c2f2f6\",\"type\":\"Line\"},\"selection_glyph\":null,\"view\":{\"id\":\"53d7df48-6043-415e-9b47-35c8658b0757\",\"type\":\"CDSView\"}},\"id\":\"12adf0a1-c697-4a39-a5ad-dfd70f4c506b\",\"type\":\"GlyphRenderer\"},{\"attributes\":{\"callback\":null,\"data\":{\"x\":{\"__ndarray__\":\"AAAAAAAAacAAAAAAAIBowAAAAAAAAGjAAAAAAACAZ8AAAAAAAABnwAAAAAAAgGbAAAAAAAAAZsAAAAAAAIBlwAAAAAAAAGXAAAAAAACAZMAAAAAAAABkwAAAAAAAgGPAAAAAAAAAY8AAAAAAAIBiwAAAAAAAAGLAAAAAAACAYcAAAAAAAABhwAAAAAAAgGDAAAAAAAAAYMAAAAAAAABfwAAAAAAAAF7AAAAAAAAAXcAAAAAAAABcwAAAAAAAAFvAAAAAAAAAWsAAAAAAAABZwAAAAAAAAFjAAAAAAAAAV8AAAAAAAABWwAAAAAAAAFXAAAAAAAAAVMAAAAAAAABTwAAAAAAAAFLAAAAAAAAAUcAAAAAAAABQwAAAAAAAAE7AAAAAAAAATMAAAAAAAABKwAAAAAAAAEjAAAAAAAAARsAAAAAAAABEwAAAAAAAAELAAAAAAAAAQMAAAAAAAAA8wAAAAAAAADjAAAAAAAAANMAAAAAAAAAwwAAAAAAAACjAAAAAAAAAIMAAAAAAAAAQwAAAAAAAAAAAAAAAAAAAEEAAAAAAAAAgQAAAAAAAAChAAAAAAAAAMEAAAAAAAAA0QAAAAAAAADhAAAAAAAAAPEAAAAAAAABAQAAAAAAAAEJAAAAAAAAAREAAAAAAAABGQAAAAAAAAEhAAAAAAAAASkAAAAAAAABMQAAAAAAAAE5AAAAAAAAAUEAAAAAAAABRQAAAAAAAAFJAAAAAAAAAU0AAAAAAAABUQAAAAAAAAFVAAAAAAAAAVkAAAAAAAABXQAAAAAAAAFhAAAAAAAAAWUAAAAAAAABaQAAAAAAAAFtAAAAAAAAAXEAAAAAAAABdQAAAAAAAAF5AAAAAAAAAX0AAAAAAAABgQAAAAAAAgGBAAAAAAAAAYUAAAAAAAIBhQAAAAAAAAGJAAAAAAACAYkAAAAAAAABjQAAAAAAAgGNAAAAAAAAAZEAAAAAAAIBkQAAAAAAAAGVAAAAAAACAZUAAAAAAAABmQAAAAAAAgGZAAAAAAAAAZ0AAAAAAAIBnQAAAAAAAAGhAAAAAAACAaEAAAAAAAABpQA==\",\"dtype\":\"float64\",\"shape\":[101]},\"y\":{\"__ndarray__\":\"CRLTpDsAJj8JEtOkOwAmPwkS06Q7ACY/CRLTpDsAJj8JEtOkOwAmPwkS06Q7ACY/CRLTpDsAJj8JEtOkOwAmPwkS06Q7ACY/CRLTpDsAJj8JEtOkOwAmPwkS06Q7ACY/CRLTpDsAJj8JEtOkOwAmPwkS06Q7ACY/CRLTpDsAJj8JEtOkOwAmPwkS06Q7ACY/CRLTpDsAJj8JEtOkOwAmPwkS06Q7ACY/CRLTpDsAJj8JEtOkOwAmPwkS06Q7ACY/CRLTpDsAJj8JEtOkOwAmPwkS06Q7ACY/CRLTpDsAJj8JEtOkOwAmPwkS06Q7ACY/CRLTpDsAJj8JEtOkOwAmPwkS06Q7ACY/CRLTpDsAJj8JEtOkOwAmPwkS06Q7ACY/CRLTpDsAJj8JEtOkOwAmPwkS06Q7ACY/CRLTpDsAJj8JEtOkOwAmPwkS06Q7ACY/CRLTpDsAJj8JEtOkOwAmPwkS06Q7ACY/CRLTpDsAJj8JEtOkOwAmPwkS06Q7ACY/CRLTpDsAJj8JEtOkOwAmPwkS06Q7ACY/CRLTpDsAJj8JEtOkOwAmPwkS06Q7ACY/CRLTpDsAJj8JEtOkOwAmPwkS06Q7ACY/CRLTpDsAJj8JEtOkOwAmPwkS06Q7ACY/CRLTpDsAJj8JEtOkOwAmPwkS06Q7ACY/CRLTpDsAJj8JEtOkOwAmPwkS06Q7ACY/CRLTpDsAJj8JEtOkOwAmPwkS06Q7ACY/CRLTpDsAJj8JEtOkOwAmPwkS06Q7ACY/CRLTpDsAJj8JEtOkOwAmPwkS06Q7ACY/CRLTpDsAJj8JEtOkOwAmPwkS06Q7ACY/CRLTpDsAJj8JEtOkOwAmPwkS06Q7ACY/CRLTpDsAJj8JEtOkOwAmPwkS06Q7ACY/CRLTpDsAJj8JEtOkOwAmPwkS06Q7ACY/CRLTpDsAJj8JEtOkOwAmPwkS06Q7ACY/CRLTpDsAJj8JEtOkOwAmPwkS06Q7ACY/CRLTpDsAJj8JEtOkOwAmPwkS06Q7ACY/CRLTpDsAJj8JEtOkOwAmPwkS06Q7ACY/CRLTpDsAJj8JEtOkOwAmPw==\",\"dtype\":\"float64\",\"shape\":[101]}},\"selected\":{\"id\":\"5facd769-54f5-458f-9629-4bbe591d697b\",\"type\":\"Selection\"},\"selection_policy\":{\"id\":\"48592bf5-34c0-4a47-ad06-1c23ab6fcd7b\",\"type\":\"UnionRenderers\"}},\"id\":\"fc26050d-65fa-46fa-b2c7-7caa55e0229a\",\"type\":\"ColumnDataSource\"},{\"attributes\":{},\"id\":\"5783452c-5ded-4114-9676-e26324fbc575\",\"type\":\"UnionRenderers\"},{\"attributes\":{\"line_color\":\"red\",\"line_width\":2,\"x\":{\"field\":\"x\"},\"y\":{\"field\":\"y\"}},\"id\":\"7dd9a0f1-460a-4407-9096-9c798c361b0c\",\"type\":\"Line\"},{\"attributes\":{\"line_alpha\":0.1,\"line_color\":\"#1f77b4\",\"line_width\":2,\"x\":{\"field\":\"x\"},\"y\":{\"field\":\"y\"}},\"id\":\"9a9dac49-e6b1-439b-88db-5a4e05c0e5a3\",\"type\":\"Line\"},{\"attributes\":{},\"id\":\"a574bf4c-9574-4ff5-90ab-e26186cc8dd0\",\"type\":\"Selection\"},{\"attributes\":{\"label\":{\"value\":\"1st Stokes\"},\"renderers\":[{\"id\":\"12adf0a1-c697-4a39-a5ad-dfd70f4c506b\",\"type\":\"GlyphRenderer\"}]},\"id\":\"1ae1ca6b-749f-4589-998c-470bbb723882\",\"type\":\"LegendItem\"},{\"attributes\":{\"background_fill_alpha\":{\"value\":0.3},\"background_fill_color\":{\"value\":\"lightgrey\"},\"below\":[{\"id\":\"131eaa91-85a0-4d29-a22d-2b4f30b6847e\",\"type\":\"LinearAxis\"}],\"left\":[{\"id\":\"45e0dc1e-64b0-4eb7-a863-8c966933e7c9\",\"type\":\"LogAxis\"}],\"outline_line_color\":{\"value\":\"black\"},\"plot_height\":400,\"plot_width\":450,\"renderers\":[{\"id\":\"131eaa91-85a0-4d29-a22d-2b4f30b6847e\",\"type\":\"LinearAxis\"},{\"id\":\"f17effcf-4f10-4e7b-9483-d33dfee5bc25\",\"type\":\"Grid\"},{\"id\":\"45e0dc1e-64b0-4eb7-a863-8c966933e7c9\",\"type\":\"LogAxis\"},{\"id\":\"524dea28-b41b-4c90-8d94-6f4d278027c1\",\"type\":\"Grid\"},{\"id\":\"9eaaab45-e42a-404c-b3c6-d9fa66ada3ca\",\"type\":\"BoxAnnotation\"},{\"id\":\"846655dc-2137-4465-8ab1-710e4c379316\",\"type\":\"Span\"}],\"title\":{\"id\":\"5dff3a6d-1c46-489b-8b6b-d6fb2d83f2ba\",\"type\":\"Title\"},\"toolbar\":{\"id\":\"79fee102-0ea6-4a7b-bb6d-b94708fd31f9\",\"type\":\"Toolbar\"},\"x_range\":{\"id\":\"1ba7042f-5c58-41e9-b30d-270a574d2aff\",\"type\":\"Range1d\"},\"x_scale\":{\"id\":\"acec4c1e-7854-4902-b587-76745a2870f9\",\"type\":\"LinearScale\"},\"y_range\":{\"id\":\"e06e752c-abe8-4491-8a87-275241d7c948\",\"type\":\"DataRange1d\"},\"y_scale\":{\"id\":\"980eb2fd-f1e0-4d5d-84ff-e76cb745b996\",\"type\":\"LogScale\"}},\"id\":\"59eb2c8e-f67d-437b-84f3-ef0626084fae\",\"subtype\":\"Figure\",\"type\":\"Plot\"},{\"attributes\":{},\"id\":\"3383aa9b-a9ae-4b2b-b83c-c3e0b28aa00a\",\"type\":\"UnionRenderers\"},{\"attributes\":{\"source\":{\"id\":\"faedbf9d-9877-437a-be60-9b3bd55449a6\",\"type\":\"ColumnDataSource\"}},\"id\":\"aab135d8-8101-46b2-83c2-4203b1c44071\",\"type\":\"CDSView\"},{\"attributes\":{\"data_source\":{\"id\":\"faedbf9d-9877-437a-be60-9b3bd55449a6\",\"type\":\"ColumnDataSource\"},\"glyph\":{\"id\":\"7dd9a0f1-460a-4407-9096-9c798c361b0c\",\"type\":\"Line\"},\"hover_glyph\":null,\"muted_glyph\":null,\"nonselection_glyph\":{\"id\":\"9a9dac49-e6b1-439b-88db-5a4e05c0e5a3\",\"type\":\"Line\"},\"selection_glyph\":null,\"view\":{\"id\":\"aab135d8-8101-46b2-83c2-4203b1c44071\",\"type\":\"CDSView\"}},\"id\":\"abc67e43-d0c9-4163-9e9f-100abd2a7bc2\",\"type\":\"GlyphRenderer\"},{\"attributes\":{\"line_color\":\"blue\",\"line_dash\":[6],\"line_width\":2,\"x\":{\"field\":\"x\"},\"y\":{\"field\":\"y\"}},\"id\":\"5374bd8c-d4c4-4f18-b42a-cd7e8f14acca\",\"type\":\"Line\"},{\"attributes\":{\"line_alpha\":0.1,\"line_color\":\"#1f77b4\",\"line_dash\":[6],\"line_width\":2,\"x\":{\"field\":\"x\"},\"y\":{\"field\":\"y\"}},\"id\":\"6b5d7aef-32d8-4325-8036-5fb78d3318b6\",\"type\":\"Line\"},{\"attributes\":{},\"id\":\"0f23eec4-3a7c-485e-b7cd-da9d8a17b8dc\",\"type\":\"Selection\"},{\"attributes\":{\"label\":{\"value\":\"2nd Stokes\"},\"renderers\":[{\"id\":\"abc67e43-d0c9-4163-9e9f-100abd2a7bc2\",\"type\":\"GlyphRenderer\"}]},\"id\":\"c26ce4af-e8cf-475a-a9e4-7144d7c92239\",\"type\":\"LegendItem\"},{\"attributes\":{\"dimension\":\"height\",\"line_dash\":[6],\"location\":4.0,\"plot\":{\"id\":\"59eb2c8e-f67d-437b-84f3-ef0626084fae\",\"subtype\":\"Figure\",\"type\":\"Plot\"}},\"id\":\"846655dc-2137-4465-8ab1-710e4c379316\",\"type\":\"Span\"},{\"attributes\":{},\"id\":\"bc933396-f9e5-4538-b72e-4b96dbf5593e\",\"type\":\"UnionRenderers\"},{\"attributes\":{\"source\":{\"id\":\"fc26050d-65fa-46fa-b2c7-7caa55e0229a\",\"type\":\"ColumnDataSource\"}},\"id\":\"7a64f488-29de-46b0-9448-cc2d4a91d507\",\"type\":\"CDSView\"},{\"attributes\":{\"data_source\":{\"id\":\"fc26050d-65fa-46fa-b2c7-7caa55e0229a\",\"type\":\"ColumnDataSource\"},\"glyph\":{\"id\":\"5374bd8c-d4c4-4f18-b42a-cd7e8f14acca\",\"type\":\"Line\"},\"hover_glyph\":null,\"muted_glyph\":null,\"nonselection_glyph\":{\"id\":\"6b5d7aef-32d8-4325-8036-5fb78d3318b6\",\"type\":\"Line\"},\"selection_glyph\":null,\"view\":{\"id\":\"7a64f488-29de-46b0-9448-cc2d4a91d507\",\"type\":\"CDSView\"}},\"id\":\"7a208f28-c5d8-418f-a413-65fd59bb6944\",\"type\":\"GlyphRenderer\"},{\"attributes\":{\"active_drag\":\"auto\",\"active_inspect\":\"auto\",\"active_scroll\":\"auto\",\"active_tap\":\"auto\",\"tools\":[{\"id\":\"085d4453-90ec-4bdb-bf70-6c16955b56eb\",\"type\":\"PanTool\"},{\"id\":\"bd20af27-417b-4bf7-a174-0e0a2502062a\",\"type\":\"WheelZoomTool\"},{\"id\":\"49861151-ada6-4c68-beab-2ff67262a738\",\"type\":\"BoxZoomTool\"},{\"id\":\"8cfa5932-4c80-4e93-ac67-0cfe7ba45e76\",\"type\":\"SaveTool\"},{\"id\":\"664b3c77-3bfd-4a8a-9433-d7f744fe38a1\",\"type\":\"ResetTool\"},{\"id\":\"17d36e8f-0cf7-4557-a0d2-1efe5f45d390\",\"type\":\"HelpTool\"}]},\"id\":\"79fee102-0ea6-4a7b-bb6d-b94708fd31f9\",\"type\":\"Toolbar\"},{\"attributes\":{\"label\":{\"value\":\"ASE\"},\"renderers\":[{\"id\":\"7a208f28-c5d8-418f-a413-65fd59bb6944\",\"type\":\"GlyphRenderer\"}]},\"id\":\"12f0be68-b0f2-4a8f-aec5-bc8c5658f000\",\"type\":\"LegendItem\"},{\"attributes\":{\"plot\":{\"id\":\"59eb2c8e-f67d-437b-84f3-ef0626084fae\",\"subtype\":\"Figure\",\"type\":\"Plot\"},\"ticker\":{\"id\":\"468d3958-6402-4b53-82a5-0aaf151e046b\",\"type\":\"BasicTicker\"}},\"id\":\"f17effcf-4f10-4e7b-9483-d33dfee5bc25\",\"type\":\"Grid\"},{\"attributes\":{\"callback\":null},\"id\":\"e06e752c-abe8-4491-8a87-275241d7c948\",\"type\":\"DataRange1d\"},{\"attributes\":{},\"id\":\"980eb2fd-f1e0-4d5d-84ff-e76cb745b996\",\"type\":\"LogScale\"},{\"attributes\":{},\"id\":\"91d9a845-d9db-438d-9517-5657f2150839\",\"type\":\"BasicTickFormatter\"},{\"attributes\":{},\"id\":\"acec4c1e-7854-4902-b587-76745a2870f9\",\"type\":\"LinearScale\"},{\"attributes\":{\"axis_label\":\"Distance Along Fiber (meter)\",\"axis_label_text_font_size\":{\"value\":\"12pt\"},\"formatter\":{\"id\":\"91d9a845-d9db-438d-9517-5657f2150839\",\"type\":\"BasicTickFormatter\"},\"major_label_text_font_size\":{\"value\":\"12pt\"},\"plot\":{\"id\":\"59eb2c8e-f67d-437b-84f3-ef0626084fae\",\"subtype\":\"Figure\",\"type\":\"Plot\"},\"ticker\":{\"id\":\"468d3958-6402-4b53-82a5-0aaf151e046b\",\"type\":\"BasicTicker\"}},\"id\":\"131eaa91-85a0-4d29-a22d-2b4f30b6847e\",\"type\":\"LinearAxis\"},{\"attributes\":{},\"id\":\"468d3958-6402-4b53-82a5-0aaf151e046b\",\"type\":\"BasicTicker\"},{\"attributes\":{\"axis_label\":\"Pulse Energy (Joule)\",\"axis_label_text_font_size\":{\"value\":\"12pt\"},\"formatter\":{\"id\":\"84560c81-cd20-4740-8f71-c134b0a378bf\",\"type\":\"LogTickFormatter\"},\"major_label_text_font_size\":{\"value\":\"12pt\"},\"plot\":{\"id\":\"59eb2c8e-f67d-437b-84f3-ef0626084fae\",\"subtype\":\"Figure\",\"type\":\"Plot\"},\"ticker\":{\"id\":\"87a83690-54ce-4903-84d5-bccb49572f3a\",\"type\":\"LogTicker\"}},\"id\":\"45e0dc1e-64b0-4eb7-a863-8c966933e7c9\",\"type\":\"LogAxis\"},{\"attributes\":{\"num_minor_ticks\":10},\"id\":\"87a83690-54ce-4903-84d5-bccb49572f3a\",\"type\":\"LogTicker\"},{\"attributes\":{\"dimension\":1,\"plot\":{\"id\":\"59eb2c8e-f67d-437b-84f3-ef0626084fae\",\"subtype\":\"Figure\",\"type\":\"Plot\"},\"ticker\":{\"id\":\"87a83690-54ce-4903-84d5-bccb49572f3a\",\"type\":\"LogTicker\"}},\"id\":\"524dea28-b41b-4c90-8d94-6f4d278027c1\",\"type\":\"Grid\"},{\"attributes\":{},\"id\":\"48592bf5-34c0-4a47-ad06-1c23ab6fcd7b\",\"type\":\"UnionRenderers\"},{\"attributes\":{\"children\":[{\"id\":\"e11f80df-d404-4200-9fd3-0b0a556ec0a5\",\"subtype\":\"Figure\",\"type\":\"Plot\"},{\"id\":\"59eb2c8e-f67d-437b-84f3-ef0626084fae\",\"subtype\":\"Figure\",\"type\":\"Plot\"}]},\"id\":\"bf1ea71b-46cb-4bf0-bae0-689d8439f29b\",\"type\":\"Row\"},{\"attributes\":{\"callback\":null,\"data\":{\"x\":{\"__ndarray__\":\"AAAAAAAAacAAAAAAAIBowAAAAAAAAGjAAAAAAACAZ8AAAAAAAABnwAAAAAAAgGbAAAAAAAAAZsAAAAAAAIBlwAAAAAAAAGXAAAAAAACAZMAAAAAAAABkwAAAAAAAgGPAAAAAAAAAY8AAAAAAAIBiwAAAAAAAAGLAAAAAAACAYcAAAAAAAABhwAAAAAAAgGDAAAAAAAAAYMAAAAAAAABfwAAAAAAAAF7AAAAAAAAAXcAAAAAAAABcwAAAAAAAAFvAAAAAAAAAWsAAAAAAAABZwAAAAAAAAFjAAAAAAAAAV8AAAAAAAABWwAAAAAAAAFXAAAAAAAAAVMAAAAAAAABTwAAAAAAAAFLAAAAAAAAAUcAAAAAAAABQwAAAAAAAAE7AAAAAAAAATMAAAAAAAABKwAAAAAAAAEjAAAAAAAAARsAAAAAAAABEwAAAAAAAAELAAAAAAAAAQMAAAAAAAAA8wAAAAAAAADjAAAAAAAAANMAAAAAAAAAwwAAAAAAAACjAAAAAAAAAIMAAAAAAAAAQwAAAAAAAAAAAAAAAAAAAEEAAAAAAAAAgQAAAAAAAAChAAAAAAAAAMEAAAAAAAAA0QAAAAAAAADhAAAAAAAAAPEAAAAAAAABAQAAAAAAAAEJAAAAAAAAAREAAAAAAAABGQAAAAAAAAEhAAAAAAAAASkAAAAAAAABMQAAAAAAAAE5AAAAAAAAAUEAAAAAAAABRQAAAAAAAAFJAAAAAAAAAU0AAAAAAAABUQAAAAAAAAFVAAAAAAAAAVkAAAAAAAABXQAAAAAAAAFhAAAAAAAAAWUAAAAAAAABaQAAAAAAAAFtAAAAAAAAAXEAAAAAAAABdQAAAAAAAAF5AAAAAAAAAX0AAAAAAAABgQAAAAAAAgGBAAAAAAAAAYUAAAAAAAIBhQAAAAAAAAGJAAAAAAACAYkAAAAAAAABjQAAAAAAAgGNAAAAAAAAAZEAAAAAAAIBkQAAAAAAAAGVAAAAAAACAZUAAAAAAAABmQAAAAAAAgGZAAAAAAAAAZ0AAAAAAAIBnQAAAAAAAAGhAAAAAAACAaEAAAAAAAABpQA==\",\"dtype\":\"float64\",\"shape\":[101]},\"y\":{\"__ndarray__\":\"Yn7bTLqrxjBe/nIGh/BoMQt5MY71zQcyyrywlda2ozLKq2qQAlU8MxG+8x8PqtEzERvX74YcYzSJxaqX0fDxNETJOGvFOX01OKHKcnqnBDZai4MrblSJNom9ycXr8wo3Hfm0vWHiiDcTLNv3Hu8DOF/0o3fntXs4xcsl6iC28Dg63gfBJX1hOb0AgJmzws85T8rBCM4FOTpGsqI17xqhOpiTEll7SgQ7z43X13HiZDvPWXqSmabCO4zm4AtB5xw8Nsb8/phuczw8fttMuqvGPKN0T5v28hY91qn8CAgoZD3mRwyaoriuPQmNiPI+UPQ9RMQAiuRONz5sUUU7ezR3PsS2/01/C7Q+dHpDxRwM7j5Y8+NgQoojP0ADUEUGDVY/ZxnToFGXhT9bSIMy1FeyP+SvXX7qCts/NsfFxcRLAUBahTF9RzIjQLa2mfdsfEJAJzw2+l3kXkCXHDMdW2V2QOz4n+/mLIxAid2KtlzBnkDiQld96yCtQKwKtFvY77dAeTCxfTsRwUAXyP+UER7FQJmflEy6q8ZAF8j/lBEexUB5MLF9OxHBQKwKtFvY77dA4kJXfesgrUCJ3Yq2XMGeQOz4n+/mLIxAlxwzHVtldkAnPDb6XeReQLa2mfdsfEJAWoUxfUcyI0A2x8XFxEsBQOSvXX7qCts/W0iDMtRXsj9nGdOgUZeFP0ADUEUGDVY/WPPjYEKKIz90ekPFHAzuPsS2/01/C7Q+bFFFO3s0dz5ExACK5E43PgmNiPI+UPQ95kcMmqK4rj3WqfwICChkPaN0T5v28hY9PH7bTLqrxjw2xvz+mG5zPIzm4AtB5xw8z1l6kpmmwjvPjdfXceJkO5iTEll7SgQ7RrKiNe8aoTpPysEIzgU5Or0AgJmzws85Ot4HwSV9YTnFyyXqILbwOF/0o3fntXs4Eyzb9x7vAzgd+bS9YeKIN4m9ycXr8wo3WouDK25UiTY4ocpyeqcENkTJOGvFOX01icWql9Hw8TQRG9fvhhxjNBG+8x8PqtEzyqtqkAJVPDPKvLCV1rajMgt5MY71zQcyXv5yBofwaDFifttMuqvGMA==\",\"dtype\":\"float64\",\"shape\":[101]}},\"selected\":{\"id\":\"4f979065-4184-486c-b75d-97f908e169cd\",\"type\":\"Selection\"},\"selection_policy\":{\"id\":\"5783452c-5ded-4114-9676-e26324fbc575\",\"type\":\"UnionRenderers\"}},\"id\":\"be4ddea5-db59-40a0-8325-7a2ad4c1b212\",\"type\":\"ColumnDataSource\"},{\"attributes\":{\"callback\":null,\"end\":1000000.0,\"start\":0.0001},\"id\":\"d953392a-968e-46b8-93be-5fb509539f00\",\"type\":\"Range1d\"},{\"attributes\":{\"callback\":null,\"end\":4.0},\"id\":\"1ba7042f-5c58-41e9-b30d-270a574d2aff\",\"type\":\"Range1d\"},{\"attributes\":{\"active_drag\":\"auto\",\"active_inspect\":\"auto\",\"active_scroll\":\"auto\",\"active_tap\":\"auto\",\"tools\":[{\"id\":\"1a65671d-f277-45a7-bf7a-8b676e1be11e\",\"type\":\"PanTool\"},{\"id\":\"260f5373-1684-4418-bc92-37eee0d420ac\",\"type\":\"WheelZoomTool\"},{\"id\":\"121b8877-4462-45f7-93e0-8ead79d07f04\",\"type\":\"BoxZoomTool\"},{\"id\":\"876fde1c-ec22-4b2f-80a5-6518d6d8d0ce\",\"type\":\"SaveTool\"},{\"id\":\"7ae1d6f7-9760-4c5a-8bd0-ceb4fd619fee\",\"type\":\"ResetTool\"},{\"id\":\"9d3ddb1e-2a9a-4339-9f54-5878503fe0fd\",\"type\":\"HelpTool\"}]},\"id\":\"7c49ba31-f840-4dfa-8186-f957a3abc9d8\",\"type\":\"Toolbar\"},{\"attributes\":{\"bottom_units\":\"screen\",\"fill_alpha\":{\"value\":0.5},\"fill_color\":{\"value\":\"lightgrey\"},\"left_units\":\"screen\",\"level\":\"overlay\",\"line_alpha\":{\"value\":1.0},\"line_color\":{\"value\":\"black\"},\"line_dash\":[4,4],\"line_width\":{\"value\":2},\"plot\":null,\"render_mode\":\"css\",\"right_units\":\"screen\",\"top_units\":\"screen\"},\"id\":\"9eaaab45-e42a-404c-b3c6-d9fa66ada3ca\",\"type\":\"BoxAnnotation\"},{\"attributes\":{\"plot\":{\"id\":\"e11f80df-d404-4200-9fd3-0b0a556ec0a5\",\"subtype\":\"Figure\",\"type\":\"Plot\"},\"text\":\"Average Power\",\"text_color\":{\"value\":\"darkblue\"},\"text_font_size\":{\"value\":\"10pt\"},\"x\":10,\"x_units\":\"screen\",\"y\":300,\"y_units\":\"screen\"},\"id\":\"0f79a8c8-292a-4145-aeeb-2e4c57524548\",\"type\":\"Label\"},{\"attributes\":{},\"id\":\"085d4453-90ec-4bdb-bf70-6c16955b56eb\",\"type\":\"PanTool\"},{\"attributes\":{\"background_fill_alpha\":{\"value\":0.3},\"background_fill_color\":{\"value\":\"lightgrey\"},\"below\":[{\"id\":\"94f22cf1-6fbb-4586-b3cf-4dab4d5d0fcf\",\"type\":\"LinearAxis\"}],\"left\":[{\"id\":\"ce58ec0b-a786-49f5-adec-2e2571c30256\",\"type\":\"LogAxis\"}],\"min_border_top\":10,\"outline_line_color\":{\"value\":\"black\"},\"plot_height\":400,\"plot_width\":450,\"renderers\":[{\"id\":\"94f22cf1-6fbb-4586-b3cf-4dab4d5d0fcf\",\"type\":\"LinearAxis\"},{\"id\":\"af3d8c0a-887a-40e8-b1b9-7d5544752a6d\",\"type\":\"Grid\"},{\"id\":\"ce58ec0b-a786-49f5-adec-2e2571c30256\",\"type\":\"LogAxis\"},{\"id\":\"8247d427-a95b-49fa-ac18-f262b6fa1f8f\",\"type\":\"Grid\"},{\"id\":\"e80ca122-cdd5-4ad9-92bb-27962aa5f801\",\"type\":\"BoxAnnotation\"},{\"id\":\"0f79a8c8-292a-4145-aeeb-2e4c57524548\",\"type\":\"Label\"},{\"id\":\"f0b8b15a-af79-40c7-8245-8e740ed782b4\",\"type\":\"Label\"},{\"id\":\"b1d86f2d-df68-40bd-a101-7e6394bc916c\",\"type\":\"Label\"},{\"id\":\"01d322e0-a473-42dd-8667-9b59307a00dd\",\"type\":\"Legend\"},{\"id\":\"d73a3ab9-ef38-4f16-bc22-215d68fb1d86\",\"type\":\"GlyphRenderer\"},{\"id\":\"12adf0a1-c697-4a39-a5ad-dfd70f4c506b\",\"type\":\"GlyphRenderer\"},{\"id\":\"abc67e43-d0c9-4163-9e9f-100abd2a7bc2\",\"type\":\"GlyphRenderer\"},{\"id\":\"7a208f28-c5d8-418f-a413-65fd59bb6944\",\"type\":\"GlyphRenderer\"}],\"title\":{\"id\":\"a4a6fa86-afae-4be7-a152-5835a1383f3b\",\"type\":\"Title\"},\"toolbar\":{\"id\":\"7c49ba31-f840-4dfa-8186-f957a3abc9d8\",\"type\":\"Toolbar\"},\"x_range\":{\"id\":\"4224ec9c-5c5b-4b89-894e-03ef58ffb07e\",\"type\":\"Range1d\"},\"x_scale\":{\"id\":\"2b081b3b-5cf1-4bf1-aa5c-efea4f4782f7\",\"type\":\"LinearScale\"},\"y_range\":{\"id\":\"d953392a-968e-46b8-93be-5fb509539f00\",\"type\":\"Range1d\"},\"y_scale\":{\"id\":\"2eff4ece-1d28-4ffe-bb63-7b232618a3af\",\"type\":\"LogScale\"}},\"id\":\"e11f80df-d404-4200-9fd3-0b0a556ec0a5\",\"subtype\":\"Figure\",\"type\":\"Plot\"},{\"attributes\":{},\"id\":\"2a95b0c6-0f8b-404c-96b6-38d6f905fe8a\",\"type\":\"BasicTickFormatter\"},{\"attributes\":{},\"id\":\"bd20af27-417b-4bf7-a174-0e0a2502062a\",\"type\":\"WheelZoomTool\"},{\"attributes\":{},\"id\":\"2b081b3b-5cf1-4bf1-aa5c-efea4f4782f7\",\"type\":\"LinearScale\"},{\"attributes\":{\"overlay\":{\"id\":\"9eaaab45-e42a-404c-b3c6-d9fa66ada3ca\",\"type\":\"BoxAnnotation\"}},\"id\":\"49861151-ada6-4c68-beab-2ff67262a738\",\"type\":\"BoxZoomTool\"},{\"attributes\":{},\"id\":\"2eff4ece-1d28-4ffe-bb63-7b232618a3af\",\"type\":\"LogScale\"},{\"attributes\":{},\"id\":\"8cfa5932-4c80-4e93-ac67-0cfe7ba45e76\",\"type\":\"SaveTool\"},{\"attributes\":{\"plot\":{\"id\":\"e11f80df-d404-4200-9fd3-0b0a556ec0a5\",\"subtype\":\"Figure\",\"type\":\"Plot\"},\"ticker\":{\"id\":\"1401fbd8-19f5-4183-89f9-63083ed9b92b\",\"type\":\"BasicTicker\"}},\"id\":\"af3d8c0a-887a-40e8-b1b9-7d5544752a6d\",\"type\":\"Grid\"},{\"attributes\":{},\"id\":\"664b3c77-3bfd-4a8a-9433-d7f744fe38a1\",\"type\":\"ResetTool\"},{\"attributes\":{\"axis_label\":\"Time (psec)\",\"axis_label_text_font_size\":{\"value\":\"12pt\"},\"formatter\":{\"id\":\"2a95b0c6-0f8b-404c-96b6-38d6f905fe8a\",\"type\":\"BasicTickFormatter\"},\"major_label_text_font_size\":{\"value\":\"12pt\"},\"plot\":{\"id\":\"e11f80df-d404-4200-9fd3-0b0a556ec0a5\",\"subtype\":\"Figure\",\"type\":\"Plot\"},\"ticker\":{\"id\":\"1401fbd8-19f5-4183-89f9-63083ed9b92b\",\"type\":\"BasicTicker\"}},\"id\":\"94f22cf1-6fbb-4586-b3cf-4dab4d5d0fcf\",\"type\":\"LinearAxis\"},{\"attributes\":{},\"id\":\"17d36e8f-0cf7-4557-a0d2-1efe5f45d390\",\"type\":\"HelpTool\"},{\"attributes\":{},\"id\":\"1401fbd8-19f5-4183-89f9-63083ed9b92b\",\"type\":\"BasicTicker\"},{\"attributes\":{\"axis_label\":\"Signal (Watt)\",\"axis_label_text_font_size\":{\"value\":\"12pt\"},\"formatter\":{\"id\":\"72543a56-31aa-45da-8771-d0d4dd767e6b\",\"type\":\"LogTickFormatter\"},\"major_label_text_font_size\":{\"value\":\"12pt\"},\"plot\":{\"id\":\"e11f80df-d404-4200-9fd3-0b0a556ec0a5\",\"subtype\":\"Figure\",\"type\":\"Plot\"},\"ticker\":{\"id\":\"89d32ff3-d8f6-4b7c-b4fd-77064d9aff6e\",\"type\":\"LogTicker\"}},\"id\":\"ce58ec0b-a786-49f5-adec-2e2571c30256\",\"type\":\"LogAxis\"},{\"attributes\":{\"plot\":null,\"text\":\"\"},\"id\":\"5dff3a6d-1c46-489b-8b6b-d6fb2d83f2ba\",\"type\":\"Title\"},{\"attributes\":{\"num_minor_ticks\":10},\"id\":\"89d32ff3-d8f6-4b7c-b4fd-77064d9aff6e\",\"type\":\"LogTicker\"},{\"attributes\":{\"dimension\":1,\"plot\":{\"id\":\"e11f80df-d404-4200-9fd3-0b0a556ec0a5\",\"subtype\":\"Figure\",\"type\":\"Plot\"},\"ticker\":{\"id\":\"89d32ff3-d8f6-4b7c-b4fd-77064d9aff6e\",\"type\":\"LogTicker\"}},\"id\":\"8247d427-a95b-49fa-ac18-f262b6fa1f8f\",\"type\":\"Grid\"},{\"attributes\":{\"callback\":null,\"end\":200,\"start\":-200},\"id\":\"4224ec9c-5c5b-4b89-894e-03ef58ffb07e\",\"type\":\"Range1d\"},{\"attributes\":{\"plot\":{\"id\":\"e11f80df-d404-4200-9fd3-0b0a556ec0a5\",\"subtype\":\"Figure\",\"type\":\"Plot\"},\"text\":\"ASE Power\",\"text_color\":{\"value\":\"darkblue\"},\"text_font_size\":{\"value\":\"10pt\"},\"x\":5,\"x_units\":\"screen\",\"y\":200,\"y_units\":\"screen\"},\"id\":\"b1d86f2d-df68-40bd-a101-7e6394bc916c\",\"type\":\"Label\"},{\"attributes\":{\"plot\":{\"id\":\"e11f80df-d404-4200-9fd3-0b0a556ec0a5\",\"subtype\":\"Figure\",\"type\":\"Plot\"},\"text\":\"Pulse Energy\",\"text_color\":{\"value\":\"darkblue\"},\"text_font_size\":{\"value\":\"10pt\"},\"x\":10,\"x_units\":\"screen\",\"y\":250,\"y_units\":\"screen\"},\"id\":\"f0b8b15a-af79-40c7-8245-8e740ed782b4\",\"type\":\"Label\"},{\"attributes\":{\"ticker\":null},\"id\":\"84560c81-cd20-4740-8f71-c134b0a378bf\",\"type\":\"LogTickFormatter\"},{\"attributes\":{\"bottom_units\":\"screen\",\"fill_alpha\":{\"value\":0.5},\"fill_color\":{\"value\":\"lightgrey\"},\"left_units\":\"screen\",\"level\":\"overlay\",\"line_alpha\":{\"value\":1.0},\"line_color\":{\"value\":\"black\"},\"line_dash\":[4,4],\"line_width\":{\"value\":2},\"plot\":null,\"render_mode\":\"css\",\"right_units\":\"screen\",\"top_units\":\"screen\"},\"id\":\"e80ca122-cdd5-4ad9-92bb-27962aa5f801\",\"type\":\"BoxAnnotation\"},{\"attributes\":{},\"id\":\"1a65671d-f277-45a7-bf7a-8b676e1be11e\",\"type\":\"PanTool\"},{\"attributes\":{},\"id\":\"5facd769-54f5-458f-9629-4bbe591d697b\",\"type\":\"Selection\"},{\"attributes\":{\"line_color\":\"blue\",\"line_width\":2,\"x\":{\"field\":\"x\"},\"y\":{\"field\":\"y\"}},\"id\":\"4d1a153e-9b6f-438b-81c7-219bd510c1f1\",\"type\":\"Line\"},{\"attributes\":{},\"id\":\"260f5373-1684-4418-bc92-37eee0d420ac\",\"type\":\"WheelZoomTool\"},{\"attributes\":{\"overlay\":{\"id\":\"e80ca122-cdd5-4ad9-92bb-27962aa5f801\",\"type\":\"BoxAnnotation\"}},\"id\":\"121b8877-4462-45f7-93e0-8ead79d07f04\",\"type\":\"BoxZoomTool\"},{\"attributes\":{},\"id\":\"876fde1c-ec22-4b2f-80a5-6518d6d8d0ce\",\"type\":\"SaveTool\"},{\"attributes\":{},\"id\":\"7ae1d6f7-9760-4c5a-8bd0-ceb4fd619fee\",\"type\":\"ResetTool\"},{\"attributes\":{},\"id\":\"9d3ddb1e-2a9a-4339-9f54-5878503fe0fd\",\"type\":\"HelpTool\"},{\"attributes\":{\"line_alpha\":0.1,\"line_color\":\"#1f77b4\",\"line_width\":2,\"x\":{\"field\":\"x\"},\"y\":{\"field\":\"y\"}},\"id\":\"55a65096-7873-4738-b1b9-f5ff2197e593\",\"type\":\"Line\"},{\"attributes\":{\"callback\":null,\"data\":{\"x\":{\"__ndarray__\":\"AAAAAAAAacAAAAAAAIBowAAAAAAAAGjAAAAAAACAZ8AAAAAAAABnwAAAAAAAgGbAAAAAAAAAZsAAAAAAAIBlwAAAAAAAAGXAAAAAAACAZMAAAAAAAABkwAAAAAAAgGPAAAAAAAAAY8AAAAAAAIBiwAAAAAAAAGLAAAAAAACAYcAAAAAAAABhwAAAAAAAgGDAAAAAAAAAYMAAAAAAAABfwAAAAAAAAF7AAAAAAAAAXcAAAAAAAABcwAAAAAAAAFvAAAAAAAAAWsAAAAAAAABZwAAAAAAAAFjAAAAAAAAAV8AAAAAAAABWwAAAAAAAAFXAAAAAAAAAVMAAAAAAAABTwAAAAAAAAFLAAAAAAAAAUcAAAAAAAABQwAAAAAAAAE7AAAAAAAAATMAAAAAAAABKwAAAAAAAAEjAAAAAAAAARsAAAAAAAABEwAAAAAAAAELAAAAAAAAAQMAAAAAAAAA8wAAAAAAAADjAAAAAAAAANMAAAAAAAAAwwAAAAAAAACjAAAAAAAAAIMAAAAAAAAAQwAAAAAAAAAAAAAAAAAAAEEAAAAAAAAAgQAAAAAAAAChAAAAAAAAAMEAAAAAAAAA0QAAAAAAAADhAAAAAAAAAPEAAAAAAAABAQAAAAAAAAEJAAAAAAAAAREAAAAAAAABGQAAAAAAAAEhAAAAAAAAASkAAAAAAAABMQAAAAAAAAE5AAAAAAAAAUEAAAAAAAABRQAAAAAAAAFJAAAAAAAAAU0AAAAAAAABUQAAAAAAAAFVAAAAAAAAAVkAAAAAAAABXQAAAAAAAAFhAAAAAAAAAWUAAAAAAAABaQAAAAAAAAFtAAAAAAAAAXEAAAAAAAABdQAAAAAAAAF5AAAAAAAAAX0AAAAAAAABgQAAAAAAAgGBAAAAAAAAAYUAAAAAAAIBhQAAAAAAAAGJAAAAAAACAYkAAAAAAAABjQAAAAAAAgGNAAAAAAAAAZEAAAAAAAIBkQAAAAAAAAGVAAAAAAACAZUAAAAAAAABmQAAAAAAAgGZAAAAAAAAAZ0AAAAAAAIBnQAAAAAAAAGhAAAAAAACAaEAAAAAAAABpQA==\",\"dtype\":\"float64\",\"shape\":[101]},\"y\":{\"__ndarray__\":\"YACcvoX/xj5gAJy+hf/GPmAAnL6F/8Y+YACcvoX/xj5gAJy+hf/GPmAAnL6F/8Y+YACcvoX/xj5gAJy+hf/GPmAAnL6F/8Y+YACcvoX/xj5gAJy+hf/GPmAAnL6F/8Y+YACcvoX/xj5gAJy+hf/GPmAAnL6F/8Y+YACcvoX/xj5gAJy+hf/GPmAAnL6F/8Y+YACcvoX/xj5gAJy+hf/GPmAAnL6F/8Y+YACcvoX/xj5gAJy+hf/GPmAAnL6F/8Y+YACcvoX/xj5gAJy+hf/GPmAAnL6F/8Y+YACcvoX/xj5gAJy+hf/GPhQBnL6F/8Y+cg2cvoX/xj6F0Jy+hf/GPnE9p76F/8Y+v8Uiv4X/xj6GSRbEhf/GPjTID/CF/8Y+vIr6QYf/xj67VGQHkP/GPiTYwGTC/8Y+0O80G7wAxz4rYs9k6ATHPqkTq5NPFMc+rldpnnhFxz60R5rZHs7HPudjygMdHsk+V6MU2U0KzD7HOSOjawfRPjmAHk+etdY+zopwUs3W3z5oo8znkh/lPtOdDrKwm+c+aKPM55If5T7OinBSzdbfPjmAHk+etdY+xzkjo2sH0T5XoxTZTQrMPudjygMdHsk+tEea2R7Oxz6uV2meeEXHPqkTq5NPFMc+K2LPZOgExz7Q7zQbvADHPiTYwGTC/8Y+u1RkB5D/xj68ivpBh//GPjTID/CF/8Y+hkkWxIX/xj6/xSK/hf/GPnE9p76F/8Y+hdCcvoX/xj5yDZy+hf/GPhQBnL6F/8Y+YACcvoX/xj5gAJy+hf/GPmAAnL6F/8Y+YACcvoX/xj5gAJy+hf/GPmAAnL6F/8Y+YACcvoX/xj5gAJy+hf/GPmAAnL6F/8Y+YACcvoX/xj5gAJy+hf/GPmAAnL6F/8Y+YACcvoX/xj5gAJy+hf/GPmAAnL6F/8Y+YACcvoX/xj5gAJy+hf/GPmAAnL6F/8Y+YACcvoX/xj5gAJy+hf/GPmAAnL6F/8Y+YACcvoX/xj5gAJy+hf/GPmAAnL6F/8Y+YACcvoX/xj5gAJy+hf/GPmAAnL6F/8Y+YACcvoX/xj5gAJy+hf/GPg==\",\"dtype\":\"float64\",\"shape\":[101]}},\"selected\":{\"id\":\"a574bf4c-9574-4ff5-90ab-e26186cc8dd0\",\"type\":\"Selection\"},\"selection_policy\":{\"id\":\"3383aa9b-a9ae-4b2b-b83c-c3e0b28aa00a\",\"type\":\"UnionRenderers\"}},\"id\":\"38723d32-26e3-4bdb-8cdf-d0595d610de0\",\"type\":\"ColumnDataSource\"},{\"attributes\":{\"data_source\":{\"id\":\"be4ddea5-db59-40a0-8325-7a2ad4c1b212\",\"type\":\"ColumnDataSource\"},\"glyph\":{\"id\":\"4d1a153e-9b6f-438b-81c7-219bd510c1f1\",\"type\":\"Line\"},\"hover_glyph\":null,\"muted_glyph\":null,\"nonselection_glyph\":{\"id\":\"55a65096-7873-4738-b1b9-f5ff2197e593\",\"type\":\"Line\"},\"selection_glyph\":null,\"view\":{\"id\":\"562e6333-3e0f-4075-9b6e-cfaa5e896952\",\"type\":\"CDSView\"}},\"id\":\"d73a3ab9-ef38-4f16-bc22-215d68fb1d86\",\"type\":\"GlyphRenderer\"},{\"attributes\":{\"source\":{\"id\":\"be4ddea5-db59-40a0-8325-7a2ad4c1b212\",\"type\":\"ColumnDataSource\"}},\"id\":\"562e6333-3e0f-4075-9b6e-cfaa5e896952\",\"type\":\"CDSView\"},{\"attributes\":{\"ticker\":null},\"id\":\"72543a56-31aa-45da-8771-d0d4dd767e6b\",\"type\":\"LogTickFormatter\"},{\"attributes\":{\"plot\":null,\"text\":\"\"},\"id\":\"a4a6fa86-afae-4be7-a152-5835a1383f3b\",\"type\":\"Title\"}],\"root_ids\":[\"bf1ea71b-46cb-4bf0-bae0-689d8439f29b\"]},\"title\":\"Bokeh Application\",\"version\":\"0.12.16\"}};\n",
       "  var render_items = [{\"docid\":\"501e75ce-ef5b-412d-8f68-37991560dcfd\",\"elementid\":\"2fdaba63-8ad1-4d5d-9520-b64b9dcedc37\",\"modelid\":\"bf1ea71b-46cb-4bf0-bae0-689d8439f29b\",\"notebook_comms_target\":\"a92fd84f-3b4e-4228-9ffe-df65a68f441d\"}];\n",
       "  root.Bokeh.embed.embed_items_notebook(docs_json, render_items);\n",
       "\n",
       "  }\n",
       "  if (root.Bokeh !== undefined) {\n",
       "    embed_document(root);\n",
       "  } else {\n",
       "    var attempts = 0;\n",
       "    var timer = setInterval(function(root) {\n",
       "      if (root.Bokeh !== undefined) {\n",
       "        embed_document(root);\n",
       "        clearInterval(timer);\n",
       "      }\n",
       "      attempts++;\n",
       "      if (attempts > 100) {\n",
       "        console.log(\"Bokeh: ERROR: Unable to run BokehJS code because BokehJS library is missing\")\n",
       "        clearInterval(timer);\n",
       "      }\n",
       "    }, 10, root)\n",
       "  }\n",
       "})(window);"
      ],
      "application/vnd.bokehjs_exec.v0+json": ""
     },
     "metadata": {
      "application/vnd.bokehjs_exec.v0+json": {
       "id": "bf1ea71b-46cb-4bf0-bae0-689d8439f29b"
      }
     },
     "output_type": "display_data"
    },
    {
     "data": {
      "application/vnd.jupyter.widget-view+json": {
       "model_id": "c5ba3824914b4fc3880594aa69498240",
       "version_major": 2,
       "version_minor": 0
      },
      "text/plain": [
       "IntProgress(value=0, bar_style='success', description='Progress', max=400)"
      ]
     },
     "metadata": {},
     "output_type": "display_data"
    },
    {
     "name": "stdout",
     "output_type": "stream",
     "text": [
      "elapsed time= 11.340692281723022\n"
     ]
    }
   ],
   "source": [
    "# Stage 3\n",
    "coreD = coreD_widget3.value*1e-4 # Core diameter in cm\n",
    "cladD = cladD_widget3.value*1e-4 # Cladding diameter in cm\n",
    "fiber_loss = fiber_loss_widget3.value/4.34/1e5 # background loss in optical fiber in inverse cm\n",
    "rshift = rshift_widget3.value # Raman shift in inverse cm\n",
    "raman_gain = raman_gain_widget3.value*1e-12 # Peak Raman Gain in cm/W\n",
    "raman_width = raman_width_widget3.value\n",
    "Yb_conc = Yb_conc_widget3.value # Yb concentration ppm\n",
    "Ybpump_power = Ybpump_power_widget3.value # Yb pump power in W\n",
    "insertion_loss = 10**(-insertion_loss_widget3.value/10)\n",
    "stokesw1 = seed_wavelength_widget3.value # Wavelength of 1st Stokes signal in nm\n",
    "stokesw2 = 1e7/(-rshift_widget3.value+1e7/stokesw1) # Wavelength of 2st Stokes signal in nm\n",
    "seed_power = seed_power_widget3.value/1000*insertion_loss # power in Watt\n",
    "fiber_length = fiber_length_widget3.value # total fiber Length in meters\n",
    "Ldoped = Ldoped_widget3.value # length of doped fiber in meters at beginning of fiber\n",
    "delta_L = delta_L_widget3.value # numerical distance increment in cm\n",
    "\n",
    "pump_loss0 = sigmaa976*Yb_conc*1e-6*6.02214e23*2.2/60*(coreD**2/cladD**2) # unsaturated pump loss in inverse cm\n",
    "print('Unsaturated Yb Pump Loss = %4.2f (dB/m)' % (pump_loss0*100*4.34))\n",
    "NYb = Yb_conc*1e-6*6.02214e23*2.2/60 # Yb concentration in inverse cubic cm\n",
    "print('NYb = ', NYb)\n",
    "Nexc0 = Ybpump_power/(np.pi*cladD**2/4)*pump_loss0*tau/hnu_pump/(coreD**2/cladD**2) # Excited State Density - Unsat Pump Loss\n",
    "Nexc = Nexc0/(1+Nexc0/NYb)\n",
    "print('Excited State Density Nexc0 = %4.2e (#/cm^3)' % Nexc0)\n",
    "print('Excited State Density Nexc = %4.2e (#/cm^3)' % Nexc)\n",
    "pump_loss=pump_loss0*(1-Nexc/NYb)\n",
    "print('Yb Pump Loss = %4.2f (dB/m)' % (pump_loss*100*4.34))\n",
    "fundamental_gain_us=Nexc*sigmae1064 # unsaturated gain of the fundamental in inverse cm\n",
    "print('Intital Unsaturated Gain for Fundamental = %4.2f (dB/m)' % (fundamental_gain_us*100*4.34))\n",
    "Aeff = np.pi*(coreD/2)**2/(-np.log(1-gammas)/2) # Effective area for signals in core\n",
    "raman_width_Hz = raman_width/(1e7/stokesw1)*(3e17/stokesw1) # Width of equivalent spontaneous Raman input in Hz \n",
    "\n",
    "t=np.linspace(-200,200,101)\n",
    "fundamental=fundamental_2*Aeff_2/Aeff*insertion_loss\n",
    "hnu_signal1=1239.842/stokesw1*1.6022e-19\n",
    "signal1=signal1_2*Aeff_2/Aeff*insertion_loss+seed_power/Aeff+hnu_signal1*raman_width_Hz/Aeff\n",
    "seed_power=seed_power*insertion_loss\n",
    "hnu_signal2=1239.842/stokesw2*1.6022e-19\n",
    "signal2=np.zeros(101)+hnu_signal2*raman_width_Hz/Aeff\n",
    "hnu_fundamental=1239.842/fundamental_wavelength*1.6022e-19\n",
    "Ps1_sat = hnu_fundamental*(np.pi*(coreD**2/4))/gammas/(sigmaa1064+sigmae1064)/tau\n",
    "print('Ps1_sat = ',Ps1_sat)\n",
    "P_ASE = P_ASE_2\n",
    "P_ones = np.ones(101)\n",
    "P_ASE_line = P_ones*P_ASE\n",
    "print('Initial ASE Power = ',P_ASE, 'Watt')\n",
    "fundamental_gain=fundamental_gain_us/(1+(np.sum(fundamental*Aeff)*40e-12*rep_rate+P_ASE)/Ps1_sat)\n",
    "print('Fundamental Gain = ', fundamental_gain)\n",
    "\n",
    "pg=figure(plot_width=450, plot_height=400, y_axis_type=\"log\")\n",
    "pg.min_border_top = 10\n",
    "pg.outline_line_width = 1\n",
    "pg.outline_line_alpha = 1\n",
    "pg.outline_line_color = \"black\"\n",
    "pg.background_fill_color = \"lightgrey\"\n",
    "pg.background_fill_alpha = 0.3\n",
    "\n",
    "label1=Label(x=10, y=300, x_units='screen', y_units='screen', text='Average Power',\n",
    "             text_font_size='10pt', text_color='darkblue')\n",
    "label2=Label(x=10, y=250, x_units='screen', y_units='screen', text='Pulse Energy',\n",
    "             text_font_size='10pt', text_color='darkblue')\n",
    "label3=Label(x=5, y=200, x_units='screen', y_units='screen', text='ASE Power',\n",
    "             text_font_size='10pt', text_color='darkblue')\n",
    "pg.add_layout(label1)\n",
    "pg.add_layout(label2)\n",
    "pg.add_layout(label3)\n",
    "\n",
    "pg.x_range = Range1d(-200,200)\n",
    "pg.y_range = Range1d(1e-4,1e6)\n",
    "cp=pg.line(t,fundamental*Aeff, legend=str(int(fundamental_wavelength))+\" nm\", color='blue', line_width=2)\n",
    "c=pg.line(t, signal1*Aeff, legend=\"1st Stokes\", color='green', line_width=2)\n",
    "c2=pg.line(t, signal2*Aeff, legend=\"2nd Stokes\", color='red', line_width=2)\n",
    "c3=pg.line(t,P_ASE_line, legend='ASE', color='blue', line_width=2, line_dash='dashed')\n",
    "pg.legend.location = \"top_right\"; pg.legend.background_fill_alpha = 0.7\n",
    "pg.xaxis.axis_label = 'Time (psec)'; pg.xaxis.axis_label_text_font_size = \"12pt\"\n",
    "pg.xaxis.major_label_text_font_size = \"12pt\"\n",
    "pg.yaxis.axis_label = 'Signal (Watt)'; pg.yaxis.axis_label_text_font_size = \"12pt\"\n",
    "pg.yaxis.major_label_text_font_size = \"12pt\"\n",
    "\n",
    "pc=figure(plot_width=450, plot_height=400, y_axis_type=\"log\")\n",
    "pc.outline_line_width = 1\n",
    "pc.outline_line_alpha = 1\n",
    "pc.outline_line_color = \"black\"\n",
    "pc.background_fill_color = \"lightgrey\"\n",
    "pc.background_fill_alpha = 0.3\n",
    "\n",
    "pc.x_range = Range1d(0,fiber_length)\n",
    "pc.xaxis.axis_label = 'Distance Along Fiber (meter)'; pc.xaxis.axis_label_text_font_size = \"12pt\"\n",
    "pc.xaxis.major_label_text_font_size = \"12pt\"\n",
    "pc.yaxis.axis_label = 'Pulse Energy (Joule)'; pc.yaxis.axis_label_text_font_size = \"12pt\"\n",
    "pc.yaxis.major_label_text_font_size = \"12pt\"\n",
    "\n",
    "doped_fiber_L = Span(location=Ldoped, dimension='height', line_color='black',\n",
    "                              line_dash='dashed', line_width=1)\n",
    "pc.add_layout(doped_fiber_L)\n",
    "\n",
    "nh=show(row(pg,pc),notebook_handle='true')\n",
    "\n",
    "import time\n",
    "t0 = time.time()\n",
    "\n",
    "rangen = int(fiber_length*1e2/delta_L)\n",
    "dopedn = int(Ldoped*1e2/delta_L)\n",
    "P = IntProgress(min=0, max=rangen, description='Progress', bar_style='success'); display(P)\n",
    "z=np.linspace(0,fiber_length,rangen+1)\n",
    "Epz=np.zeros(rangen+1)\n",
    "Es1pz=np.zeros(rangen+1)\n",
    "Es2z=np.zeros(rangen+1)\n",
    "Epz[0]=np.sum(fundamental*Aeff)*40e-12\n",
    "Es1pz[0]=np.sum((signal1-signal1[0])*Aeff)*40e-12\n",
    "Es2z[0]=np.sum(signal2*Aeff)*40e-12\n",
    "\n",
    "for i in range(rangen):\n",
    "    if i >= dopedn:\n",
    "        fundamental_gain=0\n",
    "    delta_signal1=fundamental*signal1*raman_gain*delta_L\n",
    "    signal1=signal1+delta_signal1\n",
    "    fundamental=fundamental-delta_signal1*stokesw1/fundamental_wavelength\n",
    "    fundamental=fundamental*(1+fundamental_gain*delta_L)\n",
    "    P_ASE = P_ASE*(1+fundamental_gain*delta_Ld)\n",
    "\n",
    "    delta_signal2=signal1*signal2*raman_gain*delta_L\n",
    "    signal2=signal2+delta_signal2\n",
    "    signal1=signal1-delta_signal2*stokesw1/stokesw2\n",
    "    Ybpump_power = Ybpump_power*(1-pump_loss*delta_L)\n",
    "    fundamental = fundamental*(1-fiber_loss*delta_L)\n",
    "    signal1 = signal1*(1-fiber_loss*delta_L)\n",
    "    signal2 = signal2*(1-fiber_loss*delta_L)\n",
    "    Nexc0 = Nexc0*(1-pump_loss*delta_L)\n",
    "    Nexc = Nexc0/(1+Nexc0/NYb)\n",
    "    pump_loss=pump_loss0*(1-Nexc/NYb)   \n",
    "    fundamental_gain_us=Nexc*sigmae1064\n",
    "    fundamental_gain=fundamental_gain_us/(1+(np.sum(fundamental*Aeff)*40e-12*rep_rate+P_ASE)/Ps1_sat)\n",
    "    c.data_source.data['y']=signal1*Aeff\n",
    "    cp.data_source.data['y']=fundamental*Aeff\n",
    "    c2.data_source.data['y']=signal2*Aeff\n",
    "    c3.data_source.data['y']=P_ones*P_ASE\n",
    "    \n",
    "    Es1pz[i+1]=np.sum(signal1*Aeff-seed_power)*4e-12\n",
    "    Es2z[i+1]=np.sum(signal2*Aeff)*4e-12\n",
    "    Epz[i+1]=np.sum(fundamental*Aeff)*4e-12\n",
    "    P.value=i\n",
    "    if i % 40 == 0 or i == rangen-1:\n",
    "        push_notebook(handle=nh)\n",
    "        time.sleep(.200)\n",
    "\n",
    "pc.line(z,Epz,color='blue',line_width=2,legend='Fundmenal @ '+str(int(fundamental_wavelength))+' nm')\n",
    "pc.line(z,Es1pz,color='green',line_width=2,legend=\"1st Stokes @ \"+str(int(round(stokesw1)))+\" nm\")\n",
    "pc.line(z,Es2z,color='red',line_width=2,legend=\"2nd Stokes @ \"+str(int(round(stokesw2)))+\" nm\")\n",
    "pc.legend.location = \"center_right\"\n",
    "push_notebook(handle=nh)\n",
    "\n",
    "max_ave_fpower=np.max(Epz)*rep_rate\n",
    "label1a=Label(x=10, y=280, x_units='screen', y_units='screen', text='= {} W'.format(\"%2.1e\" % max_ave_fpower),\n",
    "             text_font_size='10pt', text_color='darkblue')\n",
    "pg.add_layout(label1a)\n",
    "label2a=Label(x=10, y=230, x_units='screen', y_units='screen', text='= {} J'.format(\"%1.1e\" % np.max(Epz)),\n",
    "             text_font_size='10pt', text_color='darkblue')\n",
    "pg.add_layout(label2a)\n",
    "label3a=Label(x=10, y=180, x_units='screen', y_units='screen', text='= {} W'.format(\"%1.1e\" % P_ASE),\n",
    "             text_font_size='10pt', text_color='darkblue')\n",
    "pg.add_layout(label3a)\n",
    "push_notebook(handle=nh)\n",
    "\n",
    "np.save('fundamental_3.npy', fundamental)\n",
    "np.save('signal1_3.npy', signal1)\n",
    "np.save('signal2_3.npy', signal2)\n",
    "np.save('Aeff_3.npy', Aeff)\n",
    "\n",
    "t1=time.time()\n",
    "print('elapsed time=',t1-t0)"
   ]
  }
 ],
 "metadata": {
  "hide_input": false,
  "kernelspec": {
   "display_name": "Python 3",
   "language": "python",
   "name": "python3"
  },
  "language_info": {
   "codemirror_mode": {
    "name": "ipython",
    "version": 3
   },
   "file_extension": ".py",
   "mimetype": "text/x-python",
   "name": "python",
   "nbconvert_exporter": "python",
   "pygments_lexer": "ipython3",
   "version": "3.6.5"
  },
  "varInspector": {
   "cols": {
    "lenName": 16,
    "lenType": 16,
    "lenVar": 40
   },
   "kernels_config": {
    "python": {
     "delete_cmd_postfix": "",
     "delete_cmd_prefix": "del ",
     "library": "var_list.py",
     "varRefreshCmd": "print(var_dic_list())"
    },
    "r": {
     "delete_cmd_postfix": ") ",
     "delete_cmd_prefix": "rm(",
     "library": "var_list.r",
     "varRefreshCmd": "cat(var_dic_list()) "
    }
   },
   "position": {
    "height": "434px",
    "left": "686px",
    "right": "20px",
    "top": "89px",
    "width": "554px"
   },
   "types_to_exclude": [
    "module",
    "function",
    "builtin_function_or_method",
    "instance",
    "_Feature"
   ],
   "window_display": false
  }
 },
 "nbformat": 4,
 "nbformat_minor": 2
}
